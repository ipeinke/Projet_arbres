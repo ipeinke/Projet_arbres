{
 "cells": [
  {
   "cell_type": "code",
   "execution_count": 40,
   "metadata": {
    "slideshow": {
     "slide_type": "slide"
    }
   },
   "outputs": [],
   "source": [
    "# matplotlib notebook\n",
    "import pandas as pd\n",
    "import numpy as np\n",
    "import matplotlib.pyplot as plt\n",
    "import folium"
   ]
  },
  {
   "cell_type": "code",
   "execution_count": 9,
   "metadata": {
    "slideshow": {
     "slide_type": "subslide"
    }
   },
   "outputs": [],
   "source": [
    "df = pd.read_csv('~/Documents/Projet_arbre/data/arbres.csv', \n",
    "                 header = 0, index_col = False, names=None)\n"
   ]
  },
  {
   "cell_type": "code",
   "execution_count": null,
   "metadata": {},
   "outputs": [],
   "source": []
  },
  {
   "cell_type": "markdown",
   "metadata": {
    "slideshow": {
     "slide_type": "slide"
    }
   },
   "source": [
    "# Some introduction to Pandas"
   ]
  },
  {
   "cell_type": "markdown",
   "metadata": {
    "slideshow": {
     "slide_type": "subslide"
    }
   },
   "source": [
    "#### How to visualize the top and bottom x values in a data frame?"
   ]
  },
  {
   "cell_type": "code",
   "execution_count": 44,
   "metadata": {
    "slideshow": {
     "slide_type": "subslide"
    }
   },
   "outputs": [
    {
     "data": {
      "text/html": [
       "<div>\n",
       "<style scoped>\n",
       "    .dataframe tbody tr th:only-of-type {\n",
       "        vertical-align: middle;\n",
       "    }\n",
       "\n",
       "    .dataframe tbody tr th {\n",
       "        vertical-align: top;\n",
       "    }\n",
       "\n",
       "    .dataframe thead th {\n",
       "        text-align: right;\n",
       "    }\n",
       "</style>\n",
       "<table border=\"1\" class=\"dataframe\">\n",
       "  <thead>\n",
       "    <tr style=\"text-align: right;\">\n",
       "      <th></th>\n",
       "      <th>ELEM_POINT_ID</th>\n",
       "      <th>CODE</th>\n",
       "      <th>NOM</th>\n",
       "      <th>GENRE</th>\n",
       "      <th>GENRE_DESC</th>\n",
       "      <th>CATEGORIE</th>\n",
       "      <th>CATEGORIE_DESC</th>\n",
       "      <th>SOUS_CATEGORIE</th>\n",
       "      <th>SOUS_CATEGORIE_DESC</th>\n",
       "      <th>CODE_PARENT</th>\n",
       "      <th>...</th>\n",
       "      <th>IDENTIFIANTPLU</th>\n",
       "      <th>TYPEIMPLANTATIONPLU</th>\n",
       "      <th>INTITULEPROTECTIONPLU</th>\n",
       "      <th>ANNEEABATTAGE</th>\n",
       "      <th>ESSOUCHEMENT</th>\n",
       "      <th>DIAMETREARBRE</th>\n",
       "      <th>CAUSEABATTAGE</th>\n",
       "      <th>COLLECTIVITE</th>\n",
       "      <th>GeoJSON</th>\n",
       "      <th>GENRE_ESPECE</th>\n",
       "    </tr>\n",
       "  </thead>\n",
       "  <tbody>\n",
       "    <tr>\n",
       "      <td>31813</td>\n",
       "      <td>22285</td>\n",
       "      <td>ESP16645</td>\n",
       "      <td>ESP16645</td>\n",
       "      <td>VEG</td>\n",
       "      <td>VEGETATION</td>\n",
       "      <td>ESP01</td>\n",
       "      <td>Arbre</td>\n",
       "      <td>ESP174</td>\n",
       "      <td>Arbre d'espaces ouverts</td>\n",
       "      <td>ESP1171</td>\n",
       "      <td>...</td>\n",
       "      <td>NaN</td>\n",
       "      <td>NaN</td>\n",
       "      <td>NaN</td>\n",
       "      <td>NaN</td>\n",
       "      <td>NaN</td>\n",
       "      <td>NaN</td>\n",
       "      <td>NaN</td>\n",
       "      <td>Ville de Grenoble</td>\n",
       "      <td>{\"type\":\"Point\",\"coordinates\":[5.7383287393841...</td>\n",
       "      <td>Cedrus atlantica</td>\n",
       "    </tr>\n",
       "  </tbody>\n",
       "</table>\n",
       "<p>1 rows × 33 columns</p>\n",
       "</div>"
      ],
      "text/plain": [
       "       ELEM_POINT_ID      CODE       NOM GENRE  GENRE_DESC CATEGORIE  \\\n",
       "31813          22285  ESP16645  ESP16645   VEG  VEGETATION     ESP01   \n",
       "\n",
       "      CATEGORIE_DESC SOUS_CATEGORIE      SOUS_CATEGORIE_DESC CODE_PARENT  ...  \\\n",
       "31813          Arbre         ESP174  Arbre d'espaces ouverts     ESP1171  ...   \n",
       "\n",
       "      IDENTIFIANTPLU  TYPEIMPLANTATIONPLU INTITULEPROTECTIONPLU ANNEEABATTAGE  \\\n",
       "31813            NaN                  NaN                   NaN           NaN   \n",
       "\n",
       "      ESSOUCHEMENT DIAMETREARBRE CAUSEABATTAGE       COLLECTIVITE  \\\n",
       "31813          NaN           NaN           NaN  Ville de Grenoble   \n",
       "\n",
       "                                                 GeoJSON      GENRE_ESPECE  \n",
       "31813  {\"type\":\"Point\",\"coordinates\":[5.7383287393841...  Cedrus atlantica  \n",
       "\n",
       "[1 rows x 33 columns]"
      ]
     },
     "execution_count": 44,
     "metadata": {},
     "output_type": "execute_result"
    }
   ],
   "source": [
    "df.head(2) #top_values\n",
    "\n",
    "df.tail(1) #bottom_values\n"
   ]
  },
  {
   "cell_type": "code",
   "execution_count": 11,
   "metadata": {
    "slideshow": {
     "slide_type": "subslide"
    }
   },
   "outputs": [
    {
     "data": {
      "text/html": [
       "<div>\n",
       "<style scoped>\n",
       "    .dataframe tbody tr th:only-of-type {\n",
       "        vertical-align: middle;\n",
       "    }\n",
       "\n",
       "    .dataframe tbody tr th {\n",
       "        vertical-align: top;\n",
       "    }\n",
       "\n",
       "    .dataframe thead th {\n",
       "        text-align: right;\n",
       "    }\n",
       "</style>\n",
       "<table border=\"1\" class=\"dataframe\">\n",
       "  <thead>\n",
       "    <tr style=\"text-align: right;\">\n",
       "      <th></th>\n",
       "      <th>NOM</th>\n",
       "      <th>GENRE_DESC</th>\n",
       "    </tr>\n",
       "  </thead>\n",
       "  <tbody>\n",
       "    <tr>\n",
       "      <td>0</td>\n",
       "      <td>ESP32632</td>\n",
       "      <td>VEGETATION</td>\n",
       "    </tr>\n",
       "    <tr>\n",
       "      <td>1</td>\n",
       "      <td>ESP32631</td>\n",
       "      <td>VEGETATION</td>\n",
       "    </tr>\n",
       "    <tr>\n",
       "      <td>2</td>\n",
       "      <td>ESP32630</td>\n",
       "      <td>VEGETATION</td>\n",
       "    </tr>\n",
       "    <tr>\n",
       "      <td>3</td>\n",
       "      <td>ESP32629</td>\n",
       "      <td>VEGETATION</td>\n",
       "    </tr>\n",
       "    <tr>\n",
       "      <td>4</td>\n",
       "      <td>ESP32628</td>\n",
       "      <td>VEGETATION</td>\n",
       "    </tr>\n",
       "    <tr>\n",
       "      <td>5</td>\n",
       "      <td>ESP31995</td>\n",
       "      <td>VEGETATION</td>\n",
       "    </tr>\n",
       "    <tr>\n",
       "      <td>6</td>\n",
       "      <td>ESP31576</td>\n",
       "      <td>VEGETATION</td>\n",
       "    </tr>\n",
       "    <tr>\n",
       "      <td>7</td>\n",
       "      <td>ESP20708</td>\n",
       "      <td>VEGETATION</td>\n",
       "    </tr>\n",
       "    <tr>\n",
       "      <td>8</td>\n",
       "      <td>ESP20707</td>\n",
       "      <td>VEGETATION</td>\n",
       "    </tr>\n",
       "    <tr>\n",
       "      <td>9</td>\n",
       "      <td>ESP20706</td>\n",
       "      <td>VEGETATION</td>\n",
       "    </tr>\n",
       "  </tbody>\n",
       "</table>\n",
       "</div>"
      ],
      "text/plain": [
       "        NOM  GENRE_DESC\n",
       "0  ESP32632  VEGETATION\n",
       "1  ESP32631  VEGETATION\n",
       "2  ESP32630  VEGETATION\n",
       "3  ESP32629  VEGETATION\n",
       "4  ESP32628  VEGETATION\n",
       "5  ESP31995  VEGETATION\n",
       "6  ESP31576  VEGETATION\n",
       "7  ESP20708  VEGETATION\n",
       "8  ESP20707  VEGETATION\n",
       "9  ESP20706  VEGETATION"
      ]
     },
     "execution_count": 11,
     "metadata": {},
     "output_type": "execute_result"
    }
   ],
   "source": [
    "\n",
    "col = ['NOM', 'GENRE_DESC']\n",
    "df[col].head(10)\n",
    "#df[col].tail(1)\n"
   ]
  },
  {
   "cell_type": "markdown",
   "metadata": {
    "slideshow": {
     "slide_type": "slide"
    }
   },
   "source": [
    "#### How to get column names in a list?"
   ]
  },
  {
   "cell_type": "code",
   "execution_count": 12,
   "metadata": {},
   "outputs": [
    {
     "name": "stdout",
     "output_type": "stream",
     "text": [
      "['ELEM_POINT_ID', 'CODE', 'NOM', 'GENRE', 'GENRE_DESC', 'CATEGORIE', 'CATEGORIE_DESC', 'SOUS_CATEGORIE', 'SOUS_CATEGORIE_DESC', 'CODE_PARENT', 'CODE_PARENT_DESC', 'ADR_SECTEUR', 'BIEN_REFERENCE', 'GENRE_BOTA', 'ESPECE', 'VARIETE', 'STADEDEDEVELOPPEMENT', 'EQUIPE', 'REMARQUES', 'ANNEEDEPLANTATION', 'RAISONDEPLANTATION', 'TRAITEMENTCHENILLES', 'COURRIER', 'IDENTIFIANTPLU', 'TYPEIMPLANTATIONPLU', 'INTITULEPROTECTIONPLU', 'ANNEEABATTAGE', 'ESSOUCHEMENT', 'DIAMETREARBRE', 'CAUSEABATTAGE', 'COLLECTIVITE', 'GeoJSON']\n"
     ]
    }
   ],
   "source": [
    "col_names = df.columns.tolist()\n",
    "print(col_names)"
   ]
  },
  {
   "cell_type": "markdown",
   "metadata": {},
   "source": [
    "#### How to get the frequency of values in a series?"
   ]
  },
  {
   "cell_type": "code",
   "execution_count": 13,
   "metadata": {},
   "outputs": [
    {
     "data": {
      "text/plain": [
       "COURRIER                     0\n",
       "IDENTIFIANTPLU             606\n",
       "TYPEIMPLANTATIONPLU        606\n",
       "INTITULEPROTECTIONPLU      606\n",
       "ANNEEABATTAGE                0\n",
       "ESSOUCHEMENT                 0\n",
       "DIAMETREARBRE                0\n",
       "CAUSEABATTAGE                0\n",
       "COLLECTIVITE             30561\n",
       "GeoJSON                  31814\n",
       "dtype: int64"
      ]
     },
     "execution_count": 13,
     "metadata": {},
     "output_type": "execute_result"
    }
   ],
   "source": [
    "#df[col].value_counts() #returns a mapper of key,frequency pair\n",
    "df_counted = df[col_names[-10:]].count()\n",
    "\n",
    "df_counted\n",
    "#df_counted[col_names[1]] #to get frequency of a key value"
   ]
  },
  {
   "cell_type": "code",
   "execution_count": 14,
   "metadata": {},
   "outputs": [
    {
     "data": {
      "text/html": [
       "<div>\n",
       "<style scoped>\n",
       "    .dataframe tbody tr th:only-of-type {\n",
       "        vertical-align: middle;\n",
       "    }\n",
       "\n",
       "    .dataframe tbody tr th {\n",
       "        vertical-align: top;\n",
       "    }\n",
       "\n",
       "    .dataframe thead th {\n",
       "        text-align: right;\n",
       "    }\n",
       "</style>\n",
       "<table border=\"1\" class=\"dataframe\">\n",
       "  <thead>\n",
       "    <tr style=\"text-align: right;\">\n",
       "      <th></th>\n",
       "      <th>ELEM_POINT_ID</th>\n",
       "      <th>CODE</th>\n",
       "      <th>NOM</th>\n",
       "      <th>GENRE</th>\n",
       "      <th>GENRE_DESC</th>\n",
       "      <th>CATEGORIE</th>\n",
       "      <th>CATEGORIE_DESC</th>\n",
       "      <th>SOUS_CATEGORIE</th>\n",
       "      <th>SOUS_CATEGORIE_DESC</th>\n",
       "      <th>CODE_PARENT</th>\n",
       "      <th>...</th>\n",
       "      <th>COURRIER</th>\n",
       "      <th>IDENTIFIANTPLU</th>\n",
       "      <th>TYPEIMPLANTATIONPLU</th>\n",
       "      <th>INTITULEPROTECTIONPLU</th>\n",
       "      <th>ANNEEABATTAGE</th>\n",
       "      <th>ESSOUCHEMENT</th>\n",
       "      <th>DIAMETREARBRE</th>\n",
       "      <th>CAUSEABATTAGE</th>\n",
       "      <th>COLLECTIVITE</th>\n",
       "      <th>GeoJSON</th>\n",
       "    </tr>\n",
       "  </thead>\n",
       "  <tbody>\n",
       "    <tr>\n",
       "      <td>0</td>\n",
       "      <td>31906</td>\n",
       "      <td>ESP32632</td>\n",
       "      <td>ESP32632</td>\n",
       "      <td>VEG</td>\n",
       "      <td>VEGETATION</td>\n",
       "      <td>ESP01</td>\n",
       "      <td>Arbre</td>\n",
       "      <td>ESP174</td>\n",
       "      <td>Arbre d'espaces ouverts</td>\n",
       "      <td>ESP995</td>\n",
       "      <td>...</td>\n",
       "      <td>NaN</td>\n",
       "      <td>NaN</td>\n",
       "      <td>NaN</td>\n",
       "      <td>NaN</td>\n",
       "      <td>NaN</td>\n",
       "      <td>NaN</td>\n",
       "      <td>NaN</td>\n",
       "      <td>NaN</td>\n",
       "      <td>Ville de Grenoble</td>\n",
       "      <td>{\"type\":\"Point\",\"coordinates\":[5.7407272631197...</td>\n",
       "    </tr>\n",
       "    <tr>\n",
       "      <td>1</td>\n",
       "      <td>31905</td>\n",
       "      <td>ESP32631</td>\n",
       "      <td>ESP32631</td>\n",
       "      <td>VEG</td>\n",
       "      <td>VEGETATION</td>\n",
       "      <td>ESP01</td>\n",
       "      <td>Arbre</td>\n",
       "      <td>ESP174</td>\n",
       "      <td>Arbre d'espaces ouverts</td>\n",
       "      <td>ESP995</td>\n",
       "      <td>...</td>\n",
       "      <td>NaN</td>\n",
       "      <td>NaN</td>\n",
       "      <td>NaN</td>\n",
       "      <td>NaN</td>\n",
       "      <td>NaN</td>\n",
       "      <td>NaN</td>\n",
       "      <td>NaN</td>\n",
       "      <td>NaN</td>\n",
       "      <td>Ville de Grenoble</td>\n",
       "      <td>{\"type\":\"Point\",\"coordinates\":[5.7407481744995...</td>\n",
       "    </tr>\n",
       "    <tr>\n",
       "      <td>2</td>\n",
       "      <td>31904</td>\n",
       "      <td>ESP32630</td>\n",
       "      <td>ESP32630</td>\n",
       "      <td>VEG</td>\n",
       "      <td>VEGETATION</td>\n",
       "      <td>ESP01</td>\n",
       "      <td>Arbre</td>\n",
       "      <td>ESP174</td>\n",
       "      <td>Arbre d'espaces ouverts</td>\n",
       "      <td>ESP995</td>\n",
       "      <td>...</td>\n",
       "      <td>NaN</td>\n",
       "      <td>NaN</td>\n",
       "      <td>NaN</td>\n",
       "      <td>NaN</td>\n",
       "      <td>NaN</td>\n",
       "      <td>NaN</td>\n",
       "      <td>NaN</td>\n",
       "      <td>NaN</td>\n",
       "      <td>Ville de Grenoble</td>\n",
       "      <td>{\"type\":\"Point\",\"coordinates\":[5.7406973948781...</td>\n",
       "    </tr>\n",
       "    <tr>\n",
       "      <td>3</td>\n",
       "      <td>31903</td>\n",
       "      <td>ESP32629</td>\n",
       "      <td>ESP32629</td>\n",
       "      <td>VEG</td>\n",
       "      <td>VEGETATION</td>\n",
       "      <td>ESP01</td>\n",
       "      <td>Arbre</td>\n",
       "      <td>ESP174</td>\n",
       "      <td>Arbre d'espaces ouverts</td>\n",
       "      <td>ESP995</td>\n",
       "      <td>...</td>\n",
       "      <td>NaN</td>\n",
       "      <td>NaN</td>\n",
       "      <td>NaN</td>\n",
       "      <td>NaN</td>\n",
       "      <td>NaN</td>\n",
       "      <td>NaN</td>\n",
       "      <td>NaN</td>\n",
       "      <td>NaN</td>\n",
       "      <td>Ville de Grenoble</td>\n",
       "      <td>{\"type\":\"Point\",\"coordinates\":[5.7406754967071...</td>\n",
       "    </tr>\n",
       "    <tr>\n",
       "      <td>4</td>\n",
       "      <td>31902</td>\n",
       "      <td>ESP32628</td>\n",
       "      <td>ESP32628</td>\n",
       "      <td>VEG</td>\n",
       "      <td>VEGETATION</td>\n",
       "      <td>ESP01</td>\n",
       "      <td>Arbre</td>\n",
       "      <td>ESP174</td>\n",
       "      <td>Arbre d'espaces ouverts</td>\n",
       "      <td>ESP995</td>\n",
       "      <td>...</td>\n",
       "      <td>NaN</td>\n",
       "      <td>NaN</td>\n",
       "      <td>NaN</td>\n",
       "      <td>NaN</td>\n",
       "      <td>NaN</td>\n",
       "      <td>NaN</td>\n",
       "      <td>NaN</td>\n",
       "      <td>NaN</td>\n",
       "      <td>Ville de Grenoble</td>\n",
       "      <td>{\"type\":\"Point\",\"coordinates\":[5.7407015656395...</td>\n",
       "    </tr>\n",
       "    <tr>\n",
       "      <td>...</td>\n",
       "      <td>...</td>\n",
       "      <td>...</td>\n",
       "      <td>...</td>\n",
       "      <td>...</td>\n",
       "      <td>...</td>\n",
       "      <td>...</td>\n",
       "      <td>...</td>\n",
       "      <td>...</td>\n",
       "      <td>...</td>\n",
       "      <td>...</td>\n",
       "      <td>...</td>\n",
       "      <td>...</td>\n",
       "      <td>...</td>\n",
       "      <td>...</td>\n",
       "      <td>...</td>\n",
       "      <td>...</td>\n",
       "      <td>...</td>\n",
       "      <td>...</td>\n",
       "      <td>...</td>\n",
       "      <td>...</td>\n",
       "      <td>...</td>\n",
       "    </tr>\n",
       "    <tr>\n",
       "      <td>31809</td>\n",
       "      <td>11290</td>\n",
       "      <td>ESP18364</td>\n",
       "      <td>ESP18364</td>\n",
       "      <td>VEG</td>\n",
       "      <td>VEGETATION</td>\n",
       "      <td>ESP01</td>\n",
       "      <td>Arbre</td>\n",
       "      <td>ESP174</td>\n",
       "      <td>Arbre d'espaces ouverts</td>\n",
       "      <td>ESP1171</td>\n",
       "      <td>...</td>\n",
       "      <td>NaN</td>\n",
       "      <td>NaN</td>\n",
       "      <td>NaN</td>\n",
       "      <td>NaN</td>\n",
       "      <td>NaN</td>\n",
       "      <td>NaN</td>\n",
       "      <td>NaN</td>\n",
       "      <td>NaN</td>\n",
       "      <td>Grenoble Alpes Métropole</td>\n",
       "      <td>{\"type\":\"Point\",\"coordinates\":[5.7385133327466...</td>\n",
       "    </tr>\n",
       "    <tr>\n",
       "      <td>31810</td>\n",
       "      <td>11256</td>\n",
       "      <td>ESP18346</td>\n",
       "      <td>ESP18346</td>\n",
       "      <td>VEG</td>\n",
       "      <td>VEGETATION</td>\n",
       "      <td>ESP01</td>\n",
       "      <td>Arbre</td>\n",
       "      <td>ESP174</td>\n",
       "      <td>Arbre d'espaces ouverts</td>\n",
       "      <td>ESP1171</td>\n",
       "      <td>...</td>\n",
       "      <td>NaN</td>\n",
       "      <td>NaN</td>\n",
       "      <td>NaN</td>\n",
       "      <td>NaN</td>\n",
       "      <td>NaN</td>\n",
       "      <td>NaN</td>\n",
       "      <td>NaN</td>\n",
       "      <td>NaN</td>\n",
       "      <td>Grenoble Alpes Métropole</td>\n",
       "      <td>{\"type\":\"Point\",\"coordinates\":[5.7375284639688...</td>\n",
       "    </tr>\n",
       "    <tr>\n",
       "      <td>31811</td>\n",
       "      <td>14981</td>\n",
       "      <td>ESP17096</td>\n",
       "      <td>ESP17096</td>\n",
       "      <td>VEG</td>\n",
       "      <td>VEGETATION</td>\n",
       "      <td>ESP01</td>\n",
       "      <td>Arbre</td>\n",
       "      <td>ESP174</td>\n",
       "      <td>Arbre d'espaces ouverts</td>\n",
       "      <td>ESP1171</td>\n",
       "      <td>...</td>\n",
       "      <td>NaN</td>\n",
       "      <td>NaN</td>\n",
       "      <td>NaN</td>\n",
       "      <td>NaN</td>\n",
       "      <td>NaN</td>\n",
       "      <td>NaN</td>\n",
       "      <td>NaN</td>\n",
       "      <td>NaN</td>\n",
       "      <td>Grenoble Alpes Métropole</td>\n",
       "      <td>{\"type\":\"Point\",\"coordinates\":[5.7384331724843...</td>\n",
       "    </tr>\n",
       "    <tr>\n",
       "      <td>31812</td>\n",
       "      <td>14939</td>\n",
       "      <td>ESP17074</td>\n",
       "      <td>ESP17074</td>\n",
       "      <td>VEG</td>\n",
       "      <td>VEGETATION</td>\n",
       "      <td>ESP01</td>\n",
       "      <td>Arbre</td>\n",
       "      <td>ESP174</td>\n",
       "      <td>Arbre d'espaces ouverts</td>\n",
       "      <td>ESP1171</td>\n",
       "      <td>...</td>\n",
       "      <td>NaN</td>\n",
       "      <td>NaN</td>\n",
       "      <td>NaN</td>\n",
       "      <td>NaN</td>\n",
       "      <td>NaN</td>\n",
       "      <td>NaN</td>\n",
       "      <td>NaN</td>\n",
       "      <td>NaN</td>\n",
       "      <td>Grenoble Alpes Métropole</td>\n",
       "      <td>{\"type\":\"Point\",\"coordinates\":[5.7373296228308...</td>\n",
       "    </tr>\n",
       "    <tr>\n",
       "      <td>31813</td>\n",
       "      <td>22285</td>\n",
       "      <td>ESP16645</td>\n",
       "      <td>ESP16645</td>\n",
       "      <td>VEG</td>\n",
       "      <td>VEGETATION</td>\n",
       "      <td>ESP01</td>\n",
       "      <td>Arbre</td>\n",
       "      <td>ESP174</td>\n",
       "      <td>Arbre d'espaces ouverts</td>\n",
       "      <td>ESP1171</td>\n",
       "      <td>...</td>\n",
       "      <td>NaN</td>\n",
       "      <td>NaN</td>\n",
       "      <td>NaN</td>\n",
       "      <td>NaN</td>\n",
       "      <td>NaN</td>\n",
       "      <td>NaN</td>\n",
       "      <td>NaN</td>\n",
       "      <td>NaN</td>\n",
       "      <td>Ville de Grenoble</td>\n",
       "      <td>{\"type\":\"Point\",\"coordinates\":[5.7383287393841...</td>\n",
       "    </tr>\n",
       "  </tbody>\n",
       "</table>\n",
       "<p>31814 rows × 32 columns</p>\n",
       "</div>"
      ],
      "text/plain": [
       "       ELEM_POINT_ID      CODE       NOM GENRE  GENRE_DESC CATEGORIE  \\\n",
       "0              31906  ESP32632  ESP32632   VEG  VEGETATION     ESP01   \n",
       "1              31905  ESP32631  ESP32631   VEG  VEGETATION     ESP01   \n",
       "2              31904  ESP32630  ESP32630   VEG  VEGETATION     ESP01   \n",
       "3              31903  ESP32629  ESP32629   VEG  VEGETATION     ESP01   \n",
       "4              31902  ESP32628  ESP32628   VEG  VEGETATION     ESP01   \n",
       "...              ...       ...       ...   ...         ...       ...   \n",
       "31809          11290  ESP18364  ESP18364   VEG  VEGETATION     ESP01   \n",
       "31810          11256  ESP18346  ESP18346   VEG  VEGETATION     ESP01   \n",
       "31811          14981  ESP17096  ESP17096   VEG  VEGETATION     ESP01   \n",
       "31812          14939  ESP17074  ESP17074   VEG  VEGETATION     ESP01   \n",
       "31813          22285  ESP16645  ESP16645   VEG  VEGETATION     ESP01   \n",
       "\n",
       "      CATEGORIE_DESC SOUS_CATEGORIE      SOUS_CATEGORIE_DESC CODE_PARENT  ...  \\\n",
       "0              Arbre         ESP174  Arbre d'espaces ouverts      ESP995  ...   \n",
       "1              Arbre         ESP174  Arbre d'espaces ouverts      ESP995  ...   \n",
       "2              Arbre         ESP174  Arbre d'espaces ouverts      ESP995  ...   \n",
       "3              Arbre         ESP174  Arbre d'espaces ouverts      ESP995  ...   \n",
       "4              Arbre         ESP174  Arbre d'espaces ouverts      ESP995  ...   \n",
       "...              ...            ...                      ...         ...  ...   \n",
       "31809          Arbre         ESP174  Arbre d'espaces ouverts     ESP1171  ...   \n",
       "31810          Arbre         ESP174  Arbre d'espaces ouverts     ESP1171  ...   \n",
       "31811          Arbre         ESP174  Arbre d'espaces ouverts     ESP1171  ...   \n",
       "31812          Arbre         ESP174  Arbre d'espaces ouverts     ESP1171  ...   \n",
       "31813          Arbre         ESP174  Arbre d'espaces ouverts     ESP1171  ...   \n",
       "\n",
       "      COURRIER  IDENTIFIANTPLU TYPEIMPLANTATIONPLU INTITULEPROTECTIONPLU  \\\n",
       "0          NaN             NaN                 NaN                   NaN   \n",
       "1          NaN             NaN                 NaN                   NaN   \n",
       "2          NaN             NaN                 NaN                   NaN   \n",
       "3          NaN             NaN                 NaN                   NaN   \n",
       "4          NaN             NaN                 NaN                   NaN   \n",
       "...        ...             ...                 ...                   ...   \n",
       "31809      NaN             NaN                 NaN                   NaN   \n",
       "31810      NaN             NaN                 NaN                   NaN   \n",
       "31811      NaN             NaN                 NaN                   NaN   \n",
       "31812      NaN             NaN                 NaN                   NaN   \n",
       "31813      NaN             NaN                 NaN                   NaN   \n",
       "\n",
       "      ANNEEABATTAGE ESSOUCHEMENT DIAMETREARBRE  CAUSEABATTAGE  \\\n",
       "0               NaN          NaN           NaN            NaN   \n",
       "1               NaN          NaN           NaN            NaN   \n",
       "2               NaN          NaN           NaN            NaN   \n",
       "3               NaN          NaN           NaN            NaN   \n",
       "4               NaN          NaN           NaN            NaN   \n",
       "...             ...          ...           ...            ...   \n",
       "31809           NaN          NaN           NaN            NaN   \n",
       "31810           NaN          NaN           NaN            NaN   \n",
       "31811           NaN          NaN           NaN            NaN   \n",
       "31812           NaN          NaN           NaN            NaN   \n",
       "31813           NaN          NaN           NaN            NaN   \n",
       "\n",
       "                   COLLECTIVITE  \\\n",
       "0             Ville de Grenoble   \n",
       "1             Ville de Grenoble   \n",
       "2             Ville de Grenoble   \n",
       "3             Ville de Grenoble   \n",
       "4             Ville de Grenoble   \n",
       "...                         ...   \n",
       "31809  Grenoble Alpes Métropole   \n",
       "31810  Grenoble Alpes Métropole   \n",
       "31811  Grenoble Alpes Métropole   \n",
       "31812  Grenoble Alpes Métropole   \n",
       "31813         Ville de Grenoble   \n",
       "\n",
       "                                                 GeoJSON  \n",
       "0      {\"type\":\"Point\",\"coordinates\":[5.7407272631197...  \n",
       "1      {\"type\":\"Point\",\"coordinates\":[5.7407481744995...  \n",
       "2      {\"type\":\"Point\",\"coordinates\":[5.7406973948781...  \n",
       "3      {\"type\":\"Point\",\"coordinates\":[5.7406754967071...  \n",
       "4      {\"type\":\"Point\",\"coordinates\":[5.7407015656395...  \n",
       "...                                                  ...  \n",
       "31809  {\"type\":\"Point\",\"coordinates\":[5.7385133327466...  \n",
       "31810  {\"type\":\"Point\",\"coordinates\":[5.7375284639688...  \n",
       "31811  {\"type\":\"Point\",\"coordinates\":[5.7384331724843...  \n",
       "31812  {\"type\":\"Point\",\"coordinates\":[5.7373296228308...  \n",
       "31813  {\"type\":\"Point\",\"coordinates\":[5.7383287393841...  \n",
       "\n",
       "[31814 rows x 32 columns]"
      ]
     },
     "execution_count": 14,
     "metadata": {},
     "output_type": "execute_result"
    }
   ],
   "source": [
    "df"
   ]
  },
  {
   "cell_type": "markdown",
   "metadata": {},
   "source": [
    "### Some exercises from before without loop for"
   ]
  },
  {
   "cell_type": "markdown",
   "metadata": {},
   "source": [
    "#### get the different species"
   ]
  },
  {
   "cell_type": "code",
   "execution_count": 15,
   "metadata": {},
   "outputs": [
    {
     "name": "stdout",
     "output_type": "stream",
     "text": [
      "6.79 ms ± 1.25 ms per loop (mean ± std. dev. of 7 runs, 100 loops each)\n"
     ]
    }
   ],
   "source": [
    "%%timeit\n",
    "#name of col : 'GENRE_BOTA'\n",
    "genre_bota = df['GENRE_BOTA'].dropna().unique()\n",
    "nb_especes = len(genre_bota)\n",
    "\n",
    "#print(nb_especes)"
   ]
  },
  {
   "cell_type": "markdown",
   "metadata": {},
   "source": [
    "#### pour combien d'arbres manque t'il d'information sur l'annees"
   ]
  },
  {
   "cell_type": "code",
   "execution_count": 16,
   "metadata": {},
   "outputs": [],
   "source": [
    "annee_plantation = df['ANNEEDEPLANTATION']\n",
    "count_annees_exist = df['ANNEEDEPLANTATION'].count()\n",
    "count_annees_exist\n",
    "\n",
    "nb_trees_miss = df.shape[0] - count_annees_exist\n",
    "\n",
    "nb_arbres_total = df.shape[0]\n",
    "\n",
    "only_years = df['ANNEEDEPLANTATION'].dropna().unique()\n",
    "\n",
    "#mean_plantation_of_arbres = len(only_years)\n",
    "\n"
   ]
  },
  {
   "cell_type": "code",
   "execution_count": 17,
   "metadata": {},
   "outputs": [
    {
     "data": {
      "text/plain": [
       "461.07246376811594"
      ]
     },
     "execution_count": 17,
     "metadata": {},
     "output_type": "execute_result"
    }
   ],
   "source": [
    "only_years = df['ANNEEDEPLANTATION'].dropna().unique()\n",
    "\n",
    "nb_of_years = (max(only_years)-min(only_years)+1)\n",
    "mean_plantations = nb_arbres_total/nb_of_years \n",
    "\n",
    "mean_plantations"
   ]
  },
  {
   "cell_type": "code",
   "execution_count": 18,
   "metadata": {},
   "outputs": [
    {
     "data": {
      "text/html": [
       "<div>\n",
       "<style scoped>\n",
       "    .dataframe tbody tr th:only-of-type {\n",
       "        vertical-align: middle;\n",
       "    }\n",
       "\n",
       "    .dataframe tbody tr th {\n",
       "        vertical-align: top;\n",
       "    }\n",
       "\n",
       "    .dataframe thead th {\n",
       "        text-align: right;\n",
       "    }\n",
       "</style>\n",
       "<table border=\"1\" class=\"dataframe\">\n",
       "  <thead>\n",
       "    <tr style=\"text-align: right;\">\n",
       "      <th></th>\n",
       "      <th>ELEM_POINT_ID</th>\n",
       "      <th>CODE</th>\n",
       "      <th>NOM</th>\n",
       "      <th>GENRE</th>\n",
       "      <th>GENRE_DESC</th>\n",
       "      <th>CATEGORIE</th>\n",
       "      <th>CATEGORIE_DESC</th>\n",
       "      <th>SOUS_CATEGORIE</th>\n",
       "      <th>SOUS_CATEGORIE_DESC</th>\n",
       "      <th>CODE_PARENT</th>\n",
       "      <th>...</th>\n",
       "      <th>COURRIER</th>\n",
       "      <th>IDENTIFIANTPLU</th>\n",
       "      <th>TYPEIMPLANTATIONPLU</th>\n",
       "      <th>INTITULEPROTECTIONPLU</th>\n",
       "      <th>ANNEEABATTAGE</th>\n",
       "      <th>ESSOUCHEMENT</th>\n",
       "      <th>DIAMETREARBRE</th>\n",
       "      <th>CAUSEABATTAGE</th>\n",
       "      <th>COLLECTIVITE</th>\n",
       "      <th>GeoJSON</th>\n",
       "    </tr>\n",
       "  </thead>\n",
       "  <tbody>\n",
       "    <tr>\n",
       "      <td>1100</td>\n",
       "      <td>20839</td>\n",
       "      <td>ESP26231</td>\n",
       "      <td>ESP26231</td>\n",
       "      <td>VEG</td>\n",
       "      <td>VEGETATION</td>\n",
       "      <td>ESP01</td>\n",
       "      <td>Arbre</td>\n",
       "      <td>ESP151</td>\n",
       "      <td>Arbre de voirie</td>\n",
       "      <td>ESP1018</td>\n",
       "      <td>...</td>\n",
       "      <td>NaN</td>\n",
       "      <td>NaN</td>\n",
       "      <td>NaN</td>\n",
       "      <td>NaN</td>\n",
       "      <td>NaN</td>\n",
       "      <td>NaN</td>\n",
       "      <td>NaN</td>\n",
       "      <td>NaN</td>\n",
       "      <td>Grenoble Alpes Métropole</td>\n",
       "      <td>{\"type\":\"Point\",\"coordinates\":[5.7194282908896...</td>\n",
       "    </tr>\n",
       "    <tr>\n",
       "      <td>1104</td>\n",
       "      <td>13522</td>\n",
       "      <td>ESP21154</td>\n",
       "      <td>ESP21154</td>\n",
       "      <td>VEG</td>\n",
       "      <td>VEGETATION</td>\n",
       "      <td>ESP01</td>\n",
       "      <td>Arbre</td>\n",
       "      <td>ESP151</td>\n",
       "      <td>Arbre de voirie</td>\n",
       "      <td>ESP1018</td>\n",
       "      <td>...</td>\n",
       "      <td>NaN</td>\n",
       "      <td>NaN</td>\n",
       "      <td>NaN</td>\n",
       "      <td>NaN</td>\n",
       "      <td>NaN</td>\n",
       "      <td>NaN</td>\n",
       "      <td>NaN</td>\n",
       "      <td>NaN</td>\n",
       "      <td>Grenoble Alpes Métropole</td>\n",
       "      <td>{\"type\":\"Point\",\"coordinates\":[5.7190264290501...</td>\n",
       "    </tr>\n",
       "    <tr>\n",
       "      <td>1105</td>\n",
       "      <td>13521</td>\n",
       "      <td>ESP21153</td>\n",
       "      <td>ESP21153</td>\n",
       "      <td>VEG</td>\n",
       "      <td>VEGETATION</td>\n",
       "      <td>ESP01</td>\n",
       "      <td>Arbre</td>\n",
       "      <td>ESP151</td>\n",
       "      <td>Arbre de voirie</td>\n",
       "      <td>ESP1018</td>\n",
       "      <td>...</td>\n",
       "      <td>NaN</td>\n",
       "      <td>NaN</td>\n",
       "      <td>NaN</td>\n",
       "      <td>NaN</td>\n",
       "      <td>NaN</td>\n",
       "      <td>NaN</td>\n",
       "      <td>NaN</td>\n",
       "      <td>NaN</td>\n",
       "      <td>Grenoble Alpes Métropole</td>\n",
       "      <td>{\"type\":\"Point\",\"coordinates\":[5.7195995470467...</td>\n",
       "    </tr>\n",
       "    <tr>\n",
       "      <td>1106</td>\n",
       "      <td>9718</td>\n",
       "      <td>ESP21107</td>\n",
       "      <td>ESP21107</td>\n",
       "      <td>VEG</td>\n",
       "      <td>VEGETATION</td>\n",
       "      <td>ESP01</td>\n",
       "      <td>Arbre</td>\n",
       "      <td>ESP151</td>\n",
       "      <td>Arbre de voirie</td>\n",
       "      <td>ESP1018</td>\n",
       "      <td>...</td>\n",
       "      <td>NaN</td>\n",
       "      <td>NaN</td>\n",
       "      <td>NaN</td>\n",
       "      <td>NaN</td>\n",
       "      <td>NaN</td>\n",
       "      <td>NaN</td>\n",
       "      <td>NaN</td>\n",
       "      <td>NaN</td>\n",
       "      <td>Grenoble Alpes Métropole</td>\n",
       "      <td>{\"type\":\"Point\",\"coordinates\":[5.7197716753457...</td>\n",
       "    </tr>\n",
       "    <tr>\n",
       "      <td>1107</td>\n",
       "      <td>28207</td>\n",
       "      <td>ESP14936</td>\n",
       "      <td>ESP14936</td>\n",
       "      <td>VEG</td>\n",
       "      <td>VEGETATION</td>\n",
       "      <td>ESP01</td>\n",
       "      <td>Arbre</td>\n",
       "      <td>ESP151</td>\n",
       "      <td>Arbre de voirie</td>\n",
       "      <td>ESP1018</td>\n",
       "      <td>...</td>\n",
       "      <td>NaN</td>\n",
       "      <td>NaN</td>\n",
       "      <td>NaN</td>\n",
       "      <td>NaN</td>\n",
       "      <td>NaN</td>\n",
       "      <td>NaN</td>\n",
       "      <td>NaN</td>\n",
       "      <td>NaN</td>\n",
       "      <td>Grenoble Alpes Métropole</td>\n",
       "      <td>{\"type\":\"Point\",\"coordinates\":[5.7196857940308...</td>\n",
       "    </tr>\n",
       "    <tr>\n",
       "      <td>...</td>\n",
       "      <td>...</td>\n",
       "      <td>...</td>\n",
       "      <td>...</td>\n",
       "      <td>...</td>\n",
       "      <td>...</td>\n",
       "      <td>...</td>\n",
       "      <td>...</td>\n",
       "      <td>...</td>\n",
       "      <td>...</td>\n",
       "      <td>...</td>\n",
       "      <td>...</td>\n",
       "      <td>...</td>\n",
       "      <td>...</td>\n",
       "      <td>...</td>\n",
       "      <td>...</td>\n",
       "      <td>...</td>\n",
       "      <td>...</td>\n",
       "      <td>...</td>\n",
       "      <td>...</td>\n",
       "      <td>...</td>\n",
       "      <td>...</td>\n",
       "    </tr>\n",
       "    <tr>\n",
       "      <td>25780</td>\n",
       "      <td>9789</td>\n",
       "      <td>ESP21373</td>\n",
       "      <td>ESP21373</td>\n",
       "      <td>VEG</td>\n",
       "      <td>VEGETATION</td>\n",
       "      <td>ESP01</td>\n",
       "      <td>Arbre</td>\n",
       "      <td>ESP174</td>\n",
       "      <td>Arbre d'espaces ouverts</td>\n",
       "      <td>ESP887</td>\n",
       "      <td>...</td>\n",
       "      <td>NaN</td>\n",
       "      <td>NaN</td>\n",
       "      <td>NaN</td>\n",
       "      <td>NaN</td>\n",
       "      <td>NaN</td>\n",
       "      <td>NaN</td>\n",
       "      <td>NaN</td>\n",
       "      <td>NaN</td>\n",
       "      <td>Ville de Grenoble</td>\n",
       "      <td>{\"type\":\"Point\",\"coordinates\":[5.7394769123127...</td>\n",
       "    </tr>\n",
       "    <tr>\n",
       "      <td>25781</td>\n",
       "      <td>13591</td>\n",
       "      <td>ESP21177</td>\n",
       "      <td>ESP21177</td>\n",
       "      <td>VEG</td>\n",
       "      <td>VEGETATION</td>\n",
       "      <td>ESP01</td>\n",
       "      <td>Arbre</td>\n",
       "      <td>ESP174</td>\n",
       "      <td>Arbre d'espaces ouverts</td>\n",
       "      <td>ESP887</td>\n",
       "      <td>...</td>\n",
       "      <td>NaN</td>\n",
       "      <td>NaN</td>\n",
       "      <td>NaN</td>\n",
       "      <td>NaN</td>\n",
       "      <td>NaN</td>\n",
       "      <td>NaN</td>\n",
       "      <td>NaN</td>\n",
       "      <td>NaN</td>\n",
       "      <td>Ville de Grenoble</td>\n",
       "      <td>{\"type\":\"Point\",\"coordinates\":[5.7392320939366...</td>\n",
       "    </tr>\n",
       "    <tr>\n",
       "      <td>25782</td>\n",
       "      <td>20893</td>\n",
       "      <td>ESP19392</td>\n",
       "      <td>ESP19392</td>\n",
       "      <td>VEG</td>\n",
       "      <td>VEGETATION</td>\n",
       "      <td>ESP01</td>\n",
       "      <td>Arbre</td>\n",
       "      <td>ESP174</td>\n",
       "      <td>Arbre d'espaces ouverts</td>\n",
       "      <td>ESP887</td>\n",
       "      <td>...</td>\n",
       "      <td>NaN</td>\n",
       "      <td>NaN</td>\n",
       "      <td>NaN</td>\n",
       "      <td>NaN</td>\n",
       "      <td>NaN</td>\n",
       "      <td>NaN</td>\n",
       "      <td>NaN</td>\n",
       "      <td>NaN</td>\n",
       "      <td>Ville de Grenoble</td>\n",
       "      <td>{\"type\":\"Point\",\"coordinates\":[5.7394244358425...</td>\n",
       "    </tr>\n",
       "    <tr>\n",
       "      <td>25783</td>\n",
       "      <td>5998</td>\n",
       "      <td>ESP11238</td>\n",
       "      <td>ESP11238</td>\n",
       "      <td>VEG</td>\n",
       "      <td>VEGETATION</td>\n",
       "      <td>ESP01</td>\n",
       "      <td>Arbre</td>\n",
       "      <td>ESP174</td>\n",
       "      <td>Arbre d'espaces ouverts</td>\n",
       "      <td>ESP887</td>\n",
       "      <td>...</td>\n",
       "      <td>NaN</td>\n",
       "      <td>NaN</td>\n",
       "      <td>NaN</td>\n",
       "      <td>NaN</td>\n",
       "      <td>NaN</td>\n",
       "      <td>NaN</td>\n",
       "      <td>NaN</td>\n",
       "      <td>NaN</td>\n",
       "      <td>Ville de Grenoble</td>\n",
       "      <td>{\"type\":\"Point\",\"coordinates\":[5.7394861708769...</td>\n",
       "    </tr>\n",
       "    <tr>\n",
       "      <td>25784</td>\n",
       "      <td>2190</td>\n",
       "      <td>ESP9344</td>\n",
       "      <td>ESP9344</td>\n",
       "      <td>VEG</td>\n",
       "      <td>VEGETATION</td>\n",
       "      <td>ESP01</td>\n",
       "      <td>Arbre</td>\n",
       "      <td>ESP174</td>\n",
       "      <td>Arbre d'espaces ouverts</td>\n",
       "      <td>ESP887</td>\n",
       "      <td>...</td>\n",
       "      <td>NaN</td>\n",
       "      <td>NaN</td>\n",
       "      <td>NaN</td>\n",
       "      <td>NaN</td>\n",
       "      <td>NaN</td>\n",
       "      <td>NaN</td>\n",
       "      <td>NaN</td>\n",
       "      <td>NaN</td>\n",
       "      <td>Ville de Grenoble</td>\n",
       "      <td>{\"type\":\"Point\",\"coordinates\":[5.7392933403121...</td>\n",
       "    </tr>\n",
       "  </tbody>\n",
       "</table>\n",
       "<p>302 rows × 32 columns</p>\n",
       "</div>"
      ],
      "text/plain": [
       "       ELEM_POINT_ID      CODE       NOM GENRE  GENRE_DESC CATEGORIE  \\\n",
       "1100           20839  ESP26231  ESP26231   VEG  VEGETATION     ESP01   \n",
       "1104           13522  ESP21154  ESP21154   VEG  VEGETATION     ESP01   \n",
       "1105           13521  ESP21153  ESP21153   VEG  VEGETATION     ESP01   \n",
       "1106            9718  ESP21107  ESP21107   VEG  VEGETATION     ESP01   \n",
       "1107           28207  ESP14936  ESP14936   VEG  VEGETATION     ESP01   \n",
       "...              ...       ...       ...   ...         ...       ...   \n",
       "25780           9789  ESP21373  ESP21373   VEG  VEGETATION     ESP01   \n",
       "25781          13591  ESP21177  ESP21177   VEG  VEGETATION     ESP01   \n",
       "25782          20893  ESP19392  ESP19392   VEG  VEGETATION     ESP01   \n",
       "25783           5998  ESP11238  ESP11238   VEG  VEGETATION     ESP01   \n",
       "25784           2190   ESP9344   ESP9344   VEG  VEGETATION     ESP01   \n",
       "\n",
       "      CATEGORIE_DESC SOUS_CATEGORIE      SOUS_CATEGORIE_DESC CODE_PARENT  ...  \\\n",
       "1100           Arbre         ESP151          Arbre de voirie     ESP1018  ...   \n",
       "1104           Arbre         ESP151          Arbre de voirie     ESP1018  ...   \n",
       "1105           Arbre         ESP151          Arbre de voirie     ESP1018  ...   \n",
       "1106           Arbre         ESP151          Arbre de voirie     ESP1018  ...   \n",
       "1107           Arbre         ESP151          Arbre de voirie     ESP1018  ...   \n",
       "...              ...            ...                      ...         ...  ...   \n",
       "25780          Arbre         ESP174  Arbre d'espaces ouverts      ESP887  ...   \n",
       "25781          Arbre         ESP174  Arbre d'espaces ouverts      ESP887  ...   \n",
       "25782          Arbre         ESP174  Arbre d'espaces ouverts      ESP887  ...   \n",
       "25783          Arbre         ESP174  Arbre d'espaces ouverts      ESP887  ...   \n",
       "25784          Arbre         ESP174  Arbre d'espaces ouverts      ESP887  ...   \n",
       "\n",
       "      COURRIER  IDENTIFIANTPLU TYPEIMPLANTATIONPLU INTITULEPROTECTIONPLU  \\\n",
       "1100       NaN             NaN                 NaN                   NaN   \n",
       "1104       NaN             NaN                 NaN                   NaN   \n",
       "1105       NaN             NaN                 NaN                   NaN   \n",
       "1106       NaN             NaN                 NaN                   NaN   \n",
       "1107       NaN             NaN                 NaN                   NaN   \n",
       "...        ...             ...                 ...                   ...   \n",
       "25780      NaN             NaN                 NaN                   NaN   \n",
       "25781      NaN             NaN                 NaN                   NaN   \n",
       "25782      NaN             NaN                 NaN                   NaN   \n",
       "25783      NaN             NaN                 NaN                   NaN   \n",
       "25784      NaN             NaN                 NaN                   NaN   \n",
       "\n",
       "      ANNEEABATTAGE ESSOUCHEMENT DIAMETREARBRE  CAUSEABATTAGE  \\\n",
       "1100            NaN          NaN           NaN            NaN   \n",
       "1104            NaN          NaN           NaN            NaN   \n",
       "1105            NaN          NaN           NaN            NaN   \n",
       "1106            NaN          NaN           NaN            NaN   \n",
       "1107            NaN          NaN           NaN            NaN   \n",
       "...             ...          ...           ...            ...   \n",
       "25780           NaN          NaN           NaN            NaN   \n",
       "25781           NaN          NaN           NaN            NaN   \n",
       "25782           NaN          NaN           NaN            NaN   \n",
       "25783           NaN          NaN           NaN            NaN   \n",
       "25784           NaN          NaN           NaN            NaN   \n",
       "\n",
       "                   COLLECTIVITE  \\\n",
       "1100   Grenoble Alpes Métropole   \n",
       "1104   Grenoble Alpes Métropole   \n",
       "1105   Grenoble Alpes Métropole   \n",
       "1106   Grenoble Alpes Métropole   \n",
       "1107   Grenoble Alpes Métropole   \n",
       "...                         ...   \n",
       "25780         Ville de Grenoble   \n",
       "25781         Ville de Grenoble   \n",
       "25782         Ville de Grenoble   \n",
       "25783         Ville de Grenoble   \n",
       "25784         Ville de Grenoble   \n",
       "\n",
       "                                                 GeoJSON  \n",
       "1100   {\"type\":\"Point\",\"coordinates\":[5.7194282908896...  \n",
       "1104   {\"type\":\"Point\",\"coordinates\":[5.7190264290501...  \n",
       "1105   {\"type\":\"Point\",\"coordinates\":[5.7195995470467...  \n",
       "1106   {\"type\":\"Point\",\"coordinates\":[5.7197716753457...  \n",
       "1107   {\"type\":\"Point\",\"coordinates\":[5.7196857940308...  \n",
       "...                                                  ...  \n",
       "25780  {\"type\":\"Point\",\"coordinates\":[5.7394769123127...  \n",
       "25781  {\"type\":\"Point\",\"coordinates\":[5.7392320939366...  \n",
       "25782  {\"type\":\"Point\",\"coordinates\":[5.7394244358425...  \n",
       "25783  {\"type\":\"Point\",\"coordinates\":[5.7394861708769...  \n",
       "25784  {\"type\":\"Point\",\"coordinates\":[5.7392933403121...  \n",
       "\n",
       "[302 rows x 32 columns]"
      ]
     },
     "execution_count": 18,
     "metadata": {},
     "output_type": "execute_result"
    }
   ],
   "source": [
    "# Afficher tous les arbres ayant été plantés l’année de votre naissance.\n",
    "\n",
    "idices_1989 = df['ANNEEDEPLANTATION'].where(df['ANNEEDEPLANTATION'] == 1989).dropna().index\n",
    "\n",
    "df[df.isin([1989])].stack()\n",
    "\n",
    "df.loc[idices_1989]\n"
   ]
  },
  {
   "cell_type": "code",
   "execution_count": 19,
   "metadata": {},
   "outputs": [
    {
     "data": {
      "text/plain": [
       "13350"
      ]
     },
     "execution_count": 19,
     "metadata": {},
     "output_type": "execute_result"
    }
   ],
   "source": [
    "#the number of trees:\n",
    "\n",
    "df['ANNEEDEPLANTATION'].where(df['ANNEEDEPLANTATION'] >= 1989).dropna().count()"
   ]
  },
  {
   "cell_type": "markdown",
   "metadata": {},
   "source": [
    "#### Identifiez maintenant toutes les espèces différentes présentes à Grenoble."
   ]
  },
  {
   "cell_type": "code",
   "execution_count": 20,
   "metadata": {},
   "outputs": [
    {
     "data": {
      "text/plain": [
       "313"
      ]
     },
     "execution_count": 20,
     "metadata": {},
     "output_type": "execute_result"
    }
   ],
   "source": [
    "df[\"GENRE_ESPECE\"] = df[\"GENRE_BOTA\"] + \" \"  + df[\"ESPECE\"]\n",
    "\n",
    "all_espece_unique = df[\"GENRE_ESPECE\"].dropna().unique()\n",
    "\n",
    "nb_all_espece_unique = len(all_espece_unique)\n",
    "nb_all_espece_unique"
   ]
  },
  {
   "cell_type": "markdown",
   "metadata": {},
   "source": [
    "#### how many trees in each espece"
   ]
  },
  {
   "cell_type": "code",
   "execution_count": 21,
   "metadata": {},
   "outputs": [
    {
     "data": {
      "text/plain": [
       "Acer           5230\n",
       "Platanus       4616\n",
       "Pinus          2073\n",
       "Tilia          1747\n",
       "Fraxinus       1441\n",
       "               ... \n",
       "Sciadopitys       1\n",
       "Sequoia           1\n",
       "Nyssa             1\n",
       "Sterculia         1\n",
       "Staphylea         1\n",
       "Name: GENRE_BOTA, Length: 112, dtype: int64"
      ]
     },
     "execution_count": 21,
     "metadata": {},
     "output_type": "execute_result"
    }
   ],
   "source": [
    "df[\"GENRE_ESPECE\"].value_counts()\n",
    "df[\"GENRE_BOTA\"].value_counts()\n"
   ]
  },
  {
   "cell_type": "code",
   "execution_count": 22,
   "metadata": {},
   "outputs": [
    {
     "data": {
      "text/plain": [
       "array(['Platanus acerifolia', 'Pterocarya fraxinifolia', 'Tilia cordata',\n",
       "       'Aesculus hippocastanum', 'Prunus padus', 'Ginkgo biloba',\n",
       "       'Tilia platyphyllos'], dtype=object)"
      ]
     },
     "execution_count": 22,
     "metadata": {},
     "output_type": "execute_result"
    }
   ],
   "source": [
    "years_sorted =  df['ANNEEDEPLANTATION'].dropna().sort_values().unique()\n",
    "especes_year_1 = df['GENRE_ESPECE'].where(df['ANNEEDEPLANTATION'] == years_sorted[0]).dropna().unique()\n",
    "\n",
    "especes_per_year = [df['GENRE_ESPECE'].where(df['ANNEEDEPLANTATION'] == year).dropna().unique() \n",
    "                    for year in years_sorted]\n",
    "\n",
    "especes_per_year [0]\n"
   ]
  },
  {
   "cell_type": "code",
   "execution_count": 23,
   "metadata": {},
   "outputs": [],
   "source": [
    "\n",
    "especes_uni = list(especes_per_year[0])\n",
    "\n",
    "nb_new_esp = [len(especes_per_year[0])]\n",
    "nb_all_esp = [len(especes_per_year[0])]\n",
    "for i,especes_y in enumerate(especes_per_year[1:]):\n",
    "    esp_new_y=[]\n",
    "    # append new espece_y has new esxpeces than espece_uni\n",
    "    [(esp_new_y.append(espece_y),especes_uni.append(espece_y))\n",
    "             for espece_y in especes_y if espece_y not in especes_uni]\n",
    "    #[especes_uni.append(espece_y)  for espece_y in especes_y if espece_y not in especes_uni]\n",
    "    nb_new_esp.append(len(esp_new_y))\n",
    "    nb_all_esp.append(len(esp_new_y)+nb_all_esp[i])\n",
    "    \n"
   ]
  },
  {
   "cell_type": "code",
   "execution_count": 24,
   "metadata": {},
   "outputs": [
    {
     "data": {
      "image/png": "[encoded data removed]",
      "text/plain": [
       "<Figure size 432x288 with 1 Axes>"
      ]
     },
     "metadata": {
      "needs_background": "light"
     },
     "output_type": "display_data"
    }
   ],
   "source": [
    "plt.bar(years_sorted,nb_new_esp)    \n",
    "plt.show()"
   ]
  },
  {
   "cell_type": "code",
   "execution_count": 25,
   "metadata": {},
   "outputs": [
    {
     "data": {
      "image/png": "[encoded data removed]",
      "text/plain": [
       "<Figure size 432x288 with 1 Axes>"
      ]
     },
     "metadata": {
      "needs_background": "light"
     },
     "output_type": "display_data"
    },
    {
     "data": {
      "image/png": "[encoded data removed]",
      "text/plain": [
       "<Figure size 432x288 with 1 Axes>"
      ]
     },
     "metadata": {
      "needs_background": "light"
     },
     "output_type": "display_data"
    },
    {
     "data": {
      "text/plain": [
       "GENRE_ESPECE\n",
       "Abies concolor        1969.0\n",
       "Abies koreana         2016.0\n",
       "Abies nordmanniana    1960.0\n",
       "Abies pinsapo         1976.0\n",
       "Acer buergerianum     1992.0\n",
       "                       ...  \n",
       "Ulmus minor           1960.0\n",
       "Ulmus parvifolia      2017.0\n",
       "Ulmus resista         1965.0\n",
       "Zelkova crenata       2011.0\n",
       "Zelkova serrata       1970.0\n",
       "Name: ANNEEDEPLANTATION, Length: 313, dtype: float64"
      ]
     },
     "execution_count": 25,
     "metadata": {},
     "output_type": "execute_result"
    }
   ],
   "source": [
    "# meme chose avec groupby\n",
    "year_of_apperiance = df.groupby(df['GENRE_ESPECE'])['ANNEEDEPLANTATION'].min()\n",
    "\n",
    "\n",
    "nb_new_year = year_of_apperiance.value_counts()\n",
    "\n",
    "plt.hist(year_of_apperiance, bins = 69)\n",
    "plt.show()\n",
    "\n",
    "plt.figure()\n",
    "plt.bar(nb_new_year.index.tolist(),nb_new_year)    \n",
    "plt.show()\n",
    "year_of_apperiance"
   ]
  },
  {
   "cell_type": "code",
   "execution_count": 26,
   "metadata": {},
   "outputs": [
    {
     "data": {
      "text/plain": [
       "GENRE_ESPECE\n",
       "Abies concolor        1969.0\n",
       "Abies koreana         2016.0\n",
       "Abies nordmanniana    1960.0\n",
       "Abies pinsapo         1976.0\n",
       "Acer buergerianum     1992.0\n",
       "                       ...  \n",
       "Ulmus minor           1960.0\n",
       "Ulmus parvifolia      2017.0\n",
       "Ulmus resista         1965.0\n",
       "Zelkova crenata       2011.0\n",
       "Zelkova serrata       1970.0\n",
       "Name: ANNEEDEPLANTATION, Length: 313, dtype: float64"
      ]
     },
     "execution_count": 26,
     "metadata": {},
     "output_type": "execute_result"
    }
   ],
   "source": [
    "# meme chose avec groupby\n",
    "\n",
    "df.groupby(df['GENRE_ESPECE']).apply(lambda x: x.ANNEEDEPLANTATION.min())\n",
    "\n",
    "#nb_new_year = year_of_apperiance.value_counts()\n",
    "\n",
    "df.groupby(df['GENRE_ESPECE']).ANNEEDEPLANTATION.min()\n",
    "\n"
   ]
  },
  {
   "cell_type": "code",
   "execution_count": 27,
   "metadata": {},
   "outputs": [
    {
     "data": {
      "image/png": "[encoded data removed]",
      "text/plain": [
       "<Figure size 432x288 with 1 Axes>"
      ]
     },
     "metadata": {
      "needs_background": "light"
     },
     "output_type": "display_data"
    }
   ],
   "source": [
    "#plt.plot(years_sorted,nb_all_esp)    \n",
    "plt.bar(years_sorted,nb_all_esp)    \n",
    "\n",
    "plt.show()"
   ]
  },
  {
   "cell_type": "markdown",
   "metadata": {
    "slideshow": {
     "slide_type": "subslide"
    }
   },
   "source": [
    "Plusieurs sources évoquent une espérance de vie moyenne des arbres en ville de 12 30 à 80 ans . Les données de terrain disponibles pour Grenoble corroborent-elles ces sources ?\n",
    "\n",
    "-> on a pas d'information si les arbres existent encore"
   ]
  },
  {
   "cell_type": "markdown",
   "metadata": {
    "slideshow": {
     "slide_type": "subslide"
    }
   },
   "source": [
    "### Arbres non-desirees à Grenoble\n"
   ]
  },
  {
   "cell_type": "code",
   "execution_count": 28,
   "metadata": {
    "slideshow": {
     "slide_type": "-"
    }
   },
   "outputs": [],
   "source": [
    "list_especes_non_desiree = [ 'Acer saccharinum', \n",
    "                            'Albizzia julibrissin',\n",
    "                            'Catalpa bignonoides',\n",
    "                            'Ginkgo biloba',\n",
    "                            'Gleditsia triacanthos',\n",
    "                            'Koelreuteria paniculata',\n",
    "                            'Laburnum anagyroides',\n",
    "                            'Paulownia tomentosa',\n",
    "                            'Prunus pissardi',\n",
    "                            'Sophora japonica',\n",
    "                            'Acer palmatum',\n",
    "                            'Acer pseudoplatanus',\n",
    "                            'Betula costata',\n",
    "                            'Betula davurica',\n",
    "                           'Betula jacquemontii',\n",
    "                           'Betula lenta',\n",
    "                            'Betula pendula',\n",
    "                           'Betula maximowicziana',\n",
    "                           'Betula pubescens',\n",
    "                           'Betula utilis',\n",
    "                           'Cryptomeria japonica',\n",
    "                           'Cupressus cashmeriana',\n",
    "                            'Davidia involucrata',\n",
    "                           'Fagus sylvatica',\n",
    "                           'Juglans nigra',\n",
    "                           'Juglans ailantifolia',\n",
    "                            'Liriodendron tulipifera',\n",
    "                           'Magnolia grandiflora',\n",
    "                           'Nerium oleander',\n",
    "                           'Picea abies', \n",
    "                           'Populus alba',\n",
    "                           'Quercus bicolor',\n",
    "                           'Quercus macrocarpa',\n",
    "                           'Quercus nigra',\n",
    "                           'Quercus rubra',\n",
    "                           'Quercus alba',\n",
    "                           'Salix alba',\n",
    "                           'Salix gracolistyla',\n",
    "                           'Salix daphnoides',\n",
    "                           'Salix cinerea',\n",
    "                           'Salix arenaria',\n",
    "                           'Salix acutifolia',\n",
    "                           'Sorbus aucuparia',\n",
    "                           'Ailanthus altissima',\n",
    "                            'Robinia pseudoacacia',\n",
    "                            'Acer negundo',\n",
    "                            'Acer platanoides', \n",
    "                            'Acer pseudoplatanus'        ]\n",
    "\n",
    "list_genre_non_desiree = ['Aesculus',\n",
    "                          'Fraxinus',\n",
    "                          'Platanus',\n",
    "                           'Betula',\n",
    "                          'Castanea',\n",
    "                          'Cupressus',\n",
    "                          'Olea' ]\n",
    "\n",
    "\n",
    "list_especes_non_desiree2 = [ 'Acer saccharinum', \n",
    "                            'Albizzia julibrissin',\n",
    "                            'Catalpa bignonoides',\n",
    "                            'Ginkgo biloba',\n",
    "                            'Gleditsia triacanthos',\n",
    "                            'Koelreuteria paniculata',\n",
    "                            'Laburnum anagyroides',\n",
    "                            'Paulownia tomentosa',\n",
    "                            'Prunus pissardi',\n",
    "                            'Sophora japonica',\n",
    "                            'Acer palmatum',\n",
    "                            'Acer pseudoplatanus',\n",
    "                           'Cryptomeria japonica',\n",
    "                            'Davidia involucrata',\n",
    "                           'Fagus sylvatica',\n",
    "                           'Juglans nigra',\n",
    "                           'Juglans ailantifolia',\n",
    "                            'Liriodendron tulipifera',\n",
    "                           'Magnolia grandiflora',\n",
    "                           'Nerium oleander',\n",
    "                           'Picea abies', \n",
    "                           'Populus alba',\n",
    "                           'Quercus bicolor',\n",
    "                           'Quercus macrocarpa',\n",
    "                           'Quercus nigra',\n",
    "                           'Quercus rubra',\n",
    "                           'Quercus alba',\n",
    "                           'Salix alba',\n",
    "                           'Salix gracolistyla',\n",
    "                           'Salix daphnoides',\n",
    "                           'Salix cinerea',\n",
    "                           'Salix arenaria',\n",
    "                           'Salix acutifolia',\n",
    "                           'Sorbus aucuparia',\n",
    "                           'Ailanthus altissima',\n",
    "                            'Robinia pseudoacacia',\n",
    "                            'Acer negundo',\n",
    "                            'Acer platanoides', \n",
    "                            'Acer pseudoplatanus'   \n",
    "                            ]"
   ]
  },
  {
   "cell_type": "code",
   "execution_count": 29,
   "metadata": {},
   "outputs": [
    {
     "name": "stdout",
     "output_type": "stream",
     "text": [
      "14228  d'arbres ne sont pas desirees et  17586 sont des especes desirees\n",
      "44.72244923618533 % des arbres ne sont pas desirees\n"
     ]
    },
    {
     "data": {
      "text/plain": [
       "10        Fraxinus\n",
       "11        Fraxinus\n",
       "16        Fraxinus\n",
       "20        Fraxinus\n",
       "32        Platanus\n",
       "           ...    \n",
       "31788     Platanus\n",
       "31802    Cupressus\n",
       "31804       Betula\n",
       "31809       Betula\n",
       "31810       Betula\n",
       "Name: GENRE_BOTA, Length: 7934, dtype: object"
      ]
     },
     "execution_count": 29,
     "metadata": {},
     "output_type": "execute_result"
    }
   ],
   "source": [
    "#df[\"GENRE_ESPECE\"].value_counts()\n",
    "#df[\"GENRE_BOTA\"].value_counts()\n",
    "\n",
    "genres_non_des = df['GENRE_BOTA'][df['GENRE_BOTA'].isin(list_genre_non_desiree)]\n",
    "esp_non_des = df['GENRE_ESPECE'][df['GENRE_ESPECE'].isin(list_especes_non_desiree2)]\n",
    "                         \n",
    "nb_arbres_non_des = len(genres_non_des) + len(esp_non_des)\n",
    "nb_arbres_des = len(df['GENRE_BOTA']) - nb_arbres_non_des\n",
    "\n",
    "print(nb_arbres_non_des, \" d'arbres ne sont pas desirees et \", nb_arbres_des, \"sont des especes desirees\")\n",
    "print(100.* nb_arbres_non_des / len(df['GENRE_BOTA']), \"% des arbres ne sont pas desirees\")\n",
    "\n",
    "\n",
    "genres_non_des"
   ]
  },
  {
   "cell_type": "code",
   "execution_count": 30,
   "metadata": {},
   "outputs": [
    {
     "data": {
      "text/plain": [
       "0.15286624203821655"
      ]
     },
     "execution_count": 30,
     "metadata": {},
     "output_type": "execute_result"
    }
   ],
   "source": [
    "# pourcentages des especes non desiree \n",
    "\n",
    "len(list_genre_non_desiree) / len(df['GENRE_BOTA'].unique())\n",
    "\n",
    "len(list_especes_non_desiree) / len(df['GENRE_ESPECE'].unique())\n"
   ]
  },
  {
   "cell_type": "markdown",
   "metadata": {},
   "source": [
    "### Essayer de proposer une liste d’espèce à planter qui permet de remplir les objectifs annoncés en terme de diversification.\n"
   ]
  },
  {
   "cell_type": "code",
   "execution_count": 31,
   "metadata": {},
   "outputs": [
    {
     "data": {
      "image/png": "[encoded data removed]",
      "text/plain": [
       "<Figure size 432x288 with 1 Axes>"
      ]
     },
     "metadata": {
      "needs_background": "light"
     },
     "output_type": "display_data"
    }
   ],
   "source": [
    "# here missing !!!\n",
    "\n",
    "# refaire les calcules d'avant pour les pourcentages des différentes especes / genres\n",
    "# faut respecter la règle 10-20-30\n",
    "# en plus fiat planter des arbres qui sont pas dans la liste\n",
    "\n",
    "l_gen_d_existant = df['GENRE_BOTA'][~df['GENRE_BOTA'].isin(list_genre_non_desiree)]\n",
    "l_esp_d_existant = df['GENRE_ESPECE'][~df['GENRE_ESPECE'].isin(list_especes_non_desiree2)]\n",
    "\n",
    "l_gen_d_uni = l_gen_d_existant.unique()\n",
    "l_esp_d_uni = l_esp_d_existant.unique()\n",
    "\n",
    "\n",
    "count_gen_d_existant = l_gen_d_existant.value_counts()\n",
    "count_esp_d_existant = l_esp_d_existant.value_counts()\n",
    "count_esp_d_existant / len(l_esp_d_existant) *100\n",
    "\n",
    "\n",
    "count_gen_d_existant\n",
    "\n",
    "\n",
    "ax = count_gen_d_existant.plot.bar()\n",
    "ax.set_xlabel('year')\n",
    "ax.set_ylabel('nb of planted trees')\n",
    "\n",
    "plt.legend()\n",
    "plt.show()"
   ]
  },
  {
   "cell_type": "code",
   "execution_count": 33,
   "metadata": {},
   "outputs": [
    {
     "data": {
      "image/png": "[encoded data removed]",
      "text/plain": [
       "<Figure size 432x288 with 1 Axes>"
      ]
     },
     "metadata": {
      "needs_background": "light"
     },
     "output_type": "display_data"
    },
    {
     "data": {
      "image/png": "[encoded data removed]",
      "text/plain": [
       "<Figure size 432x288 with 1 Axes>"
      ]
     },
     "metadata": {
      "needs_background": "light"
     },
     "output_type": "display_data"
    }
   ],
   "source": [
    "#calcul les annees de plantations des genres / especes non désiree \n",
    "annees_genres_non_des = df['ANNEEDEPLANTATION'][df['GENRE_BOTA'].isin(list_genre_non_desiree)]\n",
    "annees_esp_non_des = df['ANNEEDEPLANTATION'][df['GENRE_ESPECE'].isin(list_especes_non_desiree2)]\n",
    "\n",
    "annees_genres_des =  df['ANNEEDEPLANTATION'][~df['GENRE_BOTA'].isin(list_genre_non_desiree)]\n",
    "annees_esp_des = df['ANNEEDEPLANTATION'][~df['GENRE_ESPECE'].isin(list_especes_non_desiree2)]\n",
    "\n",
    "\n",
    "\n",
    "l_nb_trees_plantet_g_not_wanted = annees_genres_non_des.value_counts()\n",
    "l_nb_trees_plantet_g_wanted = annees_genres_des.value_counts()\n",
    "l_nb_trees_plantet_e_not_wanted = annees_esp_non_des.value_counts()\n",
    "l_nb_trees_plantet_e_wanted = annees_esp_des.value_counts()\n",
    "\n",
    "years_g = np.array(l_nb_trees_plantet_g_not_wanted.index.tolist()) - 0.2\n",
    "years_g2 = np.array(l_nb_trees_plantet_g_wanted.index.tolist()) + 0.2\n",
    "years_e = np.array(l_nb_trees_plantet_e_not_wanted.index.tolist()) - 0.2\n",
    "years_e2 = np.array(l_nb_trees_plantet_e_wanted.index.tolist()) + 0.2\n",
    "\n",
    "plt.bar(years_g,l_nb_trees_plantet_g_not_wanted , label = 'genre not wanted', width =0.5)\n",
    "plt.bar(years_g2,l_nb_trees_plantet_g_wanted, label = 'genre wanted' , width =0.5)\n",
    "plt.ylabel('nb of planted trees')\n",
    "plt.xlabel('year')\n",
    "plt.legend()\n",
    "plt.show()\n",
    "\n",
    "plt.figure\n",
    "plt.bar(years_e,l_nb_trees_plantet_e_not_wanted , label = 'species not wanted', width =0.5)\n",
    "plt.bar(years_e2,l_nb_trees_plantet_e_wanted, label = 'species wanted', width =0.5 )\n",
    "plt.ylabel('nb of planted trees')\n",
    "plt.legend()\n",
    "plt.xlabel('year')\n",
    "plt.show()"
   ]
  },
  {
   "cell_type": "code",
   "execution_count": 34,
   "metadata": {},
   "outputs": [],
   "source": [
    "col_new = ['GENRE_BOTA', 'ESPECE','GENRE_ESPECE', 'ANNEEDEPLANTATION' ]\n",
    "df_nd = df[col_new].copy().dropna()\n",
    "df_d = df[col_new].copy().dropna()\n",
    "\n",
    "#print(df_not_desired)\n",
    "\n",
    "df_nd = pd.concat([df_nd[df_nd['GENRE_BOTA'].isin(list_genre_non_desiree)],\n",
    "                   df_nd[df_nd['GENRE_ESPECE'].isin(list_especes_non_desiree2)]])\n",
    "df_d = df_d[~df_d['GENRE_ESPECE'].isin(df_nd['GENRE_ESPECE'])]"
   ]
  },
  {
   "cell_type": "code",
   "execution_count": 35,
   "metadata": {},
   "outputs": [
    {
     "name": "stdout",
     "output_type": "stream",
     "text": [
      "      GENRE_BOTA          ESPECE         GENRE_ESPECE  ANNEEDEPLANTATION\n",
      "0           Acer  pseudoplatanus  Acer pseudoplatanus             2001.0\n",
      "1           Acer  pseudoplatanus  Acer pseudoplatanus             2001.0\n",
      "2           Acer  pseudoplatanus  Acer pseudoplatanus             2001.0\n",
      "3           Acer  pseudoplatanus  Acer pseudoplatanus             2001.0\n",
      "4           Acer  pseudoplatanus  Acer pseudoplatanus             2001.0\n",
      "...          ...             ...                  ...                ...\n",
      "31786       Acer  pseudoplatanus  Acer pseudoplatanus             1967.0\n",
      "31790       Acer     platanoides     Acer platanoides             1976.0\n",
      "31794       Acer     platanoides     Acer platanoides             1975.0\n",
      "31799       Acer         negundo         Acer negundo             1987.0\n",
      "31808       Acer         negundo         Acer negundo             1987.0\n",
      "\n",
      "[6288 rows x 4 columns]\n"
     ]
    },
    {
     "data": {
      "image/png": "[encoded data removed]",
      "text/plain": [
       "<Figure size 432x288 with 1 Axes>"
      ]
     },
     "metadata": {
      "needs_background": "light"
     },
     "output_type": "display_data"
    }
   ],
   "source": [
    "\n",
    "\n",
    "df_nd_gen = df_nd[df_nd['GENRE_BOTA'].isin(list_genre_non_desiree)]\n",
    "                       \n",
    "df_nd_esp = df_nd[df_nd['GENRE_ESPECE'].isin(list_especes_non_desiree2)]\n",
    "\n",
    "print(df_nd_esp)\n",
    "\n",
    "\n",
    "\n",
    "count_years_nd = df_nd['ANNEEDEPLANTATION' ].value_counts()\n",
    "count_years_d = df_d['ANNEEDEPLANTATION' ].value_counts()\n",
    "\n",
    "years_nd = np.array(count_years_nd.index.tolist()) - 0.2\n",
    "years_d = np.array(count_years_d.index.tolist()) + 0.2\n",
    "\n",
    "\n",
    "plt.figure\n",
    "plt.bar(years_nd,count_years_nd , label = 'trees not wanted', width =0.5)\n",
    "plt.bar(years_d,count_years_d, label = 'trees wanted', width =0.5 )\n",
    "plt.ylabel('nb of planted trees')\n",
    "plt.legend()\n",
    "plt.xlabel('year')\n",
    "plt.show()\n",
    "\n"
   ]
  },
  {
   "cell_type": "code",
   "execution_count": 36,
   "metadata": {},
   "outputs": [
    {
     "data": {
      "image/png": "[encoded data removed]",
      "text/plain": [
       "<Figure size 432x288 with 1 Axes>"
      ]
     },
     "metadata": {
      "needs_background": "light"
     },
     "output_type": "display_data"
    }
   ],
   "source": [
    "count_years_nd = df_nd['ANNEEDEPLANTATION'].value_counts().sort_index()\n",
    "count_years_d = df_d['ANNEEDEPLANTATION' ].value_counts().sort_index()\n",
    "\n",
    "\n",
    "dftest = pd.concat([count_years_nd,count_years_d ], axis=1)\n",
    "\n",
    "\n",
    "ax = dftest.plot.bar()\n",
    "ax.set_xlabel('year')\n",
    "ax.set_ylabel('nb of planted trees')\n",
    "\n",
    "plt.legend()\n",
    "plt.show()\n",
    "\n"
   ]
  },
  {
   "cell_type": "code",
   "execution_count": 37,
   "metadata": {},
   "outputs": [
    {
     "data": {
      "image/png": "[encoded data removed]",
      "text/plain": [
       "<Figure size 1080x360 with 1 Axes>"
      ]
     },
     "metadata": {
      "needs_background": "light"
     },
     "output_type": "display_data"
    }
   ],
   "source": [
    "col_new = ['GENRE_BOTA', 'GENRE_ESPECE', 'ANNEEDEPLANTATION' ]\n",
    "df1 = df[col_new].copy().dropna()\n",
    "\n",
    "\n",
    "# je veux savoir les annee de plantation des especes non désirees \n",
    "\n",
    "df1['ESP_NON_DES'] = df1.ANNEEDEPLANTATION[df1.GENRE_BOTA.isin(list_genre_non_desiree)\n",
    "                                           | df1.GENRE_ESPECE.isin(list_especes_non_desiree2)]\n",
    "\n",
    "df1['ESP_DES'] = df1.ANNEEDEPLANTATION[~df1.GENRE_BOTA.isin(list_genre_non_desiree) \n",
    "                                       & ~df1.GENRE_ESPECE.isin(list_especes_non_desiree2)]\n",
    "\n",
    "dfplot = pd.concat([df1['ESP_NON_DES'].value_counts().sort_index()\n",
    "                    ,df1['ESP_DES'].value_counts().sort_index()], axis=1)\n",
    "\n",
    "ax = dfplot.plot.bar(figsize = (15,5))\n",
    "ax.set_xlabel('year')\n",
    "ax.set_ylabel('nb of planted trees')\n",
    "\n",
    "ax.legend()\n",
    "plt.show()"
   ]
  },
  {
   "cell_type": "code",
   "execution_count": 38,
   "metadata": {},
   "outputs": [
    {
     "data": {
      "text/plain": [
       "(43500.0, 14572.0)"
      ]
     },
     "execution_count": 38,
     "metadata": {},
     "output_type": "execute_result"
    }
   ],
   "source": [
    "nb_esp_d = df_d['GENRE_ESPECE'].value_counts()\n",
    "nb_gen_d = df_d['GENRE_BOTA'].value_counts()\n",
    "\n",
    "\n",
    "total_nb_of_d_trees = len(df_d['GENRE_ESPECE'])\n",
    "\n",
    "nb_esp_nd = df_nd['GENRE_ESPECE'].value_counts()\n",
    "nb_gen_nd = df_nd['GENRE_BOTA'].value_counts()\n",
    "\n",
    "total_nb_of_nd_trees = len(df_d['GENRE_ESPECE'])\n",
    "\n",
    "total_nb_of_trees = total_nb_of_d_trees + total_nb_of_nd_trees\n",
    "\n",
    "pourcnt_esp_d = 100* nb_esp_d / total_nb_of_trees\n",
    "pourcnt_gen_d = 100* nb_gen_d / total_nb_of_trees \n",
    "\n",
    "\n",
    "pourcnt_esp_nd = 100* nb_esp_nd / total_nb_of_trees\n",
    "pourcnt_gen_nd = 100* nb_gen_nd / total_nb_of_trees \n",
    "\n",
    "nb_platanus_acerifolia = nb_esp_nd[0]\n",
    "\n",
    "nb_total_trees_needed = nb_platanus_acerifolia / 0.1\n",
    "nb_arbres_a_planter = nb_total_trees_needed - total_nb_of_trees\n",
    "\n",
    "nb_total_trees_needed , nb_arbres_a_planter\n",
    "\n"
   ]
  },
  {
   "cell_type": "markdown",
   "metadata": {},
   "source": [
    "14572.0 trees have to be plant for having 10 % of nb_platanus_acerifolia\n",
    "this well mean that we will have a total of 43500 trees\n",
    "\n",
    "a genre pf trees is not allowed to have more than 8700 trees\n",
    "and a species not more than 4350"
   ]
  },
  {
   "cell_type": "code",
   "execution_count": 39,
   "metadata": {},
   "outputs": [
    {
     "data": {
      "text/plain": [
       "(Pinus         6857\n",
       " Tilia         7045\n",
       " Carpinus      7375\n",
       " Acer          7386\n",
       " Prunus        7774\n",
       "               ... \n",
       " Sorbopyrus    8699\n",
       " Laburnum      8699\n",
       " Nyssa         8699\n",
       " Staphylea     8699\n",
       " Sequoia       8699\n",
       " Name: GENRE_BOTA, Length: 92, dtype: int64, Carpinus betulus           3039\n",
       " Pinus nigra                3085\n",
       " Tilia tomentosa            3364\n",
       " Acer campestre             3504\n",
       " Liquidambar styraciflua    3557\n",
       "                            ... \n",
       " Magnolia serrulata         4349\n",
       " Halesia monticola          4349\n",
       " Eucalyptus gunii           4349\n",
       " Sequoia sempervirens       4349\n",
       " Araucaria exelsa           4349\n",
       " Name: GENRE_ESPECE, Length: 257, dtype: int64)"
      ]
     },
     "execution_count": 39,
     "metadata": {},
     "output_type": "execute_result"
    }
   ],
   "source": [
    "# which trees are good to plant\n",
    "# 14572.0 trees have to be plant for having 10 % of nb_platanus_acerifolia\n",
    "#number of allowed trees to plant \n",
    "\n",
    "\n",
    "list_of_numbers_of_allowed_species = (4350 - nb_esp_d)\n",
    "list_of_numbers_of_allowed_genders = (8700 - nb_gen_d)\n",
    "\n",
    "list_of_numbers_of_allowed_genders, list_of_numbers_of_allowed_species\n",
    "\n",
    "# compute some sum of existing acer..\n",
    "\n",
    "#14572 /len(list_of_numbers_of_allowed_species)\n"
   ]
  },
  {
   "cell_type": "code",
   "execution_count": null,
   "metadata": {},
   "outputs": [],
   "source": []
  },
  {
   "cell_type": "markdown",
   "metadata": {},
   "source": [
    "# Itération 4\n",
    "### Analyser et représenter la distribution géographique des arbres."
   ]
  },
  {
   "cell_type": "markdown",
   "metadata": {},
   "source": [
    "#### Mettez les arbres sur une carte en utilisant Folium.\n"
   ]
  },
  {
   "cell_type": "code",
   "execution_count": 41,
   "metadata": {},
   "outputs": [],
   "source": [
    "col_new = ['GENRE_BOTA', 'ESPECE','GENRE_ESPECE', 'ANNEEDEPLANTATION', 'GeoJSON']\n",
    "\n",
    "df_n = df[col_new].copy()\n",
    "df_n = df_n\n",
    "#m = folium.Map(location=arbre_loc[0])\n"
   ]
  },
  {
   "cell_type": "code",
   "execution_count": 42,
   "metadata": {},
   "outputs": [
    {
     "name": "stdout",
     "output_type": "stream",
     "text": [
      "0          [45.1905385120349, 5.74072726311972]\n",
      "1           [45.190524547693, 5.74074817449951]\n",
      "2          [45.1904979371376, 5.74069739487812]\n",
      "3          [45.1904912803012, 5.74067549670718]\n",
      "4          [45.1904789877616, 5.74070156563956]\n",
      "                          ...                  \n",
      "31809      [45.1705166041633, 5.73851333274663]\n",
      "31810      [45.1703819888272, 5.73752846396888]\n",
      "31811    [45.1706301804827, 5.7384331724843705]\n",
      "31812      [45.1705713183505, 5.73732962283085]\n",
      "31813      [45.1705383820049, 5.73832873938417]\n",
      "Name: GeoJSON, Length: 31814, dtype: object\n",
      "[45.1905385120349 5.74072726311972]\n"
     ]
    },
    {
     "ename": "KeyboardInterrupt",
     "evalue": "",
     "output_type": "error",
     "traceback": [
      "\u001b[0;31m---------------------------------------------------------------------------\u001b[0m",
      "\u001b[0;31mKeyboardInterrupt\u001b[0m                         Traceback (most recent call last)",
      "\u001b[0;32m<ipython-input-42-9106f1386611>\u001b[0m in \u001b[0;36m<module>\u001b[0;34m\u001b[0m\n\u001b[1;32m      4\u001b[0m \u001b[0mprint\u001b[0m\u001b[0;34m(\u001b[0m\u001b[0mcoord\u001b[0m\u001b[0;34m.\u001b[0m\u001b[0miloc\u001b[0m\u001b[0;34m[\u001b[0m\u001b[0;36m0\u001b[0m\u001b[0;34m]\u001b[0m\u001b[0;34m)\u001b[0m\u001b[0;34m\u001b[0m\u001b[0;34m\u001b[0m\u001b[0m\n\u001b[1;32m      5\u001b[0m \u001b[0;34m\u001b[0m\u001b[0m\n\u001b[0;32m----> 6\u001b[0;31m \u001b[0mdf_n\u001b[0m\u001b[0;34m[\u001b[0m\u001b[0;34m'LONG'\u001b[0m\u001b[0;34m]\u001b[0m \u001b[0;34m,\u001b[0m \u001b[0mdf_n\u001b[0m\u001b[0;34m[\u001b[0m\u001b[0;34m'LAT'\u001b[0m\u001b[0;34m]\u001b[0m  \u001b[0;34m=\u001b[0m \u001b[0mzip\u001b[0m\u001b[0;34m(\u001b[0m\u001b[0;34m*\u001b[0m\u001b[0mdf_n\u001b[0m\u001b[0;34m[\u001b[0m\u001b[0;34m'GeoJSON'\u001b[0m\u001b[0;34m]\u001b[0m\u001b[0;34m.\u001b[0m\u001b[0mapply\u001b[0m\u001b[0;34m(\u001b[0m\u001b[0;32mlambda\u001b[0m \u001b[0mx\u001b[0m \u001b[0;34m:\u001b[0m \u001b[0mpd\u001b[0m\u001b[0;34m.\u001b[0m\u001b[0mread_json\u001b[0m\u001b[0;34m(\u001b[0m\u001b[0mx\u001b[0m\u001b[0;34m)\u001b[0m\u001b[0;34m.\u001b[0m\u001b[0mvalues\u001b[0m\u001b[0;34m[\u001b[0m\u001b[0;34m:\u001b[0m\u001b[0;34m,\u001b[0m\u001b[0;36m1\u001b[0m\u001b[0;34m]\u001b[0m\u001b[0;34m)\u001b[0m\u001b[0;34m)\u001b[0m\u001b[0;34m\u001b[0m\u001b[0;34m\u001b[0m\u001b[0m\n\u001b[0m\u001b[1;32m      7\u001b[0m \u001b[0;34m\u001b[0m\u001b[0m\n\u001b[1;32m      8\u001b[0m \u001b[0mtest\u001b[0m \u001b[0;34m=\u001b[0m \u001b[0mnp\u001b[0m\u001b[0;34m.\u001b[0m\u001b[0marray\u001b[0m\u001b[0;34m(\u001b[0m\u001b[0;34m[\u001b[0m\u001b[0mdf_n\u001b[0m\u001b[0;34m.\u001b[0m\u001b[0miloc\u001b[0m\u001b[0;34m[\u001b[0m\u001b[0;36m0\u001b[0m\u001b[0;34m]\u001b[0m\u001b[0;34m[\u001b[0m\u001b[0;34m'LAT'\u001b[0m\u001b[0;34m]\u001b[0m\u001b[0;34m,\u001b[0m \u001b[0mdf_n\u001b[0m\u001b[0;34m.\u001b[0m\u001b[0miloc\u001b[0m\u001b[0;34m[\u001b[0m\u001b[0;36m0\u001b[0m\u001b[0;34m]\u001b[0m\u001b[0;34m[\u001b[0m\u001b[0;34m'LONG'\u001b[0m\u001b[0;34m]\u001b[0m\u001b[0;34m]\u001b[0m\u001b[0;34m)\u001b[0m\u001b[0;34m\u001b[0m\u001b[0;34m\u001b[0m\u001b[0m\n",
      "\u001b[0;32m~/anaconda3/lib/python3.7/site-packages/pandas/core/series.py\u001b[0m in \u001b[0;36mapply\u001b[0;34m(self, func, convert_dtype, args, **kwds)\u001b[0m\n\u001b[1;32m   4040\u001b[0m             \u001b[0;32melse\u001b[0m\u001b[0;34m:\u001b[0m\u001b[0;34m\u001b[0m\u001b[0;34m\u001b[0m\u001b[0m\n\u001b[1;32m   4041\u001b[0m                 \u001b[0mvalues\u001b[0m \u001b[0;34m=\u001b[0m \u001b[0mself\u001b[0m\u001b[0;34m.\u001b[0m\u001b[0mastype\u001b[0m\u001b[0;34m(\u001b[0m\u001b[0mobject\u001b[0m\u001b[0;34m)\u001b[0m\u001b[0;34m.\u001b[0m\u001b[0mvalues\u001b[0m\u001b[0;34m\u001b[0m\u001b[0;34m\u001b[0m\u001b[0m\n\u001b[0;32m-> 4042\u001b[0;31m                 \u001b[0mmapped\u001b[0m \u001b[0;34m=\u001b[0m \u001b[0mlib\u001b[0m\u001b[0;34m.\u001b[0m\u001b[0mmap_infer\u001b[0m\u001b[0;34m(\u001b[0m\u001b[0mvalues\u001b[0m\u001b[0;34m,\u001b[0m \u001b[0mf\u001b[0m\u001b[0;34m,\u001b[0m \u001b[0mconvert\u001b[0m\u001b[0;34m=\u001b[0m\u001b[0mconvert_dtype\u001b[0m\u001b[0;34m)\u001b[0m\u001b[0;34m\u001b[0m\u001b[0;34m\u001b[0m\u001b[0m\n\u001b[0m\u001b[1;32m   4043\u001b[0m \u001b[0;34m\u001b[0m\u001b[0m\n\u001b[1;32m   4044\u001b[0m         \u001b[0;32mif\u001b[0m \u001b[0mlen\u001b[0m\u001b[0;34m(\u001b[0m\u001b[0mmapped\u001b[0m\u001b[0;34m)\u001b[0m \u001b[0;32mand\u001b[0m \u001b[0misinstance\u001b[0m\u001b[0;34m(\u001b[0m\u001b[0mmapped\u001b[0m\u001b[0;34m[\u001b[0m\u001b[0;36m0\u001b[0m\u001b[0;34m]\u001b[0m\u001b[0;34m,\u001b[0m \u001b[0mSeries\u001b[0m\u001b[0;34m)\u001b[0m\u001b[0;34m:\u001b[0m\u001b[0;34m\u001b[0m\u001b[0;34m\u001b[0m\u001b[0m\n",
      "\u001b[0;32mpandas/_libs/lib.pyx\u001b[0m in \u001b[0;36mpandas._libs.lib.map_infer\u001b[0;34m()\u001b[0m\n",
      "\u001b[0;32m<ipython-input-42-9106f1386611>\u001b[0m in \u001b[0;36m<lambda>\u001b[0;34m(x)\u001b[0m\n\u001b[1;32m      4\u001b[0m \u001b[0mprint\u001b[0m\u001b[0;34m(\u001b[0m\u001b[0mcoord\u001b[0m\u001b[0;34m.\u001b[0m\u001b[0miloc\u001b[0m\u001b[0;34m[\u001b[0m\u001b[0;36m0\u001b[0m\u001b[0;34m]\u001b[0m\u001b[0;34m)\u001b[0m\u001b[0;34m\u001b[0m\u001b[0;34m\u001b[0m\u001b[0m\n\u001b[1;32m      5\u001b[0m \u001b[0;34m\u001b[0m\u001b[0m\n\u001b[0;32m----> 6\u001b[0;31m \u001b[0mdf_n\u001b[0m\u001b[0;34m[\u001b[0m\u001b[0;34m'LONG'\u001b[0m\u001b[0;34m]\u001b[0m \u001b[0;34m,\u001b[0m \u001b[0mdf_n\u001b[0m\u001b[0;34m[\u001b[0m\u001b[0;34m'LAT'\u001b[0m\u001b[0;34m]\u001b[0m  \u001b[0;34m=\u001b[0m \u001b[0mzip\u001b[0m\u001b[0;34m(\u001b[0m\u001b[0;34m*\u001b[0m\u001b[0mdf_n\u001b[0m\u001b[0;34m[\u001b[0m\u001b[0;34m'GeoJSON'\u001b[0m\u001b[0;34m]\u001b[0m\u001b[0;34m.\u001b[0m\u001b[0mapply\u001b[0m\u001b[0;34m(\u001b[0m\u001b[0;32mlambda\u001b[0m \u001b[0mx\u001b[0m \u001b[0;34m:\u001b[0m \u001b[0mpd\u001b[0m\u001b[0;34m.\u001b[0m\u001b[0mread_json\u001b[0m\u001b[0;34m(\u001b[0m\u001b[0mx\u001b[0m\u001b[0;34m)\u001b[0m\u001b[0;34m.\u001b[0m\u001b[0mvalues\u001b[0m\u001b[0;34m[\u001b[0m\u001b[0;34m:\u001b[0m\u001b[0;34m,\u001b[0m\u001b[0;36m1\u001b[0m\u001b[0;34m]\u001b[0m\u001b[0;34m)\u001b[0m\u001b[0;34m)\u001b[0m\u001b[0;34m\u001b[0m\u001b[0;34m\u001b[0m\u001b[0m\n\u001b[0m\u001b[1;32m      7\u001b[0m \u001b[0;34m\u001b[0m\u001b[0m\n\u001b[1;32m      8\u001b[0m \u001b[0mtest\u001b[0m \u001b[0;34m=\u001b[0m \u001b[0mnp\u001b[0m\u001b[0;34m.\u001b[0m\u001b[0marray\u001b[0m\u001b[0;34m(\u001b[0m\u001b[0;34m[\u001b[0m\u001b[0mdf_n\u001b[0m\u001b[0;34m.\u001b[0m\u001b[0miloc\u001b[0m\u001b[0;34m[\u001b[0m\u001b[0;36m0\u001b[0m\u001b[0;34m]\u001b[0m\u001b[0;34m[\u001b[0m\u001b[0;34m'LAT'\u001b[0m\u001b[0;34m]\u001b[0m\u001b[0;34m,\u001b[0m \u001b[0mdf_n\u001b[0m\u001b[0;34m.\u001b[0m\u001b[0miloc\u001b[0m\u001b[0;34m[\u001b[0m\u001b[0;36m0\u001b[0m\u001b[0;34m]\u001b[0m\u001b[0;34m[\u001b[0m\u001b[0;34m'LONG'\u001b[0m\u001b[0;34m]\u001b[0m\u001b[0;34m]\u001b[0m\u001b[0;34m)\u001b[0m\u001b[0;34m\u001b[0m\u001b[0;34m\u001b[0m\u001b[0m\n",
      "\u001b[0;32m~/anaconda3/lib/python3.7/site-packages/pandas/io/json/_json.py\u001b[0m in \u001b[0;36mread_json\u001b[0;34m(path_or_buf, orient, typ, dtype, convert_axes, convert_dates, keep_default_dates, numpy, precise_float, date_unit, encoding, lines, chunksize, compression)\u001b[0m\n\u001b[1;32m    590\u001b[0m         \u001b[0;32mreturn\u001b[0m \u001b[0mjson_reader\u001b[0m\u001b[0;34m\u001b[0m\u001b[0;34m\u001b[0m\u001b[0m\n\u001b[1;32m    591\u001b[0m \u001b[0;34m\u001b[0m\u001b[0m\n\u001b[0;32m--> 592\u001b[0;31m     \u001b[0mresult\u001b[0m \u001b[0;34m=\u001b[0m \u001b[0mjson_reader\u001b[0m\u001b[0;34m.\u001b[0m\u001b[0mread\u001b[0m\u001b[0;34m(\u001b[0m\u001b[0;34m)\u001b[0m\u001b[0;34m\u001b[0m\u001b[0;34m\u001b[0m\u001b[0m\n\u001b[0m\u001b[1;32m    593\u001b[0m     \u001b[0;32mif\u001b[0m \u001b[0mshould_close\u001b[0m\u001b[0;34m:\u001b[0m\u001b[0;34m\u001b[0m\u001b[0;34m\u001b[0m\u001b[0m\n\u001b[1;32m    594\u001b[0m         \u001b[0;32mtry\u001b[0m\u001b[0;34m:\u001b[0m\u001b[0;34m\u001b[0m\u001b[0;34m\u001b[0m\u001b[0m\n",
      "\u001b[0;32m~/anaconda3/lib/python3.7/site-packages/pandas/io/json/_json.py\u001b[0m in \u001b[0;36mread\u001b[0;34m(self)\u001b[0m\n\u001b[1;32m    715\u001b[0m             \u001b[0mobj\u001b[0m \u001b[0;34m=\u001b[0m \u001b[0mself\u001b[0m\u001b[0;34m.\u001b[0m\u001b[0m_get_object_parser\u001b[0m\u001b[0;34m(\u001b[0m\u001b[0mself\u001b[0m\u001b[0;34m.\u001b[0m\u001b[0m_combine_lines\u001b[0m\u001b[0;34m(\u001b[0m\u001b[0mdata\u001b[0m\u001b[0;34m.\u001b[0m\u001b[0msplit\u001b[0m\u001b[0;34m(\u001b[0m\u001b[0;34m\"\\n\"\u001b[0m\u001b[0;34m)\u001b[0m\u001b[0;34m)\u001b[0m\u001b[0;34m)\u001b[0m\u001b[0;34m\u001b[0m\u001b[0;34m\u001b[0m\u001b[0m\n\u001b[1;32m    716\u001b[0m         \u001b[0;32melse\u001b[0m\u001b[0;34m:\u001b[0m\u001b[0;34m\u001b[0m\u001b[0;34m\u001b[0m\u001b[0m\n\u001b[0;32m--> 717\u001b[0;31m             \u001b[0mobj\u001b[0m \u001b[0;34m=\u001b[0m \u001b[0mself\u001b[0m\u001b[0;34m.\u001b[0m\u001b[0m_get_object_parser\u001b[0m\u001b[0;34m(\u001b[0m\u001b[0mself\u001b[0m\u001b[0;34m.\u001b[0m\u001b[0mdata\u001b[0m\u001b[0;34m)\u001b[0m\u001b[0;34m\u001b[0m\u001b[0;34m\u001b[0m\u001b[0m\n\u001b[0m\u001b[1;32m    718\u001b[0m         \u001b[0mself\u001b[0m\u001b[0;34m.\u001b[0m\u001b[0mclose\u001b[0m\u001b[0;34m(\u001b[0m\u001b[0;34m)\u001b[0m\u001b[0;34m\u001b[0m\u001b[0;34m\u001b[0m\u001b[0m\n\u001b[1;32m    719\u001b[0m         \u001b[0;32mreturn\u001b[0m \u001b[0mobj\u001b[0m\u001b[0;34m\u001b[0m\u001b[0;34m\u001b[0m\u001b[0m\n",
      "\u001b[0;32m~/anaconda3/lib/python3.7/site-packages/pandas/io/json/_json.py\u001b[0m in \u001b[0;36m_get_object_parser\u001b[0;34m(self, json)\u001b[0m\n\u001b[1;32m    737\u001b[0m         \u001b[0mobj\u001b[0m \u001b[0;34m=\u001b[0m \u001b[0;32mNone\u001b[0m\u001b[0;34m\u001b[0m\u001b[0;34m\u001b[0m\u001b[0m\n\u001b[1;32m    738\u001b[0m         \u001b[0;32mif\u001b[0m \u001b[0mtyp\u001b[0m \u001b[0;34m==\u001b[0m \u001b[0;34m\"frame\"\u001b[0m\u001b[0;34m:\u001b[0m\u001b[0;34m\u001b[0m\u001b[0;34m\u001b[0m\u001b[0m\n\u001b[0;32m--> 739\u001b[0;31m             \u001b[0mobj\u001b[0m \u001b[0;34m=\u001b[0m \u001b[0mFrameParser\u001b[0m\u001b[0;34m(\u001b[0m\u001b[0mjson\u001b[0m\u001b[0;34m,\u001b[0m \u001b[0;34m**\u001b[0m\u001b[0mkwargs\u001b[0m\u001b[0;34m)\u001b[0m\u001b[0;34m.\u001b[0m\u001b[0mparse\u001b[0m\u001b[0;34m(\u001b[0m\u001b[0;34m)\u001b[0m\u001b[0;34m\u001b[0m\u001b[0;34m\u001b[0m\u001b[0m\n\u001b[0m\u001b[1;32m    740\u001b[0m \u001b[0;34m\u001b[0m\u001b[0m\n\u001b[1;32m    741\u001b[0m         \u001b[0;32mif\u001b[0m \u001b[0mtyp\u001b[0m \u001b[0;34m==\u001b[0m \u001b[0;34m\"series\"\u001b[0m \u001b[0;32mor\u001b[0m \u001b[0mobj\u001b[0m \u001b[0;32mis\u001b[0m \u001b[0;32mNone\u001b[0m\u001b[0;34m:\u001b[0m\u001b[0;34m\u001b[0m\u001b[0;34m\u001b[0m\u001b[0m\n",
      "\u001b[0;32m~/anaconda3/lib/python3.7/site-packages/pandas/io/json/_json.py\u001b[0m in \u001b[0;36mparse\u001b[0;34m(self)\u001b[0m\n\u001b[1;32m    852\u001b[0m             \u001b[0;32mreturn\u001b[0m \u001b[0;32mNone\u001b[0m\u001b[0;34m\u001b[0m\u001b[0;34m\u001b[0m\u001b[0m\n\u001b[1;32m    853\u001b[0m         \u001b[0;32mif\u001b[0m \u001b[0mself\u001b[0m\u001b[0;34m.\u001b[0m\u001b[0mconvert_axes\u001b[0m\u001b[0;34m:\u001b[0m\u001b[0;34m\u001b[0m\u001b[0;34m\u001b[0m\u001b[0m\n\u001b[0;32m--> 854\u001b[0;31m             \u001b[0mself\u001b[0m\u001b[0;34m.\u001b[0m\u001b[0m_convert_axes\u001b[0m\u001b[0;34m(\u001b[0m\u001b[0;34m)\u001b[0m\u001b[0;34m\u001b[0m\u001b[0;34m\u001b[0m\u001b[0m\n\u001b[0m\u001b[1;32m    855\u001b[0m         \u001b[0mself\u001b[0m\u001b[0;34m.\u001b[0m\u001b[0m_try_convert_types\u001b[0m\u001b[0;34m(\u001b[0m\u001b[0;34m)\u001b[0m\u001b[0;34m\u001b[0m\u001b[0;34m\u001b[0m\u001b[0m\n\u001b[1;32m    856\u001b[0m         \u001b[0;32mreturn\u001b[0m \u001b[0mself\u001b[0m\u001b[0;34m.\u001b[0m\u001b[0mobj\u001b[0m\u001b[0;34m\u001b[0m\u001b[0;34m\u001b[0m\u001b[0m\n",
      "\u001b[0;32m~/anaconda3/lib/python3.7/site-packages/pandas/io/json/_json.py\u001b[0m in \u001b[0;36m_convert_axes\u001b[0;34m(self)\u001b[0m\n\u001b[1;32m    862\u001b[0m         \u001b[0;32mfor\u001b[0m \u001b[0maxis\u001b[0m \u001b[0;32min\u001b[0m \u001b[0mself\u001b[0m\u001b[0;34m.\u001b[0m\u001b[0mobj\u001b[0m\u001b[0;34m.\u001b[0m\u001b[0m_AXIS_NUMBERS\u001b[0m\u001b[0;34m.\u001b[0m\u001b[0mkeys\u001b[0m\u001b[0;34m(\u001b[0m\u001b[0;34m)\u001b[0m\u001b[0;34m:\u001b[0m\u001b[0;34m\u001b[0m\u001b[0;34m\u001b[0m\u001b[0m\n\u001b[1;32m    863\u001b[0m             new_axis, result = self._try_convert_data(\n\u001b[0;32m--> 864\u001b[0;31m                 \u001b[0maxis\u001b[0m\u001b[0;34m,\u001b[0m \u001b[0mself\u001b[0m\u001b[0;34m.\u001b[0m\u001b[0mobj\u001b[0m\u001b[0;34m.\u001b[0m\u001b[0m_get_axis\u001b[0m\u001b[0;34m(\u001b[0m\u001b[0maxis\u001b[0m\u001b[0;34m)\u001b[0m\u001b[0;34m,\u001b[0m \u001b[0muse_dtypes\u001b[0m\u001b[0;34m=\u001b[0m\u001b[0;32mFalse\u001b[0m\u001b[0;34m,\u001b[0m \u001b[0mconvert_dates\u001b[0m\u001b[0;34m=\u001b[0m\u001b[0;32mTrue\u001b[0m\u001b[0;34m\u001b[0m\u001b[0;34m\u001b[0m\u001b[0m\n\u001b[0m\u001b[1;32m    865\u001b[0m             )\n\u001b[1;32m    866\u001b[0m             \u001b[0;32mif\u001b[0m \u001b[0mresult\u001b[0m\u001b[0;34m:\u001b[0m\u001b[0;34m\u001b[0m\u001b[0;34m\u001b[0m\u001b[0m\n",
      "\u001b[0;32m~/anaconda3/lib/python3.7/site-packages/pandas/io/json/_json.py\u001b[0m in \u001b[0;36m_try_convert_data\u001b[0;34m(self, name, data, use_dtypes, convert_dates)\u001b[0m\n\u001b[1;32m    894\u001b[0m \u001b[0;34m\u001b[0m\u001b[0m\n\u001b[1;32m    895\u001b[0m         \u001b[0;32mif\u001b[0m \u001b[0mconvert_dates\u001b[0m\u001b[0;34m:\u001b[0m\u001b[0;34m\u001b[0m\u001b[0;34m\u001b[0m\u001b[0m\n\u001b[0;32m--> 896\u001b[0;31m             \u001b[0mnew_data\u001b[0m\u001b[0;34m,\u001b[0m \u001b[0mresult\u001b[0m \u001b[0;34m=\u001b[0m \u001b[0mself\u001b[0m\u001b[0;34m.\u001b[0m\u001b[0m_try_convert_to_date\u001b[0m\u001b[0;34m(\u001b[0m\u001b[0mdata\u001b[0m\u001b[0;34m)\u001b[0m\u001b[0;34m\u001b[0m\u001b[0;34m\u001b[0m\u001b[0m\n\u001b[0m\u001b[1;32m    897\u001b[0m             \u001b[0;32mif\u001b[0m \u001b[0mresult\u001b[0m\u001b[0;34m:\u001b[0m\u001b[0;34m\u001b[0m\u001b[0;34m\u001b[0m\u001b[0m\n\u001b[1;32m    898\u001b[0m                 \u001b[0;32mreturn\u001b[0m \u001b[0mnew_data\u001b[0m\u001b[0;34m,\u001b[0m \u001b[0;32mTrue\u001b[0m\u001b[0;34m\u001b[0m\u001b[0;34m\u001b[0m\u001b[0m\n",
      "\u001b[0;32m~/anaconda3/lib/python3.7/site-packages/pandas/io/json/_json.py\u001b[0m in \u001b[0;36m_try_convert_to_date\u001b[0;34m(self, data)\u001b[0m\n\u001b[1;32m    976\u001b[0m         \u001b[0;32mfor\u001b[0m \u001b[0mdate_unit\u001b[0m \u001b[0;32min\u001b[0m \u001b[0mdate_units\u001b[0m\u001b[0;34m:\u001b[0m\u001b[0;34m\u001b[0m\u001b[0;34m\u001b[0m\u001b[0m\n\u001b[1;32m    977\u001b[0m             \u001b[0;32mtry\u001b[0m\u001b[0;34m:\u001b[0m\u001b[0;34m\u001b[0m\u001b[0;34m\u001b[0m\u001b[0m\n\u001b[0;32m--> 978\u001b[0;31m                 \u001b[0mnew_data\u001b[0m \u001b[0;34m=\u001b[0m \u001b[0mto_datetime\u001b[0m\u001b[0;34m(\u001b[0m\u001b[0mnew_data\u001b[0m\u001b[0;34m,\u001b[0m \u001b[0merrors\u001b[0m\u001b[0;34m=\u001b[0m\u001b[0;34m\"raise\"\u001b[0m\u001b[0;34m,\u001b[0m \u001b[0munit\u001b[0m\u001b[0;34m=\u001b[0m\u001b[0mdate_unit\u001b[0m\u001b[0;34m)\u001b[0m\u001b[0;34m\u001b[0m\u001b[0;34m\u001b[0m\u001b[0m\n\u001b[0m\u001b[1;32m    979\u001b[0m             \u001b[0;32mexcept\u001b[0m \u001b[0mValueError\u001b[0m\u001b[0;34m:\u001b[0m\u001b[0;34m\u001b[0m\u001b[0;34m\u001b[0m\u001b[0m\n\u001b[1;32m    980\u001b[0m                 \u001b[0;32mcontinue\u001b[0m\u001b[0;34m\u001b[0m\u001b[0;34m\u001b[0m\u001b[0m\n",
      "\u001b[0;32m~/anaconda3/lib/python3.7/site-packages/pandas/util/_decorators.py\u001b[0m in \u001b[0;36mwrapper\u001b[0;34m(*args, **kwargs)\u001b[0m\n\u001b[1;32m    206\u001b[0m                 \u001b[0;32melse\u001b[0m\u001b[0;34m:\u001b[0m\u001b[0;34m\u001b[0m\u001b[0;34m\u001b[0m\u001b[0m\n\u001b[1;32m    207\u001b[0m                     \u001b[0mkwargs\u001b[0m\u001b[0;34m[\u001b[0m\u001b[0mnew_arg_name\u001b[0m\u001b[0;34m]\u001b[0m \u001b[0;34m=\u001b[0m \u001b[0mnew_arg_value\u001b[0m\u001b[0;34m\u001b[0m\u001b[0;34m\u001b[0m\u001b[0m\n\u001b[0;32m--> 208\u001b[0;31m             \u001b[0;32mreturn\u001b[0m \u001b[0mfunc\u001b[0m\u001b[0;34m(\u001b[0m\u001b[0;34m*\u001b[0m\u001b[0margs\u001b[0m\u001b[0;34m,\u001b[0m \u001b[0;34m**\u001b[0m\u001b[0mkwargs\u001b[0m\u001b[0;34m)\u001b[0m\u001b[0;34m\u001b[0m\u001b[0;34m\u001b[0m\u001b[0m\n\u001b[0m\u001b[1;32m    209\u001b[0m \u001b[0;34m\u001b[0m\u001b[0m\n\u001b[1;32m    210\u001b[0m         \u001b[0;32mreturn\u001b[0m \u001b[0mwrapper\u001b[0m\u001b[0;34m\u001b[0m\u001b[0;34m\u001b[0m\u001b[0m\n",
      "\u001b[0;32m~/anaconda3/lib/python3.7/site-packages/pandas/core/tools/datetimes.py\u001b[0m in \u001b[0;36mto_datetime\u001b[0;34m(arg, errors, dayfirst, yearfirst, utc, box, format, exact, unit, infer_datetime_format, origin, cache)\u001b[0m\n\u001b[1;32m    781\u001b[0m         \u001b[0mresult\u001b[0m \u001b[0;34m=\u001b[0m \u001b[0m_assemble_from_unit_mappings\u001b[0m\u001b[0;34m(\u001b[0m\u001b[0marg\u001b[0m\u001b[0;34m,\u001b[0m \u001b[0merrors\u001b[0m\u001b[0;34m,\u001b[0m \u001b[0mbox\u001b[0m\u001b[0;34m,\u001b[0m \u001b[0mtz\u001b[0m\u001b[0;34m)\u001b[0m\u001b[0;34m\u001b[0m\u001b[0;34m\u001b[0m\u001b[0m\n\u001b[1;32m    782\u001b[0m     \u001b[0;32melif\u001b[0m \u001b[0misinstance\u001b[0m\u001b[0;34m(\u001b[0m\u001b[0marg\u001b[0m\u001b[0;34m,\u001b[0m \u001b[0mABCIndexClass\u001b[0m\u001b[0;34m)\u001b[0m\u001b[0;34m:\u001b[0m\u001b[0;34m\u001b[0m\u001b[0;34m\u001b[0m\u001b[0m\n\u001b[0;32m--> 783\u001b[0;31m         \u001b[0mcache_array\u001b[0m \u001b[0;34m=\u001b[0m \u001b[0m_maybe_cache\u001b[0m\u001b[0;34m(\u001b[0m\u001b[0marg\u001b[0m\u001b[0;34m,\u001b[0m \u001b[0mformat\u001b[0m\u001b[0;34m,\u001b[0m \u001b[0mcache\u001b[0m\u001b[0;34m,\u001b[0m \u001b[0mconvert_listlike\u001b[0m\u001b[0;34m)\u001b[0m\u001b[0;34m\u001b[0m\u001b[0;34m\u001b[0m\u001b[0m\n\u001b[0m\u001b[1;32m    784\u001b[0m         \u001b[0;32mif\u001b[0m \u001b[0;32mnot\u001b[0m \u001b[0mcache_array\u001b[0m\u001b[0;34m.\u001b[0m\u001b[0mempty\u001b[0m\u001b[0;34m:\u001b[0m\u001b[0;34m\u001b[0m\u001b[0;34m\u001b[0m\u001b[0m\n\u001b[1;32m    785\u001b[0m             \u001b[0mresult\u001b[0m \u001b[0;34m=\u001b[0m \u001b[0m_convert_and_box_cache\u001b[0m\u001b[0;34m(\u001b[0m\u001b[0marg\u001b[0m\u001b[0;34m,\u001b[0m \u001b[0mcache_array\u001b[0m\u001b[0;34m,\u001b[0m \u001b[0mbox\u001b[0m\u001b[0;34m,\u001b[0m \u001b[0mname\u001b[0m\u001b[0;34m=\u001b[0m\u001b[0marg\u001b[0m\u001b[0;34m.\u001b[0m\u001b[0mname\u001b[0m\u001b[0;34m)\u001b[0m\u001b[0;34m\u001b[0m\u001b[0;34m\u001b[0m\u001b[0m\n",
      "\u001b[0;32m~/anaconda3/lib/python3.7/site-packages/pandas/core/tools/datetimes.py\u001b[0m in \u001b[0;36m_maybe_cache\u001b[0;34m(arg, format, cache, convert_listlike)\u001b[0m\n\u001b[1;32m    146\u001b[0m     \u001b[0;32mfrom\u001b[0m \u001b[0mpandas\u001b[0m \u001b[0;32mimport\u001b[0m \u001b[0mSeries\u001b[0m\u001b[0;34m\u001b[0m\u001b[0;34m\u001b[0m\u001b[0m\n\u001b[1;32m    147\u001b[0m \u001b[0;34m\u001b[0m\u001b[0m\n\u001b[0;32m--> 148\u001b[0;31m     \u001b[0mcache_array\u001b[0m \u001b[0;34m=\u001b[0m \u001b[0mSeries\u001b[0m\u001b[0;34m(\u001b[0m\u001b[0;34m)\u001b[0m\u001b[0;34m\u001b[0m\u001b[0;34m\u001b[0m\u001b[0m\n\u001b[0m\u001b[1;32m    149\u001b[0m     \u001b[0;32mif\u001b[0m \u001b[0mcache\u001b[0m\u001b[0;34m:\u001b[0m\u001b[0;34m\u001b[0m\u001b[0;34m\u001b[0m\u001b[0m\n\u001b[1;32m    150\u001b[0m         \u001b[0;31m# Perform a quicker unique check\u001b[0m\u001b[0;34m\u001b[0m\u001b[0;34m\u001b[0m\u001b[0;34m\u001b[0m\u001b[0m\n",
      "\u001b[0;32m~/anaconda3/lib/python3.7/site-packages/pandas/core/series.py\u001b[0m in \u001b[0;36m__init__\u001b[0;34m(self, data, index, dtype, name, copy, fastpath)\u001b[0m\n\u001b[1;32m    257\u001b[0m                 \u001b[0mdata\u001b[0m \u001b[0;34m=\u001b[0m \u001b[0mdata\u001b[0m\u001b[0;34m.\u001b[0m\u001b[0m_data\u001b[0m\u001b[0;34m\u001b[0m\u001b[0;34m\u001b[0m\u001b[0m\n\u001b[1;32m    258\u001b[0m             \u001b[0;32melif\u001b[0m \u001b[0misinstance\u001b[0m\u001b[0;34m(\u001b[0m\u001b[0mdata\u001b[0m\u001b[0;34m,\u001b[0m \u001b[0mdict\u001b[0m\u001b[0;34m)\u001b[0m\u001b[0;34m:\u001b[0m\u001b[0;34m\u001b[0m\u001b[0;34m\u001b[0m\u001b[0m\n\u001b[0;32m--> 259\u001b[0;31m                 \u001b[0mdata\u001b[0m\u001b[0;34m,\u001b[0m \u001b[0mindex\u001b[0m \u001b[0;34m=\u001b[0m \u001b[0mself\u001b[0m\u001b[0;34m.\u001b[0m\u001b[0m_init_dict\u001b[0m\u001b[0;34m(\u001b[0m\u001b[0mdata\u001b[0m\u001b[0;34m,\u001b[0m \u001b[0mindex\u001b[0m\u001b[0;34m,\u001b[0m \u001b[0mdtype\u001b[0m\u001b[0;34m)\u001b[0m\u001b[0;34m\u001b[0m\u001b[0;34m\u001b[0m\u001b[0m\n\u001b[0m\u001b[1;32m    260\u001b[0m                 \u001b[0mdtype\u001b[0m \u001b[0;34m=\u001b[0m \u001b[0;32mNone\u001b[0m\u001b[0;34m\u001b[0m\u001b[0;34m\u001b[0m\u001b[0m\n\u001b[1;32m    261\u001b[0m                 \u001b[0mcopy\u001b[0m \u001b[0;34m=\u001b[0m \u001b[0;32mFalse\u001b[0m\u001b[0;34m\u001b[0m\u001b[0;34m\u001b[0m\u001b[0m\n",
      "\u001b[0;32m~/anaconda3/lib/python3.7/site-packages/pandas/core/series.py\u001b[0m in \u001b[0;36m_init_dict\u001b[0;34m(self, data, index, dtype)\u001b[0m\n\u001b[1;32m    351\u001b[0m \u001b[0;34m\u001b[0m\u001b[0m\n\u001b[1;32m    352\u001b[0m         \u001b[0;31m# Input is now list-like, so rely on \"standard\" construction:\u001b[0m\u001b[0;34m\u001b[0m\u001b[0;34m\u001b[0m\u001b[0;34m\u001b[0m\u001b[0m\n\u001b[0;32m--> 353\u001b[0;31m         \u001b[0ms\u001b[0m \u001b[0;34m=\u001b[0m \u001b[0mSeries\u001b[0m\u001b[0;34m(\u001b[0m\u001b[0mvalues\u001b[0m\u001b[0;34m,\u001b[0m \u001b[0mindex\u001b[0m\u001b[0;34m=\u001b[0m\u001b[0mkeys\u001b[0m\u001b[0;34m,\u001b[0m \u001b[0mdtype\u001b[0m\u001b[0;34m=\u001b[0m\u001b[0mdtype\u001b[0m\u001b[0;34m)\u001b[0m\u001b[0;34m\u001b[0m\u001b[0;34m\u001b[0m\u001b[0m\n\u001b[0m\u001b[1;32m    354\u001b[0m \u001b[0;34m\u001b[0m\u001b[0m\n\u001b[1;32m    355\u001b[0m         \u001b[0;31m# Now we just make sure the order is respected, if any\u001b[0m\u001b[0;34m\u001b[0m\u001b[0;34m\u001b[0m\u001b[0;34m\u001b[0m\u001b[0m\n",
      "\u001b[0;32m~/anaconda3/lib/python3.7/site-packages/pandas/core/series.py\u001b[0m in \u001b[0;36m__init__\u001b[0;34m(self, data, index, dtype, name, copy, fastpath)\u001b[0m\n\u001b[1;32m    313\u001b[0m                 \u001b[0mdata\u001b[0m \u001b[0;34m=\u001b[0m \u001b[0mSingleBlockManager\u001b[0m\u001b[0;34m(\u001b[0m\u001b[0mdata\u001b[0m\u001b[0;34m,\u001b[0m \u001b[0mindex\u001b[0m\u001b[0;34m,\u001b[0m \u001b[0mfastpath\u001b[0m\u001b[0;34m=\u001b[0m\u001b[0;32mTrue\u001b[0m\u001b[0;34m)\u001b[0m\u001b[0;34m\u001b[0m\u001b[0;34m\u001b[0m\u001b[0m\n\u001b[1;32m    314\u001b[0m \u001b[0;34m\u001b[0m\u001b[0m\n\u001b[0;32m--> 315\u001b[0;31m         \u001b[0mgeneric\u001b[0m\u001b[0;34m.\u001b[0m\u001b[0mNDFrame\u001b[0m\u001b[0;34m.\u001b[0m\u001b[0m__init__\u001b[0m\u001b[0;34m(\u001b[0m\u001b[0mself\u001b[0m\u001b[0;34m,\u001b[0m \u001b[0mdata\u001b[0m\u001b[0;34m,\u001b[0m \u001b[0mfastpath\u001b[0m\u001b[0;34m=\u001b[0m\u001b[0;32mTrue\u001b[0m\u001b[0;34m)\u001b[0m\u001b[0;34m\u001b[0m\u001b[0;34m\u001b[0m\u001b[0m\n\u001b[0m\u001b[1;32m    316\u001b[0m \u001b[0;34m\u001b[0m\u001b[0m\n\u001b[1;32m    317\u001b[0m         \u001b[0mself\u001b[0m\u001b[0;34m.\u001b[0m\u001b[0mname\u001b[0m \u001b[0;34m=\u001b[0m \u001b[0mname\u001b[0m\u001b[0;34m\u001b[0m\u001b[0;34m\u001b[0m\u001b[0m\n",
      "\u001b[0;32m~/anaconda3/lib/python3.7/site-packages/pandas/core/generic.py\u001b[0m in \u001b[0;36m__init__\u001b[0;34m(self, data, axes, copy, dtype, fastpath)\u001b[0m\n\u001b[1;32m    180\u001b[0m \u001b[0;34m\u001b[0m\u001b[0m\n\u001b[1;32m    181\u001b[0m         \u001b[0mobject\u001b[0m\u001b[0;34m.\u001b[0m\u001b[0m__setattr__\u001b[0m\u001b[0;34m(\u001b[0m\u001b[0mself\u001b[0m\u001b[0;34m,\u001b[0m \u001b[0;34m\"_is_copy\"\u001b[0m\u001b[0;34m,\u001b[0m \u001b[0;32mNone\u001b[0m\u001b[0;34m)\u001b[0m\u001b[0;34m\u001b[0m\u001b[0;34m\u001b[0m\u001b[0m\n\u001b[0;32m--> 182\u001b[0;31m         \u001b[0mobject\u001b[0m\u001b[0;34m.\u001b[0m\u001b[0m__setattr__\u001b[0m\u001b[0;34m(\u001b[0m\u001b[0mself\u001b[0m\u001b[0;34m,\u001b[0m \u001b[0;34m\"_data\"\u001b[0m\u001b[0;34m,\u001b[0m \u001b[0mdata\u001b[0m\u001b[0;34m)\u001b[0m\u001b[0;34m\u001b[0m\u001b[0;34m\u001b[0m\u001b[0m\n\u001b[0m\u001b[1;32m    183\u001b[0m         \u001b[0mobject\u001b[0m\u001b[0;34m.\u001b[0m\u001b[0m__setattr__\u001b[0m\u001b[0;34m(\u001b[0m\u001b[0mself\u001b[0m\u001b[0;34m,\u001b[0m \u001b[0;34m\"_item_cache\"\u001b[0m\u001b[0;34m,\u001b[0m \u001b[0;34m{\u001b[0m\u001b[0;34m}\u001b[0m\u001b[0;34m)\u001b[0m\u001b[0;34m\u001b[0m\u001b[0;34m\u001b[0m\u001b[0m\n\u001b[1;32m    184\u001b[0m \u001b[0;34m\u001b[0m\u001b[0m\n",
      "\u001b[0;31mKeyboardInterrupt\u001b[0m: "
     ]
    }
   ],
   "source": [
    "coord = df_n['GeoJSON'].apply(lambda x : np.flip(pd.read_json(x).values[:,1]))\n",
    "\n",
    "print(coord)\n",
    "print(coord.iloc[0])\n",
    "\n",
    "df_n['LONG'] , df_n['LAT']  = zip(*df_n['GeoJSON'].apply(lambda x : pd.read_json(x).values[:,1]))\n",
    "\n",
    "test = np.array([df_n.iloc[0]['LAT'], df_n.iloc[0]['LONG']])\n",
    "print (type(test), type(coord.iloc[0]))\n",
    "\n",
    "#map_in = folium.Map(location=coord.iloc[0])\n",
    "map_in = folium.Map(location= [df_n.iloc[0]['LAT'], df_n.iloc[0]['LONG'] ])\n",
    "\n",
    "for i in range(0,len(df_n)):\n",
    "    folium.map.Marker(location=[df_n.iloc[i]['LAT'], df_n.iloc[i]['LONG'] ]).add_to(map_in)\n",
    "map_in"
   ]
  },
  {
   "cell_type": "code",
   "execution_count": null,
   "metadata": {},
   "outputs": [],
   "source": []
  }
 ],
 "metadata": {
  "celltoolbar": "Slideshow",
  "kernelspec": {
   "display_name": "Python 3",
   "language": "python",
   "name": "python3"
  },
  "language_info": {
   "codemirror_mode": {
    "name": "ipython",
    "version": 3
   },
   "file_extension": ".py",
   "mimetype": "text/x-python",
   "name": "python",
   "nbconvert_exporter": "python",
   "pygments_lexer": "ipython3",
   "version": "3.7.4"
  },
  "toc": {
   "base_numbering": 1,
   "nav_menu": {},
   "number_sections": true,
   "sideBar": true,
   "skip_h1_title": false,
   "title_cell": "Table of Contents",
   "title_sidebar": "Contents",
   "toc_cell": false,
   "toc_position": {},
   "toc_section_display": true,
   "toc_window_display": true
  },
  "varInspector": {
   "cols": {
    "lenName": 16,
    "lenType": 16,
    "lenVar": 40
   },
   "kernels_config": {
    "python": {
     "delete_cmd_postfix": "",
     "delete_cmd_prefix": "del ",
     "library": "var_list.py",
     "varRefreshCmd": "print(var_dic_list())"
    },
    "r": {
     "delete_cmd_postfix": ") ",
     "delete_cmd_prefix": "rm(",
     "library": "var_list.r",
     "varRefreshCmd": "cat(var_dic_list()) "
    }
   },
   "types_to_exclude": [
    "module",
    "function",
    "builtin_function_or_method",
    "instance",
    "_Feature"
   ],
   "window_display": false
  }
 },
 "nbformat": 4,
 "nbformat_minor": 2
}
