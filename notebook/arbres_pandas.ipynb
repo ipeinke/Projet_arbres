{
 "cells": [
  {
   "cell_type": "code",
   "execution_count": 133,
   "metadata": {
    "slideshow": {
     "slide_type": "slide"
    }
   },
   "outputs": [],
   "source": [
    "# matplotlib notebook\n",
    "import pandas as pd\n",
    "import numpy as np\n",
    "import matplotlib.pyplot as plt\n",
    "import folium"
   ]
  },
  {
   "cell_type": "code",
   "execution_count": 147,
   "metadata": {
    "slideshow": {
     "slide_type": "subslide"
    }
   },
   "outputs": [],
   "source": [
    "df = pd.read_csv('/home/campus-2/Documents/Projet_arbre/data/arbres.csv', \n",
    "                 header = 0, index_col = False, names=None)\n"
   ]
  },
  {
   "cell_type": "markdown",
   "metadata": {
    "slideshow": {
     "slide_type": "slide"
    }
   },
   "source": [
    "# Some introduction to Pandas"
   ]
  },
  {
   "cell_type": "markdown",
   "metadata": {
    "slideshow": {
     "slide_type": "subslide"
    }
   },
   "source": [
    "#### How to visualize the top and bottom x values in a data frame?"
   ]
  },
  {
   "cell_type": "code",
   "execution_count": 51,
   "metadata": {
    "slideshow": {
     "slide_type": "subslide"
    }
   },
   "outputs": [
    {
     "data": {
      "text/html": [
       "<div>\n",
       "<style scoped>\n",
       "    .dataframe tbody tr th:only-of-type {\n",
       "        vertical-align: middle;\n",
       "    }\n",
       "\n",
       "    .dataframe tbody tr th {\n",
       "        vertical-align: top;\n",
       "    }\n",
       "\n",
       "    .dataframe thead th {\n",
       "        text-align: right;\n",
       "    }\n",
       "</style>\n",
       "<table border=\"1\" class=\"dataframe\">\n",
       "  <thead>\n",
       "    <tr style=\"text-align: right;\">\n",
       "      <th></th>\n",
       "      <th>ELEM_POINT_ID</th>\n",
       "      <th>CODE</th>\n",
       "      <th>NOM</th>\n",
       "      <th>GENRE</th>\n",
       "      <th>GENRE_DESC</th>\n",
       "      <th>CATEGORIE</th>\n",
       "      <th>CATEGORIE_DESC</th>\n",
       "      <th>SOUS_CATEGORIE</th>\n",
       "      <th>SOUS_CATEGORIE_DESC</th>\n",
       "      <th>CODE_PARENT</th>\n",
       "      <th>...</th>\n",
       "      <th>COURRIER</th>\n",
       "      <th>IDENTIFIANTPLU</th>\n",
       "      <th>TYPEIMPLANTATIONPLU</th>\n",
       "      <th>INTITULEPROTECTIONPLU</th>\n",
       "      <th>ANNEEABATTAGE</th>\n",
       "      <th>ESSOUCHEMENT</th>\n",
       "      <th>DIAMETREARBRE</th>\n",
       "      <th>CAUSEABATTAGE</th>\n",
       "      <th>COLLECTIVITE</th>\n",
       "      <th>GeoJSON</th>\n",
       "    </tr>\n",
       "  </thead>\n",
       "  <tbody>\n",
       "    <tr>\n",
       "      <td>0</td>\n",
       "      <td>31906</td>\n",
       "      <td>ESP32632</td>\n",
       "      <td>ESP32632</td>\n",
       "      <td>VEG</td>\n",
       "      <td>VEGETATION</td>\n",
       "      <td>ESP01</td>\n",
       "      <td>Arbre</td>\n",
       "      <td>ESP174</td>\n",
       "      <td>Arbre d'espaces ouverts</td>\n",
       "      <td>ESP995</td>\n",
       "      <td>...</td>\n",
       "      <td>NaN</td>\n",
       "      <td>NaN</td>\n",
       "      <td>NaN</td>\n",
       "      <td>NaN</td>\n",
       "      <td>NaN</td>\n",
       "      <td>NaN</td>\n",
       "      <td>NaN</td>\n",
       "      <td>NaN</td>\n",
       "      <td>Ville de Grenoble</td>\n",
       "      <td>{\"type\":\"Point\",\"coordinates\":[5.7407272631197...</td>\n",
       "    </tr>\n",
       "  </tbody>\n",
       "</table>\n",
       "<p>1 rows × 32 columns</p>\n",
       "</div>"
      ],
      "text/plain": [
       "   ELEM_POINT_ID      CODE       NOM GENRE  GENRE_DESC CATEGORIE  \\\n",
       "0          31906  ESP32632  ESP32632   VEG  VEGETATION     ESP01   \n",
       "\n",
       "  CATEGORIE_DESC SOUS_CATEGORIE      SOUS_CATEGORIE_DESC CODE_PARENT  ...  \\\n",
       "0          Arbre         ESP174  Arbre d'espaces ouverts      ESP995  ...   \n",
       "\n",
       "  COURRIER  IDENTIFIANTPLU TYPEIMPLANTATIONPLU INTITULEPROTECTIONPLU  \\\n",
       "0      NaN             NaN                 NaN                   NaN   \n",
       "\n",
       "  ANNEEABATTAGE ESSOUCHEMENT DIAMETREARBRE  CAUSEABATTAGE       COLLECTIVITE  \\\n",
       "0           NaN          NaN           NaN            NaN  Ville de Grenoble   \n",
       "\n",
       "                                             GeoJSON  \n",
       "0  {\"type\":\"Point\",\"coordinates\":[5.7407272631197...  \n",
       "\n",
       "[1 rows x 32 columns]"
      ]
     },
     "execution_count": 51,
     "metadata": {},
     "output_type": "execute_result"
    }
   ],
   "source": [
    "df.head(1) #top_values\n",
    "\n",
    "#df.tail(1) #bottom_values\n"
   ]
  },
  {
   "cell_type": "code",
   "execution_count": 135,
   "metadata": {
    "slideshow": {
     "slide_type": "subslide"
    }
   },
   "outputs": [
    {
     "data": {
      "text/html": [
       "<div>\n",
       "<style scoped>\n",
       "    .dataframe tbody tr th:only-of-type {\n",
       "        vertical-align: middle;\n",
       "    }\n",
       "\n",
       "    .dataframe tbody tr th {\n",
       "        vertical-align: top;\n",
       "    }\n",
       "\n",
       "    .dataframe thead th {\n",
       "        text-align: right;\n",
       "    }\n",
       "</style>\n",
       "<table border=\"1\" class=\"dataframe\">\n",
       "  <thead>\n",
       "    <tr style=\"text-align: right;\">\n",
       "      <th></th>\n",
       "      <th>NOM</th>\n",
       "      <th>GENRE_DESC</th>\n",
       "    </tr>\n",
       "  </thead>\n",
       "  <tbody>\n",
       "    <tr>\n",
       "      <td>0</td>\n",
       "      <td>ESP32632</td>\n",
       "      <td>VEGETATION</td>\n",
       "    </tr>\n",
       "    <tr>\n",
       "      <td>1</td>\n",
       "      <td>ESP32631</td>\n",
       "      <td>VEGETATION</td>\n",
       "    </tr>\n",
       "    <tr>\n",
       "      <td>2</td>\n",
       "      <td>ESP32630</td>\n",
       "      <td>VEGETATION</td>\n",
       "    </tr>\n",
       "    <tr>\n",
       "      <td>3</td>\n",
       "      <td>ESP32629</td>\n",
       "      <td>VEGETATION</td>\n",
       "    </tr>\n",
       "    <tr>\n",
       "      <td>4</td>\n",
       "      <td>ESP32628</td>\n",
       "      <td>VEGETATION</td>\n",
       "    </tr>\n",
       "    <tr>\n",
       "      <td>5</td>\n",
       "      <td>ESP31995</td>\n",
       "      <td>VEGETATION</td>\n",
       "    </tr>\n",
       "    <tr>\n",
       "      <td>6</td>\n",
       "      <td>ESP31576</td>\n",
       "      <td>VEGETATION</td>\n",
       "    </tr>\n",
       "    <tr>\n",
       "      <td>7</td>\n",
       "      <td>ESP20708</td>\n",
       "      <td>VEGETATION</td>\n",
       "    </tr>\n",
       "    <tr>\n",
       "      <td>8</td>\n",
       "      <td>ESP20707</td>\n",
       "      <td>VEGETATION</td>\n",
       "    </tr>\n",
       "    <tr>\n",
       "      <td>9</td>\n",
       "      <td>ESP20706</td>\n",
       "      <td>VEGETATION</td>\n",
       "    </tr>\n",
       "  </tbody>\n",
       "</table>\n",
       "</div>"
      ],
      "text/plain": [
       "        NOM  GENRE_DESC\n",
       "0  ESP32632  VEGETATION\n",
       "1  ESP32631  VEGETATION\n",
       "2  ESP32630  VEGETATION\n",
       "3  ESP32629  VEGETATION\n",
       "4  ESP32628  VEGETATION\n",
       "5  ESP31995  VEGETATION\n",
       "6  ESP31576  VEGETATION\n",
       "7  ESP20708  VEGETATION\n",
       "8  ESP20707  VEGETATION\n",
       "9  ESP20706  VEGETATION"
      ]
     },
     "execution_count": 135,
     "metadata": {},
     "output_type": "execute_result"
    }
   ],
   "source": [
    "\n",
    "col = ['NOM', 'GENRE_DESC']\n",
    "df[col].head(10)\n",
    "#df[col].tail(1)\n"
   ]
  },
  {
   "cell_type": "markdown",
   "metadata": {
    "slideshow": {
     "slide_type": "slide"
    }
   },
   "source": [
    "#### How to get column names in a list?"
   ]
  },
  {
   "cell_type": "code",
   "execution_count": 3,
   "metadata": {},
   "outputs": [
    {
     "name": "stdout",
     "output_type": "stream",
     "text": [
      "['ELEM_POINT_ID', 'CODE', 'NOM', 'GENRE', 'GENRE_DESC', 'CATEGORIE', 'CATEGORIE_DESC', 'SOUS_CATEGORIE', 'SOUS_CATEGORIE_DESC', 'CODE_PARENT', 'CODE_PARENT_DESC', 'ADR_SECTEUR', 'BIEN_REFERENCE', 'GENRE_BOTA', 'ESPECE', 'VARIETE', 'STADEDEDEVELOPPEMENT', 'EQUIPE', 'REMARQUES', 'ANNEEDEPLANTATION', 'RAISONDEPLANTATION', 'TRAITEMENTCHENILLES', 'COURRIER', 'IDENTIFIANTPLU', 'TYPEIMPLANTATIONPLU', 'INTITULEPROTECTIONPLU', 'ANNEEABATTAGE', 'ESSOUCHEMENT', 'DIAMETREARBRE', 'CAUSEABATTAGE', 'COLLECTIVITE', 'GeoJSON']\n"
     ]
    }
   ],
   "source": [
    "col_names = df.columns.tolist()\n",
    "print(col_names)"
   ]
  },
  {
   "cell_type": "markdown",
   "metadata": {},
   "source": [
    "#### How to get the frequency of values in a series?"
   ]
  },
  {
   "cell_type": "code",
   "execution_count": 115,
   "metadata": {},
   "outputs": [
    {
     "data": {
      "text/plain": [
       "COURRIER                     0\n",
       "IDENTIFIANTPLU             606\n",
       "TYPEIMPLANTATIONPLU        606\n",
       "INTITULEPROTECTIONPLU      606\n",
       "ANNEEABATTAGE                0\n",
       "ESSOUCHEMENT                 0\n",
       "DIAMETREARBRE                0\n",
       "CAUSEABATTAGE                0\n",
       "COLLECTIVITE             30561\n",
       "GeoJSON                  31814\n",
       "dtype: int64"
      ]
     },
     "execution_count": 115,
     "metadata": {},
     "output_type": "execute_result"
    }
   ],
   "source": [
    "#df[col].value_counts() #returns a mapper of key,frequency pair\n",
    "df_counted = df[col_names[-10:]].count()\n",
    "\n",
    "df_counted\n",
    "#df_counted[col_names[1]] #to get frequency of a key value"
   ]
  },
  {
   "cell_type": "code",
   "execution_count": 117,
   "metadata": {},
   "outputs": [
    {
     "data": {
      "text/html": [
       "<div>\n",
       "<style scoped>\n",
       "    .dataframe tbody tr th:only-of-type {\n",
       "        vertical-align: middle;\n",
       "    }\n",
       "\n",
       "    .dataframe tbody tr th {\n",
       "        vertical-align: top;\n",
       "    }\n",
       "\n",
       "    .dataframe thead th {\n",
       "        text-align: right;\n",
       "    }\n",
       "</style>\n",
       "<table border=\"1\" class=\"dataframe\">\n",
       "  <thead>\n",
       "    <tr style=\"text-align: right;\">\n",
       "      <th></th>\n",
       "      <th>ELEM_POINT_ID</th>\n",
       "      <th>CODE</th>\n",
       "      <th>NOM</th>\n",
       "      <th>GENRE</th>\n",
       "      <th>GENRE_DESC</th>\n",
       "      <th>CATEGORIE</th>\n",
       "      <th>CATEGORIE_DESC</th>\n",
       "      <th>SOUS_CATEGORIE</th>\n",
       "      <th>SOUS_CATEGORIE_DESC</th>\n",
       "      <th>CODE_PARENT</th>\n",
       "      <th>...</th>\n",
       "      <th>IDENTIFIANTPLU</th>\n",
       "      <th>TYPEIMPLANTATIONPLU</th>\n",
       "      <th>INTITULEPROTECTIONPLU</th>\n",
       "      <th>ANNEEABATTAGE</th>\n",
       "      <th>ESSOUCHEMENT</th>\n",
       "      <th>DIAMETREARBRE</th>\n",
       "      <th>CAUSEABATTAGE</th>\n",
       "      <th>COLLECTIVITE</th>\n",
       "      <th>GeoJSON</th>\n",
       "      <th>GENRE_ESPECE</th>\n",
       "    </tr>\n",
       "  </thead>\n",
       "  <tbody>\n",
       "    <tr>\n",
       "      <td>0</td>\n",
       "      <td>31906</td>\n",
       "      <td>ESP32632</td>\n",
       "      <td>ESP32632</td>\n",
       "      <td>VEG</td>\n",
       "      <td>VEGETATION</td>\n",
       "      <td>ESP01</td>\n",
       "      <td>Arbre</td>\n",
       "      <td>ESP174</td>\n",
       "      <td>Arbre d'espaces ouverts</td>\n",
       "      <td>ESP995</td>\n",
       "      <td>...</td>\n",
       "      <td>NaN</td>\n",
       "      <td>NaN</td>\n",
       "      <td>NaN</td>\n",
       "      <td>NaN</td>\n",
       "      <td>NaN</td>\n",
       "      <td>NaN</td>\n",
       "      <td>NaN</td>\n",
       "      <td>Ville de Grenoble</td>\n",
       "      <td>{\"type\":\"Point\",\"coordinates\":[5.7407272631197...</td>\n",
       "      <td>Acer pseudoplatanus</td>\n",
       "    </tr>\n",
       "    <tr>\n",
       "      <td>1</td>\n",
       "      <td>31905</td>\n",
       "      <td>ESP32631</td>\n",
       "      <td>ESP32631</td>\n",
       "      <td>VEG</td>\n",
       "      <td>VEGETATION</td>\n",
       "      <td>ESP01</td>\n",
       "      <td>Arbre</td>\n",
       "      <td>ESP174</td>\n",
       "      <td>Arbre d'espaces ouverts</td>\n",
       "      <td>ESP995</td>\n",
       "      <td>...</td>\n",
       "      <td>NaN</td>\n",
       "      <td>NaN</td>\n",
       "      <td>NaN</td>\n",
       "      <td>NaN</td>\n",
       "      <td>NaN</td>\n",
       "      <td>NaN</td>\n",
       "      <td>NaN</td>\n",
       "      <td>Ville de Grenoble</td>\n",
       "      <td>{\"type\":\"Point\",\"coordinates\":[5.7407481744995...</td>\n",
       "      <td>Acer pseudoplatanus</td>\n",
       "    </tr>\n",
       "    <tr>\n",
       "      <td>2</td>\n",
       "      <td>31904</td>\n",
       "      <td>ESP32630</td>\n",
       "      <td>ESP32630</td>\n",
       "      <td>VEG</td>\n",
       "      <td>VEGETATION</td>\n",
       "      <td>ESP01</td>\n",
       "      <td>Arbre</td>\n",
       "      <td>ESP174</td>\n",
       "      <td>Arbre d'espaces ouverts</td>\n",
       "      <td>ESP995</td>\n",
       "      <td>...</td>\n",
       "      <td>NaN</td>\n",
       "      <td>NaN</td>\n",
       "      <td>NaN</td>\n",
       "      <td>NaN</td>\n",
       "      <td>NaN</td>\n",
       "      <td>NaN</td>\n",
       "      <td>NaN</td>\n",
       "      <td>Ville de Grenoble</td>\n",
       "      <td>{\"type\":\"Point\",\"coordinates\":[5.7406973948781...</td>\n",
       "      <td>Acer pseudoplatanus</td>\n",
       "    </tr>\n",
       "    <tr>\n",
       "      <td>3</td>\n",
       "      <td>31903</td>\n",
       "      <td>ESP32629</td>\n",
       "      <td>ESP32629</td>\n",
       "      <td>VEG</td>\n",
       "      <td>VEGETATION</td>\n",
       "      <td>ESP01</td>\n",
       "      <td>Arbre</td>\n",
       "      <td>ESP174</td>\n",
       "      <td>Arbre d'espaces ouverts</td>\n",
       "      <td>ESP995</td>\n",
       "      <td>...</td>\n",
       "      <td>NaN</td>\n",
       "      <td>NaN</td>\n",
       "      <td>NaN</td>\n",
       "      <td>NaN</td>\n",
       "      <td>NaN</td>\n",
       "      <td>NaN</td>\n",
       "      <td>NaN</td>\n",
       "      <td>Ville de Grenoble</td>\n",
       "      <td>{\"type\":\"Point\",\"coordinates\":[5.7406754967071...</td>\n",
       "      <td>Acer pseudoplatanus</td>\n",
       "    </tr>\n",
       "    <tr>\n",
       "      <td>4</td>\n",
       "      <td>31902</td>\n",
       "      <td>ESP32628</td>\n",
       "      <td>ESP32628</td>\n",
       "      <td>VEG</td>\n",
       "      <td>VEGETATION</td>\n",
       "      <td>ESP01</td>\n",
       "      <td>Arbre</td>\n",
       "      <td>ESP174</td>\n",
       "      <td>Arbre d'espaces ouverts</td>\n",
       "      <td>ESP995</td>\n",
       "      <td>...</td>\n",
       "      <td>NaN</td>\n",
       "      <td>NaN</td>\n",
       "      <td>NaN</td>\n",
       "      <td>NaN</td>\n",
       "      <td>NaN</td>\n",
       "      <td>NaN</td>\n",
       "      <td>NaN</td>\n",
       "      <td>Ville de Grenoble</td>\n",
       "      <td>{\"type\":\"Point\",\"coordinates\":[5.7407015656395...</td>\n",
       "      <td>Acer pseudoplatanus</td>\n",
       "    </tr>\n",
       "    <tr>\n",
       "      <td>...</td>\n",
       "      <td>...</td>\n",
       "      <td>...</td>\n",
       "      <td>...</td>\n",
       "      <td>...</td>\n",
       "      <td>...</td>\n",
       "      <td>...</td>\n",
       "      <td>...</td>\n",
       "      <td>...</td>\n",
       "      <td>...</td>\n",
       "      <td>...</td>\n",
       "      <td>...</td>\n",
       "      <td>...</td>\n",
       "      <td>...</td>\n",
       "      <td>...</td>\n",
       "      <td>...</td>\n",
       "      <td>...</td>\n",
       "      <td>...</td>\n",
       "      <td>...</td>\n",
       "      <td>...</td>\n",
       "      <td>...</td>\n",
       "      <td>...</td>\n",
       "    </tr>\n",
       "    <tr>\n",
       "      <td>31809</td>\n",
       "      <td>11290</td>\n",
       "      <td>ESP18364</td>\n",
       "      <td>ESP18364</td>\n",
       "      <td>VEG</td>\n",
       "      <td>VEGETATION</td>\n",
       "      <td>ESP01</td>\n",
       "      <td>Arbre</td>\n",
       "      <td>ESP174</td>\n",
       "      <td>Arbre d'espaces ouverts</td>\n",
       "      <td>ESP1171</td>\n",
       "      <td>...</td>\n",
       "      <td>NaN</td>\n",
       "      <td>NaN</td>\n",
       "      <td>NaN</td>\n",
       "      <td>NaN</td>\n",
       "      <td>NaN</td>\n",
       "      <td>NaN</td>\n",
       "      <td>NaN</td>\n",
       "      <td>Grenoble Alpes Métropole</td>\n",
       "      <td>{\"type\":\"Point\",\"coordinates\":[5.7385133327466...</td>\n",
       "      <td>Betula verrucosa</td>\n",
       "    </tr>\n",
       "    <tr>\n",
       "      <td>31810</td>\n",
       "      <td>11256</td>\n",
       "      <td>ESP18346</td>\n",
       "      <td>ESP18346</td>\n",
       "      <td>VEG</td>\n",
       "      <td>VEGETATION</td>\n",
       "      <td>ESP01</td>\n",
       "      <td>Arbre</td>\n",
       "      <td>ESP174</td>\n",
       "      <td>Arbre d'espaces ouverts</td>\n",
       "      <td>ESP1171</td>\n",
       "      <td>...</td>\n",
       "      <td>NaN</td>\n",
       "      <td>NaN</td>\n",
       "      <td>NaN</td>\n",
       "      <td>NaN</td>\n",
       "      <td>NaN</td>\n",
       "      <td>NaN</td>\n",
       "      <td>NaN</td>\n",
       "      <td>Grenoble Alpes Métropole</td>\n",
       "      <td>{\"type\":\"Point\",\"coordinates\":[5.7375284639688...</td>\n",
       "      <td>Betula verrucosa</td>\n",
       "    </tr>\n",
       "    <tr>\n",
       "      <td>31811</td>\n",
       "      <td>14981</td>\n",
       "      <td>ESP17096</td>\n",
       "      <td>ESP17096</td>\n",
       "      <td>VEG</td>\n",
       "      <td>VEGETATION</td>\n",
       "      <td>ESP01</td>\n",
       "      <td>Arbre</td>\n",
       "      <td>ESP174</td>\n",
       "      <td>Arbre d'espaces ouverts</td>\n",
       "      <td>ESP1171</td>\n",
       "      <td>...</td>\n",
       "      <td>NaN</td>\n",
       "      <td>NaN</td>\n",
       "      <td>NaN</td>\n",
       "      <td>NaN</td>\n",
       "      <td>NaN</td>\n",
       "      <td>NaN</td>\n",
       "      <td>NaN</td>\n",
       "      <td>Grenoble Alpes Métropole</td>\n",
       "      <td>{\"type\":\"Point\",\"coordinates\":[5.7384331724843...</td>\n",
       "      <td>Pyrus calleryana</td>\n",
       "    </tr>\n",
       "    <tr>\n",
       "      <td>31812</td>\n",
       "      <td>14939</td>\n",
       "      <td>ESP17074</td>\n",
       "      <td>ESP17074</td>\n",
       "      <td>VEG</td>\n",
       "      <td>VEGETATION</td>\n",
       "      <td>ESP01</td>\n",
       "      <td>Arbre</td>\n",
       "      <td>ESP174</td>\n",
       "      <td>Arbre d'espaces ouverts</td>\n",
       "      <td>ESP1171</td>\n",
       "      <td>...</td>\n",
       "      <td>NaN</td>\n",
       "      <td>NaN</td>\n",
       "      <td>NaN</td>\n",
       "      <td>NaN</td>\n",
       "      <td>NaN</td>\n",
       "      <td>NaN</td>\n",
       "      <td>NaN</td>\n",
       "      <td>Grenoble Alpes Métropole</td>\n",
       "      <td>{\"type\":\"Point\",\"coordinates\":[5.7373296228308...</td>\n",
       "      <td>Magnolia soulangeana</td>\n",
       "    </tr>\n",
       "    <tr>\n",
       "      <td>31813</td>\n",
       "      <td>22285</td>\n",
       "      <td>ESP16645</td>\n",
       "      <td>ESP16645</td>\n",
       "      <td>VEG</td>\n",
       "      <td>VEGETATION</td>\n",
       "      <td>ESP01</td>\n",
       "      <td>Arbre</td>\n",
       "      <td>ESP174</td>\n",
       "      <td>Arbre d'espaces ouverts</td>\n",
       "      <td>ESP1171</td>\n",
       "      <td>...</td>\n",
       "      <td>NaN</td>\n",
       "      <td>NaN</td>\n",
       "      <td>NaN</td>\n",
       "      <td>NaN</td>\n",
       "      <td>NaN</td>\n",
       "      <td>NaN</td>\n",
       "      <td>NaN</td>\n",
       "      <td>Ville de Grenoble</td>\n",
       "      <td>{\"type\":\"Point\",\"coordinates\":[5.7383287393841...</td>\n",
       "      <td>Cedrus atlantica</td>\n",
       "    </tr>\n",
       "  </tbody>\n",
       "</table>\n",
       "<p>31814 rows × 33 columns</p>\n",
       "</div>"
      ],
      "text/plain": [
       "       ELEM_POINT_ID      CODE       NOM GENRE  GENRE_DESC CATEGORIE  \\\n",
       "0              31906  ESP32632  ESP32632   VEG  VEGETATION     ESP01   \n",
       "1              31905  ESP32631  ESP32631   VEG  VEGETATION     ESP01   \n",
       "2              31904  ESP32630  ESP32630   VEG  VEGETATION     ESP01   \n",
       "3              31903  ESP32629  ESP32629   VEG  VEGETATION     ESP01   \n",
       "4              31902  ESP32628  ESP32628   VEG  VEGETATION     ESP01   \n",
       "...              ...       ...       ...   ...         ...       ...   \n",
       "31809          11290  ESP18364  ESP18364   VEG  VEGETATION     ESP01   \n",
       "31810          11256  ESP18346  ESP18346   VEG  VEGETATION     ESP01   \n",
       "31811          14981  ESP17096  ESP17096   VEG  VEGETATION     ESP01   \n",
       "31812          14939  ESP17074  ESP17074   VEG  VEGETATION     ESP01   \n",
       "31813          22285  ESP16645  ESP16645   VEG  VEGETATION     ESP01   \n",
       "\n",
       "      CATEGORIE_DESC SOUS_CATEGORIE      SOUS_CATEGORIE_DESC CODE_PARENT  ...  \\\n",
       "0              Arbre         ESP174  Arbre d'espaces ouverts      ESP995  ...   \n",
       "1              Arbre         ESP174  Arbre d'espaces ouverts      ESP995  ...   \n",
       "2              Arbre         ESP174  Arbre d'espaces ouverts      ESP995  ...   \n",
       "3              Arbre         ESP174  Arbre d'espaces ouverts      ESP995  ...   \n",
       "4              Arbre         ESP174  Arbre d'espaces ouverts      ESP995  ...   \n",
       "...              ...            ...                      ...         ...  ...   \n",
       "31809          Arbre         ESP174  Arbre d'espaces ouverts     ESP1171  ...   \n",
       "31810          Arbre         ESP174  Arbre d'espaces ouverts     ESP1171  ...   \n",
       "31811          Arbre         ESP174  Arbre d'espaces ouverts     ESP1171  ...   \n",
       "31812          Arbre         ESP174  Arbre d'espaces ouverts     ESP1171  ...   \n",
       "31813          Arbre         ESP174  Arbre d'espaces ouverts     ESP1171  ...   \n",
       "\n",
       "      IDENTIFIANTPLU  TYPEIMPLANTATIONPLU INTITULEPROTECTIONPLU ANNEEABATTAGE  \\\n",
       "0                NaN                  NaN                   NaN           NaN   \n",
       "1                NaN                  NaN                   NaN           NaN   \n",
       "2                NaN                  NaN                   NaN           NaN   \n",
       "3                NaN                  NaN                   NaN           NaN   \n",
       "4                NaN                  NaN                   NaN           NaN   \n",
       "...              ...                  ...                   ...           ...   \n",
       "31809            NaN                  NaN                   NaN           NaN   \n",
       "31810            NaN                  NaN                   NaN           NaN   \n",
       "31811            NaN                  NaN                   NaN           NaN   \n",
       "31812            NaN                  NaN                   NaN           NaN   \n",
       "31813            NaN                  NaN                   NaN           NaN   \n",
       "\n",
       "      ESSOUCHEMENT DIAMETREARBRE CAUSEABATTAGE              COLLECTIVITE  \\\n",
       "0              NaN           NaN           NaN         Ville de Grenoble   \n",
       "1              NaN           NaN           NaN         Ville de Grenoble   \n",
       "2              NaN           NaN           NaN         Ville de Grenoble   \n",
       "3              NaN           NaN           NaN         Ville de Grenoble   \n",
       "4              NaN           NaN           NaN         Ville de Grenoble   \n",
       "...            ...           ...           ...                       ...   \n",
       "31809          NaN           NaN           NaN  Grenoble Alpes Métropole   \n",
       "31810          NaN           NaN           NaN  Grenoble Alpes Métropole   \n",
       "31811          NaN           NaN           NaN  Grenoble Alpes Métropole   \n",
       "31812          NaN           NaN           NaN  Grenoble Alpes Métropole   \n",
       "31813          NaN           NaN           NaN         Ville de Grenoble   \n",
       "\n",
       "                                                 GeoJSON          GENRE_ESPECE  \n",
       "0      {\"type\":\"Point\",\"coordinates\":[5.7407272631197...   Acer pseudoplatanus  \n",
       "1      {\"type\":\"Point\",\"coordinates\":[5.7407481744995...   Acer pseudoplatanus  \n",
       "2      {\"type\":\"Point\",\"coordinates\":[5.7406973948781...   Acer pseudoplatanus  \n",
       "3      {\"type\":\"Point\",\"coordinates\":[5.7406754967071...   Acer pseudoplatanus  \n",
       "4      {\"type\":\"Point\",\"coordinates\":[5.7407015656395...   Acer pseudoplatanus  \n",
       "...                                                  ...                   ...  \n",
       "31809  {\"type\":\"Point\",\"coordinates\":[5.7385133327466...      Betula verrucosa  \n",
       "31810  {\"type\":\"Point\",\"coordinates\":[5.7375284639688...      Betula verrucosa  \n",
       "31811  {\"type\":\"Point\",\"coordinates\":[5.7384331724843...      Pyrus calleryana  \n",
       "31812  {\"type\":\"Point\",\"coordinates\":[5.7373296228308...  Magnolia soulangeana  \n",
       "31813  {\"type\":\"Point\",\"coordinates\":[5.7383287393841...      Cedrus atlantica  \n",
       "\n",
       "[31814 rows x 33 columns]"
      ]
     },
     "execution_count": 117,
     "metadata": {},
     "output_type": "execute_result"
    }
   ],
   "source": [
    "df"
   ]
  },
  {
   "cell_type": "markdown",
   "metadata": {},
   "source": [
    "### Some exercises from before without loop for"
   ]
  },
  {
   "cell_type": "markdown",
   "metadata": {},
   "source": [
    "#### get the different species"
   ]
  },
  {
   "cell_type": "code",
   "execution_count": 8,
   "metadata": {},
   "outputs": [
    {
     "name": "stdout",
     "output_type": "stream",
     "text": [
      "6.07 ms ± 485 µs per loop (mean ± std. dev. of 7 runs, 100 loops each)\n"
     ]
    }
   ],
   "source": [
    "%%timeit\n",
    "#name of col : 'GENRE_BOTA'\n",
    "genre_bota = df['GENRE_BOTA'].dropna().unique()\n",
    "nb_especes = len(genre_bota)\n",
    "\n",
    "#print(nb_especes)"
   ]
  },
  {
   "cell_type": "markdown",
   "metadata": {},
   "source": [
    "#### pour combien d'arbres manque t'il d'information sur l'annees"
   ]
  },
  {
   "cell_type": "code",
   "execution_count": 9,
   "metadata": {},
   "outputs": [],
   "source": [
    "annee_plantation = df['ANNEEDEPLANTATION']\n",
    "count_annees_exist = df['ANNEEDEPLANTATION'].count()\n",
    "count_annees_exist\n",
    "\n",
    "nb_trees_miss = df.shape[0] - count_annees_exist\n",
    "\n",
    "nb_arbres_total = df.shape[0]\n",
    "\n",
    "only_years = df['ANNEEDEPLANTATION'].dropna().unique()\n",
    "\n",
    "#mean_plantation_of_arbres = len(only_years)\n",
    "\n"
   ]
  },
  {
   "cell_type": "code",
   "execution_count": 8,
   "metadata": {},
   "outputs": [
    {
     "data": {
      "text/plain": [
       "461.07246376811594"
      ]
     },
     "execution_count": 8,
     "metadata": {},
     "output_type": "execute_result"
    }
   ],
   "source": [
    "only_years = df['ANNEEDEPLANTATION'].dropna().unique()\n",
    "\n",
    "nb_of_years = (max(only_years)-min(only_years)+1)\n",
    "mean_plantations = nb_arbres_total/nb_of_years \n",
    "\n",
    "mean_plantations"
   ]
  },
  {
   "cell_type": "code",
   "execution_count": 9,
   "metadata": {},
   "outputs": [
    {
     "data": {
      "text/html": [
       "<div>\n",
       "<style scoped>\n",
       "    .dataframe tbody tr th:only-of-type {\n",
       "        vertical-align: middle;\n",
       "    }\n",
       "\n",
       "    .dataframe tbody tr th {\n",
       "        vertical-align: top;\n",
       "    }\n",
       "\n",
       "    .dataframe thead th {\n",
       "        text-align: right;\n",
       "    }\n",
       "</style>\n",
       "<table border=\"1\" class=\"dataframe\">\n",
       "  <thead>\n",
       "    <tr style=\"text-align: right;\">\n",
       "      <th></th>\n",
       "      <th>ELEM_POINT_ID</th>\n",
       "      <th>CODE</th>\n",
       "      <th>NOM</th>\n",
       "      <th>GENRE</th>\n",
       "      <th>GENRE_DESC</th>\n",
       "      <th>CATEGORIE</th>\n",
       "      <th>CATEGORIE_DESC</th>\n",
       "      <th>SOUS_CATEGORIE</th>\n",
       "      <th>SOUS_CATEGORIE_DESC</th>\n",
       "      <th>CODE_PARENT</th>\n",
       "      <th>...</th>\n",
       "      <th>COURRIER</th>\n",
       "      <th>IDENTIFIANTPLU</th>\n",
       "      <th>TYPEIMPLANTATIONPLU</th>\n",
       "      <th>INTITULEPROTECTIONPLU</th>\n",
       "      <th>ANNEEABATTAGE</th>\n",
       "      <th>ESSOUCHEMENT</th>\n",
       "      <th>DIAMETREARBRE</th>\n",
       "      <th>CAUSEABATTAGE</th>\n",
       "      <th>COLLECTIVITE</th>\n",
       "      <th>GeoJSON</th>\n",
       "    </tr>\n",
       "  </thead>\n",
       "  <tbody>\n",
       "    <tr>\n",
       "      <td>1100</td>\n",
       "      <td>20839</td>\n",
       "      <td>ESP26231</td>\n",
       "      <td>ESP26231</td>\n",
       "      <td>VEG</td>\n",
       "      <td>VEGETATION</td>\n",
       "      <td>ESP01</td>\n",
       "      <td>Arbre</td>\n",
       "      <td>ESP151</td>\n",
       "      <td>Arbre de voirie</td>\n",
       "      <td>ESP1018</td>\n",
       "      <td>...</td>\n",
       "      <td>NaN</td>\n",
       "      <td>NaN</td>\n",
       "      <td>NaN</td>\n",
       "      <td>NaN</td>\n",
       "      <td>NaN</td>\n",
       "      <td>NaN</td>\n",
       "      <td>NaN</td>\n",
       "      <td>NaN</td>\n",
       "      <td>Grenoble Alpes Métropole</td>\n",
       "      <td>{\"type\":\"Point\",\"coordinates\":[5.7194282908896...</td>\n",
       "    </tr>\n",
       "    <tr>\n",
       "      <td>1104</td>\n",
       "      <td>13522</td>\n",
       "      <td>ESP21154</td>\n",
       "      <td>ESP21154</td>\n",
       "      <td>VEG</td>\n",
       "      <td>VEGETATION</td>\n",
       "      <td>ESP01</td>\n",
       "      <td>Arbre</td>\n",
       "      <td>ESP151</td>\n",
       "      <td>Arbre de voirie</td>\n",
       "      <td>ESP1018</td>\n",
       "      <td>...</td>\n",
       "      <td>NaN</td>\n",
       "      <td>NaN</td>\n",
       "      <td>NaN</td>\n",
       "      <td>NaN</td>\n",
       "      <td>NaN</td>\n",
       "      <td>NaN</td>\n",
       "      <td>NaN</td>\n",
       "      <td>NaN</td>\n",
       "      <td>Grenoble Alpes Métropole</td>\n",
       "      <td>{\"type\":\"Point\",\"coordinates\":[5.7190264290501...</td>\n",
       "    </tr>\n",
       "    <tr>\n",
       "      <td>1105</td>\n",
       "      <td>13521</td>\n",
       "      <td>ESP21153</td>\n",
       "      <td>ESP21153</td>\n",
       "      <td>VEG</td>\n",
       "      <td>VEGETATION</td>\n",
       "      <td>ESP01</td>\n",
       "      <td>Arbre</td>\n",
       "      <td>ESP151</td>\n",
       "      <td>Arbre de voirie</td>\n",
       "      <td>ESP1018</td>\n",
       "      <td>...</td>\n",
       "      <td>NaN</td>\n",
       "      <td>NaN</td>\n",
       "      <td>NaN</td>\n",
       "      <td>NaN</td>\n",
       "      <td>NaN</td>\n",
       "      <td>NaN</td>\n",
       "      <td>NaN</td>\n",
       "      <td>NaN</td>\n",
       "      <td>Grenoble Alpes Métropole</td>\n",
       "      <td>{\"type\":\"Point\",\"coordinates\":[5.7195995470467...</td>\n",
       "    </tr>\n",
       "    <tr>\n",
       "      <td>1106</td>\n",
       "      <td>9718</td>\n",
       "      <td>ESP21107</td>\n",
       "      <td>ESP21107</td>\n",
       "      <td>VEG</td>\n",
       "      <td>VEGETATION</td>\n",
       "      <td>ESP01</td>\n",
       "      <td>Arbre</td>\n",
       "      <td>ESP151</td>\n",
       "      <td>Arbre de voirie</td>\n",
       "      <td>ESP1018</td>\n",
       "      <td>...</td>\n",
       "      <td>NaN</td>\n",
       "      <td>NaN</td>\n",
       "      <td>NaN</td>\n",
       "      <td>NaN</td>\n",
       "      <td>NaN</td>\n",
       "      <td>NaN</td>\n",
       "      <td>NaN</td>\n",
       "      <td>NaN</td>\n",
       "      <td>Grenoble Alpes Métropole</td>\n",
       "      <td>{\"type\":\"Point\",\"coordinates\":[5.7197716753457...</td>\n",
       "    </tr>\n",
       "    <tr>\n",
       "      <td>1107</td>\n",
       "      <td>28207</td>\n",
       "      <td>ESP14936</td>\n",
       "      <td>ESP14936</td>\n",
       "      <td>VEG</td>\n",
       "      <td>VEGETATION</td>\n",
       "      <td>ESP01</td>\n",
       "      <td>Arbre</td>\n",
       "      <td>ESP151</td>\n",
       "      <td>Arbre de voirie</td>\n",
       "      <td>ESP1018</td>\n",
       "      <td>...</td>\n",
       "      <td>NaN</td>\n",
       "      <td>NaN</td>\n",
       "      <td>NaN</td>\n",
       "      <td>NaN</td>\n",
       "      <td>NaN</td>\n",
       "      <td>NaN</td>\n",
       "      <td>NaN</td>\n",
       "      <td>NaN</td>\n",
       "      <td>Grenoble Alpes Métropole</td>\n",
       "      <td>{\"type\":\"Point\",\"coordinates\":[5.7196857940308...</td>\n",
       "    </tr>\n",
       "    <tr>\n",
       "      <td>...</td>\n",
       "      <td>...</td>\n",
       "      <td>...</td>\n",
       "      <td>...</td>\n",
       "      <td>...</td>\n",
       "      <td>...</td>\n",
       "      <td>...</td>\n",
       "      <td>...</td>\n",
       "      <td>...</td>\n",
       "      <td>...</td>\n",
       "      <td>...</td>\n",
       "      <td>...</td>\n",
       "      <td>...</td>\n",
       "      <td>...</td>\n",
       "      <td>...</td>\n",
       "      <td>...</td>\n",
       "      <td>...</td>\n",
       "      <td>...</td>\n",
       "      <td>...</td>\n",
       "      <td>...</td>\n",
       "      <td>...</td>\n",
       "      <td>...</td>\n",
       "    </tr>\n",
       "    <tr>\n",
       "      <td>25780</td>\n",
       "      <td>9789</td>\n",
       "      <td>ESP21373</td>\n",
       "      <td>ESP21373</td>\n",
       "      <td>VEG</td>\n",
       "      <td>VEGETATION</td>\n",
       "      <td>ESP01</td>\n",
       "      <td>Arbre</td>\n",
       "      <td>ESP174</td>\n",
       "      <td>Arbre d'espaces ouverts</td>\n",
       "      <td>ESP887</td>\n",
       "      <td>...</td>\n",
       "      <td>NaN</td>\n",
       "      <td>NaN</td>\n",
       "      <td>NaN</td>\n",
       "      <td>NaN</td>\n",
       "      <td>NaN</td>\n",
       "      <td>NaN</td>\n",
       "      <td>NaN</td>\n",
       "      <td>NaN</td>\n",
       "      <td>Ville de Grenoble</td>\n",
       "      <td>{\"type\":\"Point\",\"coordinates\":[5.7394769123127...</td>\n",
       "    </tr>\n",
       "    <tr>\n",
       "      <td>25781</td>\n",
       "      <td>13591</td>\n",
       "      <td>ESP21177</td>\n",
       "      <td>ESP21177</td>\n",
       "      <td>VEG</td>\n",
       "      <td>VEGETATION</td>\n",
       "      <td>ESP01</td>\n",
       "      <td>Arbre</td>\n",
       "      <td>ESP174</td>\n",
       "      <td>Arbre d'espaces ouverts</td>\n",
       "      <td>ESP887</td>\n",
       "      <td>...</td>\n",
       "      <td>NaN</td>\n",
       "      <td>NaN</td>\n",
       "      <td>NaN</td>\n",
       "      <td>NaN</td>\n",
       "      <td>NaN</td>\n",
       "      <td>NaN</td>\n",
       "      <td>NaN</td>\n",
       "      <td>NaN</td>\n",
       "      <td>Ville de Grenoble</td>\n",
       "      <td>{\"type\":\"Point\",\"coordinates\":[5.7392320939366...</td>\n",
       "    </tr>\n",
       "    <tr>\n",
       "      <td>25782</td>\n",
       "      <td>20893</td>\n",
       "      <td>ESP19392</td>\n",
       "      <td>ESP19392</td>\n",
       "      <td>VEG</td>\n",
       "      <td>VEGETATION</td>\n",
       "      <td>ESP01</td>\n",
       "      <td>Arbre</td>\n",
       "      <td>ESP174</td>\n",
       "      <td>Arbre d'espaces ouverts</td>\n",
       "      <td>ESP887</td>\n",
       "      <td>...</td>\n",
       "      <td>NaN</td>\n",
       "      <td>NaN</td>\n",
       "      <td>NaN</td>\n",
       "      <td>NaN</td>\n",
       "      <td>NaN</td>\n",
       "      <td>NaN</td>\n",
       "      <td>NaN</td>\n",
       "      <td>NaN</td>\n",
       "      <td>Ville de Grenoble</td>\n",
       "      <td>{\"type\":\"Point\",\"coordinates\":[5.7394244358425...</td>\n",
       "    </tr>\n",
       "    <tr>\n",
       "      <td>25783</td>\n",
       "      <td>5998</td>\n",
       "      <td>ESP11238</td>\n",
       "      <td>ESP11238</td>\n",
       "      <td>VEG</td>\n",
       "      <td>VEGETATION</td>\n",
       "      <td>ESP01</td>\n",
       "      <td>Arbre</td>\n",
       "      <td>ESP174</td>\n",
       "      <td>Arbre d'espaces ouverts</td>\n",
       "      <td>ESP887</td>\n",
       "      <td>...</td>\n",
       "      <td>NaN</td>\n",
       "      <td>NaN</td>\n",
       "      <td>NaN</td>\n",
       "      <td>NaN</td>\n",
       "      <td>NaN</td>\n",
       "      <td>NaN</td>\n",
       "      <td>NaN</td>\n",
       "      <td>NaN</td>\n",
       "      <td>Ville de Grenoble</td>\n",
       "      <td>{\"type\":\"Point\",\"coordinates\":[5.7394861708769...</td>\n",
       "    </tr>\n",
       "    <tr>\n",
       "      <td>25784</td>\n",
       "      <td>2190</td>\n",
       "      <td>ESP9344</td>\n",
       "      <td>ESP9344</td>\n",
       "      <td>VEG</td>\n",
       "      <td>VEGETATION</td>\n",
       "      <td>ESP01</td>\n",
       "      <td>Arbre</td>\n",
       "      <td>ESP174</td>\n",
       "      <td>Arbre d'espaces ouverts</td>\n",
       "      <td>ESP887</td>\n",
       "      <td>...</td>\n",
       "      <td>NaN</td>\n",
       "      <td>NaN</td>\n",
       "      <td>NaN</td>\n",
       "      <td>NaN</td>\n",
       "      <td>NaN</td>\n",
       "      <td>NaN</td>\n",
       "      <td>NaN</td>\n",
       "      <td>NaN</td>\n",
       "      <td>Ville de Grenoble</td>\n",
       "      <td>{\"type\":\"Point\",\"coordinates\":[5.7392933403121...</td>\n",
       "    </tr>\n",
       "  </tbody>\n",
       "</table>\n",
       "<p>302 rows × 32 columns</p>\n",
       "</div>"
      ],
      "text/plain": [
       "       ELEM_POINT_ID      CODE       NOM GENRE  GENRE_DESC CATEGORIE  \\\n",
       "1100           20839  ESP26231  ESP26231   VEG  VEGETATION     ESP01   \n",
       "1104           13522  ESP21154  ESP21154   VEG  VEGETATION     ESP01   \n",
       "1105           13521  ESP21153  ESP21153   VEG  VEGETATION     ESP01   \n",
       "1106            9718  ESP21107  ESP21107   VEG  VEGETATION     ESP01   \n",
       "1107           28207  ESP14936  ESP14936   VEG  VEGETATION     ESP01   \n",
       "...              ...       ...       ...   ...         ...       ...   \n",
       "25780           9789  ESP21373  ESP21373   VEG  VEGETATION     ESP01   \n",
       "25781          13591  ESP21177  ESP21177   VEG  VEGETATION     ESP01   \n",
       "25782          20893  ESP19392  ESP19392   VEG  VEGETATION     ESP01   \n",
       "25783           5998  ESP11238  ESP11238   VEG  VEGETATION     ESP01   \n",
       "25784           2190   ESP9344   ESP9344   VEG  VEGETATION     ESP01   \n",
       "\n",
       "      CATEGORIE_DESC SOUS_CATEGORIE      SOUS_CATEGORIE_DESC CODE_PARENT  ...  \\\n",
       "1100           Arbre         ESP151          Arbre de voirie     ESP1018  ...   \n",
       "1104           Arbre         ESP151          Arbre de voirie     ESP1018  ...   \n",
       "1105           Arbre         ESP151          Arbre de voirie     ESP1018  ...   \n",
       "1106           Arbre         ESP151          Arbre de voirie     ESP1018  ...   \n",
       "1107           Arbre         ESP151          Arbre de voirie     ESP1018  ...   \n",
       "...              ...            ...                      ...         ...  ...   \n",
       "25780          Arbre         ESP174  Arbre d'espaces ouverts      ESP887  ...   \n",
       "25781          Arbre         ESP174  Arbre d'espaces ouverts      ESP887  ...   \n",
       "25782          Arbre         ESP174  Arbre d'espaces ouverts      ESP887  ...   \n",
       "25783          Arbre         ESP174  Arbre d'espaces ouverts      ESP887  ...   \n",
       "25784          Arbre         ESP174  Arbre d'espaces ouverts      ESP887  ...   \n",
       "\n",
       "      COURRIER  IDENTIFIANTPLU TYPEIMPLANTATIONPLU INTITULEPROTECTIONPLU  \\\n",
       "1100       NaN             NaN                 NaN                   NaN   \n",
       "1104       NaN             NaN                 NaN                   NaN   \n",
       "1105       NaN             NaN                 NaN                   NaN   \n",
       "1106       NaN             NaN                 NaN                   NaN   \n",
       "1107       NaN             NaN                 NaN                   NaN   \n",
       "...        ...             ...                 ...                   ...   \n",
       "25780      NaN             NaN                 NaN                   NaN   \n",
       "25781      NaN             NaN                 NaN                   NaN   \n",
       "25782      NaN             NaN                 NaN                   NaN   \n",
       "25783      NaN             NaN                 NaN                   NaN   \n",
       "25784      NaN             NaN                 NaN                   NaN   \n",
       "\n",
       "      ANNEEABATTAGE ESSOUCHEMENT DIAMETREARBRE  CAUSEABATTAGE  \\\n",
       "1100            NaN          NaN           NaN            NaN   \n",
       "1104            NaN          NaN           NaN            NaN   \n",
       "1105            NaN          NaN           NaN            NaN   \n",
       "1106            NaN          NaN           NaN            NaN   \n",
       "1107            NaN          NaN           NaN            NaN   \n",
       "...             ...          ...           ...            ...   \n",
       "25780           NaN          NaN           NaN            NaN   \n",
       "25781           NaN          NaN           NaN            NaN   \n",
       "25782           NaN          NaN           NaN            NaN   \n",
       "25783           NaN          NaN           NaN            NaN   \n",
       "25784           NaN          NaN           NaN            NaN   \n",
       "\n",
       "                   COLLECTIVITE  \\\n",
       "1100   Grenoble Alpes Métropole   \n",
       "1104   Grenoble Alpes Métropole   \n",
       "1105   Grenoble Alpes Métropole   \n",
       "1106   Grenoble Alpes Métropole   \n",
       "1107   Grenoble Alpes Métropole   \n",
       "...                         ...   \n",
       "25780         Ville de Grenoble   \n",
       "25781         Ville de Grenoble   \n",
       "25782         Ville de Grenoble   \n",
       "25783         Ville de Grenoble   \n",
       "25784         Ville de Grenoble   \n",
       "\n",
       "                                                 GeoJSON  \n",
       "1100   {\"type\":\"Point\",\"coordinates\":[5.7194282908896...  \n",
       "1104   {\"type\":\"Point\",\"coordinates\":[5.7190264290501...  \n",
       "1105   {\"type\":\"Point\",\"coordinates\":[5.7195995470467...  \n",
       "1106   {\"type\":\"Point\",\"coordinates\":[5.7197716753457...  \n",
       "1107   {\"type\":\"Point\",\"coordinates\":[5.7196857940308...  \n",
       "...                                                  ...  \n",
       "25780  {\"type\":\"Point\",\"coordinates\":[5.7394769123127...  \n",
       "25781  {\"type\":\"Point\",\"coordinates\":[5.7392320939366...  \n",
       "25782  {\"type\":\"Point\",\"coordinates\":[5.7394244358425...  \n",
       "25783  {\"type\":\"Point\",\"coordinates\":[5.7394861708769...  \n",
       "25784  {\"type\":\"Point\",\"coordinates\":[5.7392933403121...  \n",
       "\n",
       "[302 rows x 32 columns]"
      ]
     },
     "execution_count": 9,
     "metadata": {},
     "output_type": "execute_result"
    }
   ],
   "source": [
    "# Afficher tous les arbres ayant été plantés l’année de votre naissance.\n",
    "\n",
    "idices_1989 = df['ANNEEDEPLANTATION'].where(df['ANNEEDEPLANTATION'] == 1989).dropna().index\n",
    "\n",
    "df[df.isin([1989])].stack()\n",
    "\n",
    "df.loc[idices_1989]\n"
   ]
  },
  {
   "cell_type": "code",
   "execution_count": 10,
   "metadata": {},
   "outputs": [
    {
     "data": {
      "text/plain": [
       "13350"
      ]
     },
     "execution_count": 10,
     "metadata": {},
     "output_type": "execute_result"
    }
   ],
   "source": [
    "#the number of trees:\n",
    "\n",
    "df['ANNEEDEPLANTATION'].where(df['ANNEEDEPLANTATION'] >= 1989).dropna().count()"
   ]
  },
  {
   "cell_type": "markdown",
   "metadata": {},
   "source": [
    "#### Identifiez maintenant toutes les espèces différentes présentes à Grenoble."
   ]
  },
  {
   "cell_type": "code",
   "execution_count": 161,
   "metadata": {},
   "outputs": [
    {
     "data": {
      "text/plain": [
       "313"
      ]
     },
     "execution_count": 161,
     "metadata": {},
     "output_type": "execute_result"
    }
   ],
   "source": [
    "df[\"GENRE_ESPECE\"] = df[\"GENRE_BOTA\"] + \" \"  + df[\"ESPECE\"]\n",
    "\n",
    "all_espece_unique = df[\"GENRE_ESPECE\"].dropna().unique()\n",
    "\n",
    "nb_all_espece_unique = len(all_espece_unique)\n",
    "nb_all_espece_unique"
   ]
  },
  {
   "cell_type": "markdown",
   "metadata": {},
   "source": [
    "#### how many trees in each espece"
   ]
  },
  {
   "cell_type": "code",
   "execution_count": 12,
   "metadata": {},
   "outputs": [
    {
     "data": {
      "text/plain": [
       "Acer           5230\n",
       "Platanus       4616\n",
       "Pinus          2073\n",
       "Tilia          1747\n",
       "Fraxinus       1441\n",
       "               ... \n",
       "Sequoia           1\n",
       "Nyssa             1\n",
       "Sterculia         1\n",
       "Eucalyptus        1\n",
       "Sciadopitys       1\n",
       "Name: GENRE_BOTA, Length: 112, dtype: int64"
      ]
     },
     "execution_count": 12,
     "metadata": {},
     "output_type": "execute_result"
    }
   ],
   "source": [
    "df[\"GENRE_ESPECE\"].value_counts()\n",
    "df[\"GENRE_BOTA\"].value_counts()\n"
   ]
  },
  {
   "cell_type": "code",
   "execution_count": 13,
   "metadata": {},
   "outputs": [
    {
     "data": {
      "text/plain": [
       "array(['Platanus acerifolia', 'Pterocarya fraxinifolia', 'Tilia cordata',\n",
       "       'Aesculus hippocastanum', 'Prunus padus', 'Ginkgo biloba',\n",
       "       'Tilia platyphyllos'], dtype=object)"
      ]
     },
     "execution_count": 13,
     "metadata": {},
     "output_type": "execute_result"
    }
   ],
   "source": [
    "years_sorted =  df['ANNEEDEPLANTATION'].dropna().sort_values().unique()\n",
    "especes_year_1 = df['GENRE_ESPECE'].where(df['ANNEEDEPLANTATION'] == years_sorted[0]).dropna().unique()\n",
    "\n",
    "especes_per_year = [df['GENRE_ESPECE'].where(df['ANNEEDEPLANTATION'] == year).dropna().unique() \n",
    "                    for year in years_sorted]\n",
    "\n",
    "especes_per_year [0]\n"
   ]
  },
  {
   "cell_type": "code",
   "execution_count": 14,
   "metadata": {},
   "outputs": [],
   "source": [
    "\n",
    "especes_uni = list(especes_per_year[0])\n",
    "\n",
    "nb_new_esp = [len(especes_per_year[0])]\n",
    "nb_all_esp = [len(especes_per_year[0])]\n",
    "for i,especes_y in enumerate(especes_per_year[1:]):\n",
    "    esp_new_y=[]\n",
    "    # append new espece_y has new esxpeces than espece_uni\n",
    "    [(esp_new_y.append(espece_y),especes_uni.append(espece_y))\n",
    "             for espece_y in especes_y if espece_y not in especes_uni]\n",
    "    #[especes_uni.append(espece_y)  for espece_y in especes_y if espece_y not in especes_uni]\n",
    "    nb_new_esp.append(len(esp_new_y))\n",
    "    nb_all_esp.append(len(esp_new_y)+nb_all_esp[i])\n",
    "    \n"
   ]
  },
  {
   "cell_type": "code",
   "execution_count": 137,
   "metadata": {},
   "outputs": [
    {
     "data": {
      "image/png": "[encoded data removed]",
      "text/plain": [
       "<Figure size 432x288 with 1 Axes>"
      ]
     },
     "metadata": {
      "needs_background": "light"
     },
     "output_type": "display_data"
    }
   ],
   "source": [
    "plt.bar(years_sorted,nb_new_esp)    \n",
    "plt.show()"
   ]
  },
  {
   "cell_type": "code",
   "execution_count": 118,
   "metadata": {},
   "outputs": [
    {
     "data": {
      "image/png": "[encoded data removed]",
      "text/plain": [
       "<Figure size 432x288 with 1 Axes>"
      ]
     },
     "metadata": {
      "needs_background": "light"
     },
     "output_type": "display_data"
    },
    {
     "data": {
      "image/png": "[encoded data removed]",
      "text/plain": [
       "<Figure size 432x288 with 1 Axes>"
      ]
     },
     "metadata": {
      "needs_background": "light"
     },
     "output_type": "display_data"
    },
    {
     "data": {
      "text/plain": [
       "GENRE_ESPECE\n",
       "Abies concolor        1969.0\n",
       "Abies koreana         2016.0\n",
       "Abies nordmanniana    1960.0\n",
       "Abies pinsapo         1976.0\n",
       "Acer buergerianum     1992.0\n",
       "                       ...  \n",
       "Ulmus minor           1960.0\n",
       "Ulmus parvifolia      2017.0\n",
       "Ulmus resista         1965.0\n",
       "Zelkova crenata       2011.0\n",
       "Zelkova serrata       1970.0\n",
       "Name: ANNEEDEPLANTATION, Length: 313, dtype: float64"
      ]
     },
     "execution_count": 118,
     "metadata": {},
     "output_type": "execute_result"
    }
   ],
   "source": [
    "# meme chose avec groupby\n",
    "year_of_apperiance = df.groupby(df['GENRE_ESPECE'])['ANNEEDEPLANTATION'].min()\n",
    "\n",
    "\n",
    "nb_new_year = year_of_apperiance.value_counts()\n",
    "\n",
    "plt.hist(year_of_apperiance, bins = 69)\n",
    "plt.show()\n",
    "\n",
    "plt.figure()\n",
    "plt.bar(nb_new_year.index.tolist(),nb_new_year)    \n",
    "plt.show()\n",
    "year_of_apperiance"
   ]
  },
  {
   "cell_type": "code",
   "execution_count": 126,
   "metadata": {},
   "outputs": [
    {
     "data": {
      "text/plain": [
       "GENRE_ESPECE\n",
       "Abies concolor        1969.0\n",
       "Abies koreana         2016.0\n",
       "Abies nordmanniana    1960.0\n",
       "Abies pinsapo         1976.0\n",
       "Acer buergerianum     1992.0\n",
       "                       ...  \n",
       "Ulmus minor           1960.0\n",
       "Ulmus parvifolia      2017.0\n",
       "Ulmus resista         1965.0\n",
       "Zelkova crenata       2011.0\n",
       "Zelkova serrata       1970.0\n",
       "Name: ANNEEDEPLANTATION, Length: 313, dtype: float64"
      ]
     },
     "execution_count": 126,
     "metadata": {},
     "output_type": "execute_result"
    }
   ],
   "source": [
    "# meme chose avec groupby\n",
    "\n",
    "df.groupby(df['GENRE_ESPECE']).apply(lambda x: x.ANNEEDEPLANTATION.min())\n",
    "\n",
    "#nb_new_year = year_of_apperiance.value_counts()\n",
    "\n",
    "df.groupby(df['GENRE_ESPECE']).ANNEEDEPLANTATION.min()\n",
    "\n"
   ]
  },
  {
   "cell_type": "code",
   "execution_count": 183,
   "metadata": {},
   "outputs": [
    {
     "data": {
      "image/png": "[encoded data removed]",
      "text/plain": [
       "<Figure size 432x288 with 1 Axes>"
      ]
     },
     "metadata": {
      "needs_background": "light"
     },
     "output_type": "display_data"
    }
   ],
   "source": [
    "#plt.plot(years_sorted,nb_all_esp)    \n",
    "plt.bar(years_sorted,nb_all_esp)    \n",
    "\n",
    "plt.show()"
   ]
  },
  {
   "cell_type": "markdown",
   "metadata": {
    "slideshow": {
     "slide_type": "subslide"
    }
   },
   "source": [
    "Plusieurs sources évoquent une espérance de vie moyenne des arbres en ville de 12 30 à 80 ans . Les données de terrain disponibles pour Grenoble corroborent-elles ces sources ?\n",
    "\n",
    "-> on a pas d'information si les arbres existent encore"
   ]
  },
  {
   "cell_type": "markdown",
   "metadata": {
    "slideshow": {
     "slide_type": "subslide"
    }
   },
   "source": [
    "### Arbres non-desirees à Grenoble\n"
   ]
  },
  {
   "cell_type": "code",
   "execution_count": 16,
   "metadata": {
    "slideshow": {
     "slide_type": "-"
    }
   },
   "outputs": [],
   "source": [
    "list_especes_non_desiree = [ 'Acer saccharinum', \n",
    "                            'Albizzia julibrissin',\n",
    "                            'Catalpa bignonoides',\n",
    "                            'Ginkgo biloba',\n",
    "                            'Gleditsia triacanthos',\n",
    "                            'Koelreuteria paniculata',\n",
    "                            'Laburnum anagyroides',\n",
    "                            'Paulownia tomentosa',\n",
    "                            'Prunus pissardi',\n",
    "                            'Sophora japonica',\n",
    "                            'Acer palmatum',\n",
    "                            'Acer pseudoplatanus',\n",
    "                            'Betula costata',\n",
    "                            'Betula davurica',\n",
    "                           'Betula jacquemontii',\n",
    "                           'Betula lenta',\n",
    "                            'Betula pendula',\n",
    "                           'Betula maximowicziana',\n",
    "                           'Betula pubescens',\n",
    "                           'Betula utilis',\n",
    "                           'Cryptomeria japonica',\n",
    "                           'Cupressus cashmeriana',\n",
    "                            'Davidia involucrata',\n",
    "                           'Fagus sylvatica',\n",
    "                           'Juglans nigra',\n",
    "                           'Juglans ailantifolia',\n",
    "                            'Liriodendron tulipifera',\n",
    "                           'Magnolia grandiflora',\n",
    "                           'Nerium oleander',\n",
    "                           'Picea abies', \n",
    "                           'Populus alba',\n",
    "                           'Quercus bicolor',\n",
    "                           'Quercus macrocarpa',\n",
    "                           'Quercus nigra',\n",
    "                           'Quercus rubra',\n",
    "                           'Quercus alba',\n",
    "                           'Salix alba',\n",
    "                           'Salix gracolistyla',\n",
    "                           'Salix daphnoides',\n",
    "                           'Salix cinerea',\n",
    "                           'Salix arenaria',\n",
    "                           'Salix acutifolia',\n",
    "                           'Sorbus aucuparia',\n",
    "                           'Ailanthus altissima',\n",
    "                            'Robinia pseudoacacia',\n",
    "                            'Acer negundo',\n",
    "                            'Acer platanoides', \n",
    "                            'Acer pseudoplatanus'        ]\n",
    "\n",
    "list_genre_non_desiree = ['Aesculus',\n",
    "                          'Fraxinus',\n",
    "                          'Platanus',\n",
    "                           'Betula',\n",
    "                          'Castanea',\n",
    "                          'Cupressus',\n",
    "                          'Olea' ]\n",
    "\n",
    "\n",
    "list_especes_non_desiree2 = [ 'Acer saccharinum', \n",
    "                            'Albizzia julibrissin',\n",
    "                            'Catalpa bignonoides',\n",
    "                            'Ginkgo biloba',\n",
    "                            'Gleditsia triacanthos',\n",
    "                            'Koelreuteria paniculata',\n",
    "                            'Laburnum anagyroides',\n",
    "                            'Paulownia tomentosa',\n",
    "                            'Prunus pissardi',\n",
    "                            'Sophora japonica',\n",
    "                            'Acer palmatum',\n",
    "                            'Acer pseudoplatanus',\n",
    "                           'Cryptomeria japonica',\n",
    "                            'Davidia involucrata',\n",
    "                           'Fagus sylvatica',\n",
    "                           'Juglans nigra',\n",
    "                           'Juglans ailantifolia',\n",
    "                            'Liriodendron tulipifera',\n",
    "                           'Magnolia grandiflora',\n",
    "                           'Nerium oleander',\n",
    "                           'Picea abies', \n",
    "                           'Populus alba',\n",
    "                           'Quercus bicolor',\n",
    "                           'Quercus macrocarpa',\n",
    "                           'Quercus nigra',\n",
    "                           'Quercus rubra',\n",
    "                           'Quercus alba',\n",
    "                           'Salix alba',\n",
    "                           'Salix gracolistyla',\n",
    "                           'Salix daphnoides',\n",
    "                           'Salix cinerea',\n",
    "                           'Salix arenaria',\n",
    "                           'Salix acutifolia',\n",
    "                           'Sorbus aucuparia',\n",
    "                           'Ailanthus altissima',\n",
    "                            'Robinia pseudoacacia',\n",
    "                            'Acer negundo',\n",
    "                            'Acer platanoides', \n",
    "                            'Acer pseudoplatanus'   \n",
    "                            ]"
   ]
  },
  {
   "cell_type": "code",
   "execution_count": 17,
   "metadata": {},
   "outputs": [
    {
     "name": "stdout",
     "output_type": "stream",
     "text": [
      "14228  d'arbres ne sont pas desirees et  17586 sont des especes desirees\n",
      "44.72244923618533 % des arbres ne sont pas desirees\n"
     ]
    },
    {
     "data": {
      "text/plain": [
       "10        Fraxinus\n",
       "11        Fraxinus\n",
       "16        Fraxinus\n",
       "20        Fraxinus\n",
       "32        Platanus\n",
       "           ...    \n",
       "31788     Platanus\n",
       "31802    Cupressus\n",
       "31804       Betula\n",
       "31809       Betula\n",
       "31810       Betula\n",
       "Name: GENRE_BOTA, Length: 7934, dtype: object"
      ]
     },
     "execution_count": 17,
     "metadata": {},
     "output_type": "execute_result"
    }
   ],
   "source": [
    "#df[\"GENRE_ESPECE\"].value_counts()\n",
    "#df[\"GENRE_BOTA\"].value_counts()\n",
    "\n",
    "genres_non_des = df['GENRE_BOTA'][df['GENRE_BOTA'].isin(list_genre_non_desiree)]\n",
    "esp_non_des = df['GENRE_ESPECE'][df['GENRE_ESPECE'].isin(list_especes_non_desiree2)]\n",
    "                         \n",
    "nb_arbres_non_des = len(genres_non_des) + len(esp_non_des)\n",
    "nb_arbres_des = len(df['GENRE_BOTA']) - nb_arbres_non_des\n",
    "\n",
    "print(nb_arbres_non_des, \" d'arbres ne sont pas desirees et \", nb_arbres_des, \"sont des especes desirees\")\n",
    "print(100.* nb_arbres_non_des / len(df['GENRE_BOTA']), \"% des arbres ne sont pas desirees\")\n",
    "\n",
    "\n",
    "genres_non_des"
   ]
  },
  {
   "cell_type": "code",
   "execution_count": 18,
   "metadata": {},
   "outputs": [
    {
     "data": {
      "text/plain": [
       "0.15286624203821655"
      ]
     },
     "execution_count": 18,
     "metadata": {},
     "output_type": "execute_result"
    }
   ],
   "source": [
    "# pourcentages des especes non desiree \n",
    "\n",
    "len(list_genre_non_desiree) / len(df['GENRE_BOTA'].unique())\n",
    "\n",
    "len(list_especes_non_desiree) / len(df['GENRE_ESPECE'].unique())\n"
   ]
  },
  {
   "cell_type": "markdown",
   "metadata": {},
   "source": [
    "### Essayer de proposer une liste d’espèce à planter qui permet de remplir les objectifs annoncés en terme de diversification.\n"
   ]
  },
  {
   "cell_type": "code",
   "execution_count": 19,
   "metadata": {},
   "outputs": [
    {
     "data": {
      "text/plain": [
       "Acer          5230\n",
       "Pinus         2073\n",
       "Tilia         1747\n",
       "Carpinus      1332\n",
       "Prunus        1051\n",
       "              ... \n",
       "Sterculia        1\n",
       "Eucalyptus       1\n",
       "Sequoia          1\n",
       "Staphylea        1\n",
       "Poncinos         1\n",
       "Name: GENRE_BOTA, Length: 105, dtype: int64"
      ]
     },
     "execution_count": 19,
     "metadata": {},
     "output_type": "execute_result"
    }
   ],
   "source": [
    "# here missing !!!\n",
    "\n",
    "# refaire les calcules d'avant pour les pourcentages des différentes especes / genres\n",
    "# faut respecter la règle 10-20-30\n",
    "# en plus fiat planter des arbres qui sont pas dans la liste\n",
    "\n",
    "l_gen_d_existant = df['GENRE_BOTA'][~df['GENRE_BOTA'].isin(list_genre_non_desiree)]\n",
    "l_esp_d_existant = df['GENRE_ESPECE'][~df['GENRE_ESPECE'].isin(list_especes_non_desiree2)]\n",
    "\n",
    "l_gen_d_uni = l_gen_d_existant.unique()\n",
    "l_esp_d_uni = l_esp_d_existant.unique()\n",
    "\n",
    "\n",
    "count_gen_d_existant = l_gen_d_existant.value_counts()\n",
    "count_esp_d_existant = l_esp_d_existant.value_counts()\n",
    "count_esp_d_existant / len(l_esp_d_existant) *100\n",
    "\n",
    "\n",
    "count_gen_d_existant\n",
    "\n",
    "\n"
   ]
  },
  {
   "cell_type": "code",
   "execution_count": 138,
   "metadata": {},
   "outputs": [
    {
     "data": {
      "image/png": "[encoded data removed]",
      "text/plain": [
       "<Figure size 432x288 with 1 Axes>"
      ]
     },
     "metadata": {
      "needs_background": "light"
     },
     "output_type": "display_data"
    },
    {
     "data": {
      "image/png": "[encoded data removed]",
      "text/plain": [
       "<Figure size 432x288 with 1 Axes>"
      ]
     },
     "metadata": {
      "needs_background": "light"
     },
     "output_type": "display_data"
    }
   ],
   "source": [
    "¶#calcul les annees de plantations des genres / especes non désiree \n",
    "annees_genres_non_des = df['ANNEEDEPLANTATION'][df['GENRE_BOTA'].isin(list_genre_non_desiree)]\n",
    "annees_esp_non_des = df['ANNEEDEPLANTATION'][df['GENRE_ESPECE'].isin(list_especes_non_desiree2)]\n",
    "\n",
    "annees_genres_des =  df['ANNEEDEPLANTATION'][~df['GENRE_BOTA'].isin(list_genre_non_desiree)]\n",
    "annees_esp_des = df['ANNEEDEPLANTATION'][~df['GENRE_ESPECE'].isin(list_especes_non_desiree2)]\n",
    "\n",
    "\n",
    "\n",
    "l_nb_trees_plantet_g_not_wanted = annees_genres_non_des.value_counts()\n",
    "l_nb_trees_plantet_g_wanted = annees_genres_des.value_counts()\n",
    "l_nb_trees_plantet_e_not_wanted = annees_esp_non_des.value_counts()\n",
    "l_nb_trees_plantet_e_wanted = annees_esp_des.value_counts()\n",
    "\n",
    "years_g = np.array(l_nb_trees_plantet_g_not_wanted.index.tolist()) - 0.2\n",
    "years_g2 = np.array(l_nb_trees_plantet_g_wanted.index.tolist()) + 0.2\n",
    "years_e = np.array(l_nb_trees_plantet_e_not_wanted.index.tolist()) - 0.2\n",
    "years_e2 = np.array(l_nb_trees_plantet_e_wanted.index.tolist()) + 0.2\n",
    "\n",
    "plt.bar(years_g,l_nb_trees_plantet_g_not_wanted , label = 'genre not wanted', width =0.5)\n",
    "plt.bar(years_g2,l_nb_trees_plantet_g_wanted, label = 'genre wanted' , width =0.5)\n",
    "plt.ylabel('nb of planted trees')\n",
    "plt.xlabel('year')\n",
    "plt.legend()\n",
    "plt.show()\n",
    "\n",
    "plt.figure\n",
    "plt.bar(years_e,l_nb_trees_plantet_e_not_wanted , label = 'species not wanted', width =0.5)\n",
    "plt.bar(years_e2,l_nb_trees_plantet_e_wanted, label = 'species wanted', width =0.5 )\n",
    "plt.ylabel('nb of planted trees')\n",
    "plt.legend()\n",
    "plt.xlabel('year')\n",
    "plt.show()"
   ]
  },
  {
   "cell_type": "code",
   "execution_count": 139,
   "metadata": {},
   "outputs": [],
   "source": [
    "col_new = ['GENRE_BOTA', 'ESPECE','GENRE_ESPECE', 'ANNEEDEPLANTATION' ]\n",
    "df_nd = df[col_new].copy().dropna()\n",
    "df_d = df[col_new].copy().dropna()\n",
    "\n",
    "#print(df_not_desired)\n",
    "\n",
    "df_nd = pd.concat([df_nd[df_nd['GENRE_BOTA'].isin(list_genre_non_desiree)],\n",
    "                   df_nd[df_nd['GENRE_ESPECE'].isin(list_especes_non_desiree2)]])\n",
    "df_d = df_d[~df_d['GENRE_ESPECE'].isin(df_nd['GENRE_ESPECE'])]"
   ]
  },
  {
   "cell_type": "code",
   "execution_count": 140,
   "metadata": {},
   "outputs": [
    {
     "name": "stdout",
     "output_type": "stream",
     "text": [
      "      GENRE_BOTA          ESPECE         GENRE_ESPECE  ANNEEDEPLANTATION\n",
      "0           Acer  pseudoplatanus  Acer pseudoplatanus             2001.0\n",
      "1           Acer  pseudoplatanus  Acer pseudoplatanus             2001.0\n",
      "2           Acer  pseudoplatanus  Acer pseudoplatanus             2001.0\n",
      "3           Acer  pseudoplatanus  Acer pseudoplatanus             2001.0\n",
      "4           Acer  pseudoplatanus  Acer pseudoplatanus             2001.0\n",
      "...          ...             ...                  ...                ...\n",
      "31786       Acer  pseudoplatanus  Acer pseudoplatanus             1967.0\n",
      "31790       Acer     platanoides     Acer platanoides             1976.0\n",
      "31794       Acer     platanoides     Acer platanoides             1975.0\n",
      "31799       Acer         negundo         Acer negundo             1987.0\n",
      "31808       Acer         negundo         Acer negundo             1987.0\n",
      "\n",
      "[6288 rows x 4 columns]\n"
     ]
    },
    {
     "data": {
      "image/png": "[encoded data removed]",
      "text/plain": [
       "<Figure size 432x288 with 1 Axes>"
      ]
     },
     "metadata": {
      "needs_background": "light"
     },
     "output_type": "display_data"
    }
   ],
   "source": [
    "\n",
    "\n",
    "df_nd_gen = df_nd[df_nd['GENRE_BOTA'].isin(list_genre_non_desiree)]\n",
    "                       \n",
    "df_nd_esp = df_nd[df_nd['GENRE_ESPECE'].isin(list_especes_non_desiree2)]\n",
    "\n",
    "print(df_nd_esp)\n",
    "\n",
    "\n",
    "\n",
    "count_years_nd = df_nd['ANNEEDEPLANTATION' ].value_counts()\n",
    "count_years_d = df_d['ANNEEDEPLANTATION' ].value_counts()\n",
    "\n",
    "years_nd = np.array(count_years_nd.index.tolist()) - 0.2\n",
    "years_d = np.array(count_years_d.index.tolist()) + 0.2\n",
    "\n",
    "\n",
    "plt.figure\n",
    "plt.bar(years_nd,count_years_nd , label = 'trees not wanted', width =0.5)\n",
    "plt.bar(years_d,count_years_d, label = 'trees wanted', width =0.5 )\n",
    "plt.ylabel('nb of planted trees')\n",
    "plt.legend()\n",
    "plt.xlabel('year')\n",
    "plt.show()\n",
    "\n"
   ]
  },
  {
   "cell_type": "code",
   "execution_count": 158,
   "metadata": {},
   "outputs": [
    {
     "data": {
      "image/png": "[encoded data removed]",
      "text/plain": [
       "<Figure size 432x288 with 1 Axes>"
      ]
     },
     "metadata": {
      "needs_background": "light"
     },
     "output_type": "display_data"
    }
   ],
   "source": [
    "count_years_nd = df_nd['ANNEEDEPLANTATION'].value_counts().sort_index()\n",
    "count_years_d = df_d['ANNEEDEPLANTATION' ].value_counts().sort_index()\n",
    "\n",
    "\n",
    "dftest = pd.concat([count_years_nd,count_years_d ], axis=1)\n",
    "\n",
    "\n",
    "ax = dftest.plot.bar()\n",
    "ax.set_xlabel('year')\n",
    "ax.set_ylabel('nb of planted trees')\n",
    "\n",
    "plt.legend()\n",
    "plt.show()\n",
    "\n"
   ]
  },
  {
   "cell_type": "code",
   "execution_count": 181,
   "metadata": {},
   "outputs": [
    {
     "data": {
      "image/png": "[encoded data removed]",
      "text/plain": [
       "<Figure size 1080x360 with 1 Axes>"
      ]
     },
     "metadata": {
      "needs_background": "light"
     },
     "output_type": "display_data"
    }
   ],
   "source": [
    "col_new = ['GENRE_BOTA', 'GENRE_ESPECE', 'ANNEEDEPLANTATION' ]\n",
    "df1 = df[col_new].copy().dropna()\n",
    "\n",
    "\n",
    "# je veux savoir les annee de plantation des especes non désirees \n",
    "\n",
    "df1['ESP_NON_DES'] = df1.ANNEEDEPLANTATION[df1.GENRE_BOTA.isin(list_genre_non_desiree)\n",
    "                                           | df1.GENRE_ESPECE.isin(list_especes_non_desiree2)]\n",
    "\n",
    "df1['ESP_DES'] = df1.ANNEEDEPLANTATION[~df1.GENRE_BOTA.isin(list_genre_non_desiree) \n",
    "                                       & ~df1.GENRE_ESPECE.isin(list_especes_non_desiree2)]\n",
    "\n",
    "dfplot = pd.concat([df1['ESP_NON_DES'].value_counts().sort_index()\n",
    "                    ,df1['ESP_DES'].value_counts().sort_index()], axis=1)\n",
    "\n",
    "ax = dfplot.plot.bar(figsize = (15,5))\n",
    "ax.set_xlabel('year')\n",
    "ax.set_ylabel('nb of planted trees')\n",
    "\n",
    "ax.legend()\n",
    "plt.show()"
   ]
  },
  {
   "cell_type": "code",
   "execution_count": 22,
   "metadata": {},
   "outputs": [
    {
     "data": {
      "text/plain": [
       "(43500.0, 14572.0)"
      ]
     },
     "execution_count": 22,
     "metadata": {},
     "output_type": "execute_result"
    }
   ],
   "source": [
    "nb_esp_d = df_d['GENRE_ESPECE'].value_counts()\n",
    "nb_gen_d = df_d['GENRE_BOTA'].value_counts()\n",
    "\n",
    "\n",
    "total_nb_of_d_trees = len(df_d['GENRE_ESPECE'])\n",
    "\n",
    "nb_esp_nd = df_nd['GENRE_ESPECE'].value_counts()\n",
    "nb_gen_nd = df_nd['GENRE_BOTA'].value_counts()\n",
    "\n",
    "total_nb_of_nd_trees = len(df_d['GENRE_ESPECE'])\n",
    "\n",
    "total_nb_of_trees = total_nb_of_d_trees + total_nb_of_nd_trees\n",
    "\n",
    "pourcnt_esp_d = 100* nb_esp_d / total_nb_of_trees\n",
    "pourcnt_gen_d = 100* nb_gen_d / total_nb_of_trees \n",
    "\n",
    "\n",
    "pourcnt_esp_nd = 100* nb_esp_nd / total_nb_of_trees\n",
    "pourcnt_gen_nd = 100* nb_gen_nd / total_nb_of_trees \n",
    "\n",
    "nb_platanus_acerifolia = nb_esp_nd[0]\n",
    "\n",
    "nb_total_trees_needed = nb_platanus_acerifolia / 0.1\n",
    "nb_arbres_a_planter = nb_total_trees_needed - total_nb_of_trees\n",
    "\n",
    "nb_total_trees_needed , nb_arbres_a_planter\n",
    "\n"
   ]
  },
  {
   "cell_type": "markdown",
   "metadata": {},
   "source": [
    "14572.0 trees have to be plant for having 10 % of nb_platanus_acerifolia\n",
    "this well mean that we will have a total of 43500 trees\n",
    "\n",
    "a genre pf trees is not allowed to have more than 8700 trees\n",
    "and a species not more than 4350"
   ]
  },
  {
   "cell_type": "code",
   "execution_count": 23,
   "metadata": {},
   "outputs": [
    {
     "data": {
      "text/plain": [
       "(Pinus         6857\n",
       " Tilia         7045\n",
       " Carpinus      7375\n",
       " Acer          7386\n",
       " Prunus        7774\n",
       "               ... \n",
       " Sequoia       8699\n",
       " Staphylea     8699\n",
       " Eucalyptus    8699\n",
       " Laburnum      8699\n",
       " Rhamnus       8699\n",
       " Name: GENRE_BOTA, Length: 92, dtype: int64, Carpinus betulus             3039\n",
       " Pinus nigra                  3085\n",
       " Tilia tomentosa              3364\n",
       " Acer campestre               3504\n",
       " Liquidambar styraciflua      3557\n",
       "                              ... \n",
       " Juniperus virginiana         4349\n",
       " Sequoia sempervirens         4349\n",
       " Quercus phellos              4349\n",
       " Amélanchier laevis           4349\n",
       " Chamaecyparis formosensis    4349\n",
       " Name: GENRE_ESPECE, Length: 257, dtype: int64)"
      ]
     },
     "execution_count": 23,
     "metadata": {},
     "output_type": "execute_result"
    }
   ],
   "source": [
    "# which trees are good to plant\n",
    "# 14572.0 trees have to be plant for having 10 % of nb_platanus_acerifolia\n",
    "#number of allowed trees to plant \n",
    "\n",
    "\n",
    "list_of_numbers_of_allowed_species = (4350 - nb_esp_d)\n",
    "list_of_numbers_of_allowed_genders = (8700 - nb_gen_d)\n",
    "\n",
    "list_of_numbers_of_allowed_genders, list_of_numbers_of_allowed_species\n",
    "\n",
    "# compute some sum of existing acer..\n",
    "\n",
    "#14572 /len(list_of_numbers_of_allowed_species)\n"
   ]
  },
  {
   "cell_type": "code",
   "execution_count": null,
   "metadata": {},
   "outputs": [],
   "source": []
  },
  {
   "cell_type": "markdown",
   "metadata": {},
   "source": [
    "# Itération 4\n",
    "### Analyser et représenter la distribution géographique des arbres."
   ]
  },
  {
   "cell_type": "markdown",
   "metadata": {},
   "source": [
    "#### Mettez les arbres sur une carte en utilisant Folium.\n"
   ]
  },
  {
   "cell_type": "code",
   "execution_count": 111,
   "metadata": {},
   "outputs": [],
   "source": [
    "col_new = ['GENRE_BOTA', 'ESPECE','GENRE_ESPECE', 'ANNEEDEPLANTATION', 'GeoJSON']\n",
    "\n",
    "df_n = df[col_new].copy()\n",
    "df_n = df_n\n",
    "#m = folium.Map(location=arbre_loc[0])\n"
   ]
  },
  {
   "cell_type": "code",
   "execution_count": 110,
   "metadata": {},
   "outputs": [
    {
     "name": "stdout",
     "output_type": "stream",
     "text": [
      "0     [45.1905385120349, 5.74072726311972]\n",
      "1      [45.190524547693, 5.74074817449951]\n",
      "2     [45.1904979371376, 5.74069739487812]\n",
      "3     [45.1904912803012, 5.74067549670718]\n",
      "4     [45.1904789877616, 5.74070156563956]\n",
      "                      ...                 \n",
      "95    [45.1890836573223, 5.73957492872308]\n",
      "96    [45.1894295182967, 5.73973715676239]\n",
      "97    [45.1910573582209, 5.74091406019697]\n",
      "98    [45.1911217700938, 5.73941612552464]\n",
      "99    [45.1908047491604, 5.73974288491655]\n",
      "Name: GeoJSON, Length: 100, dtype: object\n",
      "[45.1905385120349 5.74072726311972]\n",
      "<class 'numpy.ndarray'> <class 'numpy.ndarray'>\n"
     ]
    },
    {
     "data": {
      "text/html": [
       "<div style=\"width:100%;\"><div style=\"position:relative;width:100%;height:0;padding-bottom:60%;\"><iframe src=\"data:text/html;charset=utf-8;base64,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\" style=\"position:absolute;width:100%;height:100%;left:0;top:0;border:none !important;\" allowfullscreen webkitallowfullscreen mozallowfullscreen></iframe></div></div>"
      ],
      "text/plain": [
       "<folium.folium.Map at 0x7fc8cc2b1fd0>"
      ]
     },
     "execution_count": 110,
     "metadata": {},
     "output_type": "execute_result"
    }
   ],
   "source": [
    "coord = df_n['GeoJSON'].apply(lambda x : np.flip(pd.read_json(x).values[:,1]))\n",
    "\n",
    "print(coord)\n",
    "print(coord.iloc[0])\n",
    "\n",
    "df_n['LONG'] , df_n['LAT']  = zip(*df_n['GeoJSON'].apply(lambda x : pd.read_json(x).values[:,1]))\n",
    "\n",
    "test = np.array([df_n.iloc[0]['LAT'], df_n.iloc[0]['LONG']])\n",
    "print (type(test), type(coord.iloc[0]))\n",
    "\n",
    "#map_in = folium.Map(location=coord.iloc[0])\n",
    "map_in = folium.Map(location= [df_n.iloc[0]['LAT'], df_n.iloc[0]['LONG'] ])\n",
    "\n",
    "for i in range(0,len(df_n)):\n",
    "    folium.map.Marker(location=[df_n.iloc[i]['LAT'], df_n.iloc[i]['LONG'] ]).add_to(map_in)\n",
    "map_in"
   ]
  },
  {
   "cell_type": "code",
   "execution_count": 106,
   "metadata": {},
   "outputs": [
    {
     "ename": "ValueError",
     "evalue": "Location should consist of two numerical values, but array([45.19053851, 45.19052455, 45.19049794, 45.19049128, 45.19047899,\n       45.19122886, 45.18933596, 45.18833324, 45.18912683, 45.18910784]) of type <class 'numpy.ndarray'> is not convertible to float.",
     "output_type": "error",
     "traceback": [
      "\u001b[0;31m---------------------------------------------------------------------------\u001b[0m",
      "\u001b[0;31mTypeError\u001b[0m                                 Traceback (most recent call last)",
      "\u001b[0;32m~/anaconda3/lib/python3.7/site-packages/folium/utilities.py\u001b[0m in \u001b[0;36mvalidate_location\u001b[0;34m(location)\u001b[0m\n\u001b[1;32m     58\u001b[0m         \u001b[0;32mtry\u001b[0m\u001b[0;34m:\u001b[0m\u001b[0;34m\u001b[0m\u001b[0;34m\u001b[0m\u001b[0m\n\u001b[0;32m---> 59\u001b[0;31m             \u001b[0mfloat\u001b[0m\u001b[0;34m(\u001b[0m\u001b[0mcoord\u001b[0m\u001b[0;34m)\u001b[0m\u001b[0;34m\u001b[0m\u001b[0;34m\u001b[0m\u001b[0m\n\u001b[0m\u001b[1;32m     60\u001b[0m         \u001b[0;32mexcept\u001b[0m \u001b[0;34m(\u001b[0m\u001b[0mTypeError\u001b[0m\u001b[0;34m,\u001b[0m \u001b[0mValueError\u001b[0m\u001b[0;34m)\u001b[0m\u001b[0;34m:\u001b[0m\u001b[0;34m\u001b[0m\u001b[0;34m\u001b[0m\u001b[0m\n",
      "\u001b[0;31mTypeError\u001b[0m: only size-1 arrays can be converted to Python scalars",
      "\nDuring handling of the above exception, another exception occurred:\n",
      "\u001b[0;31mValueError\u001b[0m                                Traceback (most recent call last)",
      "\u001b[0;32m<ipython-input-106-186b7912ea06>\u001b[0m in \u001b[0;36m<module>\u001b[0;34m\u001b[0m\n\u001b[1;32m      2\u001b[0m \u001b[0;34m\u001b[0m\u001b[0m\n\u001b[1;32m      3\u001b[0m \u001b[0;34m\u001b[0m\u001b[0m\n\u001b[0;32m----> 4\u001b[0;31m \u001b[0mfolium\u001b[0m\u001b[0;34m.\u001b[0m\u001b[0mmap\u001b[0m\u001b[0;34m.\u001b[0m\u001b[0mMarker\u001b[0m\u001b[0;34m(\u001b[0m\u001b[0mlocation\u001b[0m\u001b[0;34m=\u001b[0m\u001b[0;34m[\u001b[0m\u001b[0mdf_n\u001b[0m\u001b[0;34m[\u001b[0m\u001b[0;34m'LAT'\u001b[0m\u001b[0;34m]\u001b[0m\u001b[0;34m.\u001b[0m\u001b[0mvalues\u001b[0m\u001b[0;34m,\u001b[0m \u001b[0mdf_n\u001b[0m\u001b[0;34m[\u001b[0m\u001b[0;34m'LONG'\u001b[0m\u001b[0;34m]\u001b[0m\u001b[0;34m.\u001b[0m\u001b[0mvalues\u001b[0m\u001b[0;34m]\u001b[0m\u001b[0;34m)\u001b[0m\u001b[0;34m.\u001b[0m\u001b[0madd_to\u001b[0m\u001b[0;34m(\u001b[0m\u001b[0mmap_in\u001b[0m\u001b[0;34m)\u001b[0m\u001b[0;34m\u001b[0m\u001b[0;34m\u001b[0m\u001b[0m\n\u001b[0m\u001b[1;32m      5\u001b[0m \u001b[0mmap_in\u001b[0m\u001b[0;34m\u001b[0m\u001b[0;34m\u001b[0m\u001b[0m\n",
      "\u001b[0;32m~/anaconda3/lib/python3.7/site-packages/folium/map.py\u001b[0m in \u001b[0;36m__init__\u001b[0;34m(self, location, popup, tooltip, icon, draggable, **kwargs)\u001b[0m\n\u001b[1;32m    275\u001b[0m         \u001b[0msuper\u001b[0m\u001b[0;34m(\u001b[0m\u001b[0mMarker\u001b[0m\u001b[0;34m,\u001b[0m \u001b[0mself\u001b[0m\u001b[0;34m)\u001b[0m\u001b[0;34m.\u001b[0m\u001b[0m__init__\u001b[0m\u001b[0;34m(\u001b[0m\u001b[0;34m)\u001b[0m\u001b[0;34m\u001b[0m\u001b[0;34m\u001b[0m\u001b[0m\n\u001b[1;32m    276\u001b[0m         \u001b[0mself\u001b[0m\u001b[0;34m.\u001b[0m\u001b[0m_name\u001b[0m \u001b[0;34m=\u001b[0m \u001b[0;34m'Marker'\u001b[0m\u001b[0;34m\u001b[0m\u001b[0;34m\u001b[0m\u001b[0m\n\u001b[0;32m--> 277\u001b[0;31m         \u001b[0mself\u001b[0m\u001b[0;34m.\u001b[0m\u001b[0mlocation\u001b[0m \u001b[0;34m=\u001b[0m \u001b[0mvalidate_location\u001b[0m\u001b[0;34m(\u001b[0m\u001b[0mlocation\u001b[0m\u001b[0;34m)\u001b[0m\u001b[0;34m\u001b[0m\u001b[0;34m\u001b[0m\u001b[0m\n\u001b[0m\u001b[1;32m    278\u001b[0m         self.options = parse_options(\n\u001b[1;32m    279\u001b[0m             \u001b[0mdraggable\u001b[0m\u001b[0;34m=\u001b[0m\u001b[0mdraggable\u001b[0m \u001b[0;32mor\u001b[0m \u001b[0;32mNone\u001b[0m\u001b[0;34m,\u001b[0m\u001b[0;34m\u001b[0m\u001b[0;34m\u001b[0m\u001b[0m\n",
      "\u001b[0;32m~/anaconda3/lib/python3.7/site-packages/folium/utilities.py\u001b[0m in \u001b[0;36mvalidate_location\u001b[0;34m(location)\u001b[0m\n\u001b[1;32m     61\u001b[0m             raise ValueError('Location should consist of two numerical values, '\n\u001b[1;32m     62\u001b[0m                              \u001b[0;34m'but {!r} of type {} is not convertible to float.'\u001b[0m\u001b[0;34m\u001b[0m\u001b[0;34m\u001b[0m\u001b[0m\n\u001b[0;32m---> 63\u001b[0;31m                              .format(coord, type(coord)))\n\u001b[0m\u001b[1;32m     64\u001b[0m         \u001b[0;32mif\u001b[0m \u001b[0mmath\u001b[0m\u001b[0;34m.\u001b[0m\u001b[0misnan\u001b[0m\u001b[0;34m(\u001b[0m\u001b[0mfloat\u001b[0m\u001b[0;34m(\u001b[0m\u001b[0mcoord\u001b[0m\u001b[0;34m)\u001b[0m\u001b[0;34m)\u001b[0m\u001b[0;34m:\u001b[0m\u001b[0;34m\u001b[0m\u001b[0;34m\u001b[0m\u001b[0m\n\u001b[1;32m     65\u001b[0m             \u001b[0;32mraise\u001b[0m \u001b[0mValueError\u001b[0m\u001b[0;34m(\u001b[0m\u001b[0;34m'Location values cannot contain NaNs.'\u001b[0m\u001b[0;34m)\u001b[0m\u001b[0;34m\u001b[0m\u001b[0;34m\u001b[0m\u001b[0m\n",
      "\u001b[0;31mValueError\u001b[0m: Location should consist of two numerical values, but array([45.19053851, 45.19052455, 45.19049794, 45.19049128, 45.19047899,\n       45.19122886, 45.18933596, 45.18833324, 45.18912683, 45.18910784]) of type <class 'numpy.ndarray'> is not convertible to float."
     ]
    }
   ],
   "source": []
  }
 ],
 "metadata": {
  "celltoolbar": "Slideshow",
  "kernelspec": {
   "display_name": "Python 3",
   "language": "python",
   "name": "python3"
  },
  "language_info": {
   "codemirror_mode": {
    "name": "ipython",
    "version": 3
   },
   "file_extension": ".py",
   "mimetype": "text/x-python",
   "name": "python",
   "nbconvert_exporter": "python",
   "pygments_lexer": "ipython3",
   "version": "3.7.4"
  }
 },
 "nbformat": 4,
 "nbformat_minor": 2
}
