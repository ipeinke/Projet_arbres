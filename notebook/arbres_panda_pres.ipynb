{
 "cells": [
  {
   "cell_type": "markdown",
   "metadata": {
    "slideshow": {
     "slide_type": "slide"
    }
   },
   "source": [
    "# Pandas"
   ]
  },
  {
   "cell_type": "code",
   "execution_count": 1,
   "metadata": {
    "slideshow": {
     "slide_type": "slide"
    }
   },
   "outputs": [],
   "source": [
    "import pandas as pd\n",
    "import numpy as np\n",
    "import matplotlib.pyplot as plt\n",
    "\n"
   ]
  },
  {
   "cell_type": "code",
   "execution_count": 5,
   "metadata": {
    "slideshow": {
     "slide_type": "fragment"
    }
   },
   "outputs": [],
   "source": [
    "df = pd.read_csv('/home/campus-2/Documents/Projet_arbre/data/arbres.csv', \n",
    "                 header = 0, index_col = False, names=None)"
   ]
  },
  {
   "cell_type": "markdown",
   "metadata": {
    "slideshow": {
     "slide_type": "slide"
    }
   },
   "source": [
    "## Genres et especes\n",
    "\n",
    "### Diversité\n",
    "\n",
    "### Especes desirées / non-desirées"
   ]
  },
  {
   "cell_type": "markdown",
   "metadata": {
    "slideshow": {
     "slide_type": "slide"
    }
   },
   "source": [
    "# Diversité\n",
    "### Definition espèces et ajouter au DataFrame"
   ]
  },
  {
   "cell_type": "code",
   "execution_count": 9,
   "metadata": {
    "slideshow": {
     "slide_type": "fragment"
    }
   },
   "outputs": [],
   "source": [
    "df[\"GENRE_ESPECE\"] = df[\"GENRE_BOTA\"] + \" \"  + df[\"ESPECE\"]\n"
   ]
  },
  {
   "cell_type": "code",
   "execution_count": 74,
   "metadata": {
    "slideshow": {
     "slide_type": "fragment"
    }
   },
   "outputs": [],
   "source": [
    "especes_unique = df['GENRE_ESPECE'].dropna().unique()\n",
    "\n",
    "nb_especes = len(especes_unique)\n",
    "\n"
   ]
  },
  {
   "cell_type": "code",
   "execution_count": 75,
   "metadata": {
    "slideshow": {
     "slide_type": "fragment"
    }
   },
   "outputs": [
    {
     "name": "stdout",
     "output_type": "stream",
     "text": [
      "['Acer pseudoplatanus' 'Quercus cerris' 'Quercus frainetto'\n",
      " 'Robinia pseudoacacia' 'Fraxinus excelsior' 'Prunus domestica'\n",
      " 'Platanus acerifolia' 'Liriodendron tulipifera' 'Pinus nigra'\n",
      " 'Acer campestre']\n",
      "313\n"
     ]
    }
   ],
   "source": [
    "print(especes_unique[:10])\n",
    "print(nb_especes)"
   ]
  },
  {
   "cell_type": "markdown",
   "metadata": {
    "slideshow": {
     "slide_type": "slide"
    }
   },
   "source": [
    "### Nombre d'arbres par especes"
   ]
  },
  {
   "cell_type": "code",
   "execution_count": 18,
   "metadata": {
    "slideshow": {
     "slide_type": "fragment"
    }
   },
   "outputs": [
    {
     "data": {
      "text/plain": [
       "Platanus acerifolia        4371\n",
       "Carpinus betulus           1311\n",
       "Acer pseudoplatanus        1304\n",
       "Pinus nigra                1276\n",
       "Acer platanoides           1097\n",
       "                           ... \n",
       "Sorbopyrus auricularis        1\n",
       "Prunus tomentosa              1\n",
       "Amélanchier grandiflora       1\n",
       "Celtis julianae               1\n",
       "Araucaria exelsa              1\n",
       "Name: GENRE_ESPECE, Length: 313, dtype: int64"
      ]
     },
     "execution_count": 18,
     "metadata": {},
     "output_type": "execute_result"
    }
   ],
   "source": [
    "nb_arbres_espesces = df[\"GENRE_ESPECE\"].value_counts()\n",
    "df.GENRE_ESPECE.value_counts()"
   ]
  },
  {
   "cell_type": "code",
   "execution_count": 16,
   "metadata": {
    "slideshow": {
     "slide_type": "slide"
    }
   },
   "outputs": [
    {
     "data": {
      "text/plain": [
       "28595"
      ]
     },
     "execution_count": 16,
     "metadata": {},
     "output_type": "execute_result"
    }
   ],
   "source": [
    "df.GENRE_ESPECE.count()"
   ]
  },
  {
   "cell_type": "code",
   "execution_count": 20,
   "metadata": {
    "slideshow": {
     "slide_type": "subslide"
    }
   },
   "outputs": [
    {
     "data": {
      "text/plain": [
       "Platanus acerifolia        15.285889\n",
       "Carpinus betulus            4.584718\n",
       "Acer pseudoplatanus         4.560238\n",
       "Pinus nigra                 4.462319\n",
       "Acer platanoides            3.836335\n",
       "                             ...    \n",
       "Sorbopyrus auricularis      0.003497\n",
       "Prunus tomentosa            0.003497\n",
       "Amélanchier grandiflora     0.003497\n",
       "Celtis julianae             0.003497\n",
       "Araucaria exelsa            0.003497\n",
       "Name: GENRE_ESPECE, Length: 313, dtype: float64"
      ]
     },
     "execution_count": 20,
     "metadata": {},
     "output_type": "execute_result"
    }
   ],
   "source": [
    "\n",
    "nb_arbres_espesces.apply(lambda x : x / df[\"GENRE_ESPECE\"].count()*100)"
   ]
  },
  {
   "cell_type": "markdown",
   "metadata": {
    "slideshow": {
     "slide_type": "slide"
    }
   },
   "source": [
    "## Comment la diversité evolue avec le temps ? "
   ]
  },
  {
   "cell_type": "code",
   "execution_count": 67,
   "metadata": {
    "slideshow": {
     "slide_type": "subslide"
    }
   },
   "outputs": [
    {
     "data": {
      "image/png": "[encoded data removed]",
      "text/plain": [
       "<Figure size 720x360 with 1 Axes>"
      ]
     },
     "metadata": {
      "needs_background": "light"
     },
     "output_type": "display_data"
    }
   ],
   "source": [
    "\n",
    "year_of_apperiance = df.groupby(df['GENRE_ESPECE']).ANNEEDEPLANTATION.min()\n",
    "\n",
    "nb_new_year = year_of_apperiance.value_counts()\n",
    "\n",
    "ax = nb_new_year.plot.bar(figsize = (10,5))\n",
    "ax.set_xlabel('year')\n",
    "ax.set_ylabel(\"nb de nouvelles especes\")\n",
    "plt.show()"
   ]
  },
  {
   "cell_type": "code",
   "execution_count": 68,
   "metadata": {
    "slideshow": {
     "slide_type": "subslide"
    }
   },
   "outputs": [
    {
     "data": {
      "image/png": "[encoded data removed]",
      "text/plain": [
       "<Figure size 720x360 with 1 Axes>"
      ]
     },
     "metadata": {
      "needs_background": "light"
     },
     "output_type": "display_data"
    }
   ],
   "source": [
    "\n",
    "nb_new_year = year_of_apperiance.value_counts().sort_index()\n",
    "ax = nb_new_year.plot.bar(figsize = (10,5))\n",
    "ax.set_xlabel('year')\n",
    "ax.set_ylabel(\"nb de nouvelles especes\")\n",
    "plt.show()"
   ]
  },
  {
   "cell_type": "markdown",
   "metadata": {
    "slideshow": {
     "slide_type": "slide"
    }
   },
   "source": [
    "### total number of especes par annees \n"
   ]
  },
  {
   "cell_type": "code",
   "execution_count": 70,
   "metadata": {
    "slideshow": {
     "slide_type": "fragment"
    }
   },
   "outputs": [
    {
     "data": {
      "image/png": "[encoded data removed]",
      "text/plain": [
       "<Figure size 720x360 with 1 Axes>"
      ]
     },
     "metadata": {
      "needs_background": "light"
     },
     "output_type": "display_data"
    }
   ],
   "source": [
    "year_num = nb_new_year.sort_index().cumsum()\n",
    "\n",
    "ax = year_num.plot.bar(figsize = (10,5))\n",
    "ax.set_xlabel('year')\n",
    "ax.set_ylabel(\"nb d'especes\")\n",
    "plt.show()\n",
    "\n"
   ]
  },
  {
   "cell_type": "markdown",
   "metadata": {
    "slideshow": {
     "slide_type": "slide"
    }
   },
   "source": [
    "## Especes desirées / non-desirées"
   ]
  },
  {
   "cell_type": "code",
   "execution_count": 54,
   "metadata": {
    "slideshow": {
     "slide_type": "-"
    }
   },
   "outputs": [],
   "source": [
    "list_genre_non_desiree = ['Aesculus',\n",
    "                          'Fraxinus',\n",
    "                          'Platanus',\n",
    "                           'Betula',\n",
    "                          'Castanea',\n",
    "                          'Cupressus',\n",
    "                          'Olea' ]\n",
    "\n",
    "\n",
    "list_especes_non_desiree2 = [ 'Acer saccharinum', \n",
    "                            'Albizzia julibrissin',\n",
    "                            'Catalpa bignonoides',\n",
    "                            'Ginkgo biloba',\n",
    "                            'Gleditsia triacanthos',\n",
    "                            'Koelreuteria paniculata',\n",
    "                            'Laburnum anagyroides',\n",
    "                            'Paulownia tomentosa',\n",
    "                            'Prunus pissardi',\n",
    "                            'Sophora japonica',\n",
    "                            'Acer palmatum',\n",
    "                            'Acer pseudoplatanus',\n",
    "                           'Cryptomeria japonica',\n",
    "                            'Davidia involucrata',\n",
    "                           'Fagus sylvatica',\n",
    "                           'Juglans nigra',\n",
    "                           'Juglans ailantifolia',\n",
    "                            'Liriodendron tulipifera',\n",
    "                           'Magnolia grandiflora',\n",
    "                           'Nerium oleander',\n",
    "                           'Picea abies', \n",
    "                           'Populus alba',\n",
    "                           'Quercus bicolor',\n",
    "                           'Quercus macrocarpa',\n",
    "                           'Quercus nigra',\n",
    "                           'Quercus rubra',\n",
    "                           'Quercus alba',\n",
    "                           'Salix alba',\n",
    "                           'Salix gracolistyla',\n",
    "                           'Salix daphnoides',\n",
    "                           'Salix cinerea',\n",
    "                           'Salix arenaria',\n",
    "                           'Salix acutifolia',\n",
    "                           'Sorbus aucuparia',\n",
    "                           'Ailanthus altissima',\n",
    "                            'Robinia pseudoacacia',\n",
    "                            'Acer negundo',\n",
    "                            'Acer platanoides', \n",
    "                            'Acer pseudoplatanus'   \n",
    "                            ]"
   ]
  },
  {
   "cell_type": "markdown",
   "metadata": {
    "slideshow": {
     "slide_type": "subslide"
    }
   },
   "source": [
    "### Creation d'un nouveau DataFrame"
   ]
  },
  {
   "cell_type": "code",
   "execution_count": 56,
   "metadata": {
    "slideshow": {
     "slide_type": "fragment"
    }
   },
   "outputs": [],
   "source": [
    "col_new = ['GENRE_BOTA', 'GENRE_ESPECE', 'ANNEEDEPLANTATION' ]\n",
    "df1 = df[col_new].copy().dropna()\n"
   ]
  },
  {
   "cell_type": "markdown",
   "metadata": {
    "slideshow": {
     "slide_type": "subslide"
    }
   },
   "source": [
    "### Ajouter dans mon dataframe information si l'arbre est desirée / non-desirée\n",
    "\n",
    "ajouter une colonne qui contient l'année annees si l'arbre est desirée sinon NaN"
   ]
  },
  {
   "cell_type": "code",
   "execution_count": 57,
   "metadata": {
    "slideshow": {
     "slide_type": "fragment"
    }
   },
   "outputs": [],
   "source": [
    "df1['ESP_NON_DES'] = df1.ANNEEDEPLANTATION[df1.GENRE_BOTA.isin(list_genre_non_desiree)  | df1.GENRE_ESPECE.isin(list_especes_non_desiree2)]\n"
   ]
  },
  {
   "cell_type": "markdown",
   "metadata": {
    "slideshow": {
     "slide_type": "fragment"
    }
   },
   "source": [
    "ajouter une colonne qui contient l'année annees si l'arbre non est desirée sinon NaN"
   ]
  },
  {
   "cell_type": "code",
   "execution_count": 71,
   "metadata": {
    "slideshow": {
     "slide_type": "fragment"
    }
   },
   "outputs": [],
   "source": [
    "df1['ESP_DES'] = df1.ANNEEDEPLANTATION[~df1.GENRE_BOTA.isin(list_genre_non_desiree) & ~df1.GENRE_ESPECE.isin(list_especes_non_desiree2)]\n",
    "\n"
   ]
  },
  {
   "cell_type": "markdown",
   "metadata": {
    "slideshow": {
     "slide_type": "subslide"
    }
   },
   "source": [
    "## Creer un plot qui montre le nombre des especes desirée / non-desirée par annee "
   ]
  },
  {
   "cell_type": "code",
   "execution_count": 59,
   "metadata": {
    "slideshow": {
     "slide_type": "fragment"
    }
   },
   "outputs": [
    {
     "data": {
      "image/png": "[encoded data removed]",
      "text/plain": [
       "<Figure size 1080x360 with 1 Axes>"
      ]
     },
     "metadata": {
      "needs_background": "light"
     },
     "output_type": "display_data"
    }
   ],
   "source": [
    "dfplot = pd.concat([df1['ESP_NON_DES'].value_counts().sort_index()\n",
    "                    ,df1['ESP_DES'].value_counts().sort_index()], axis=1)\n",
    "\n",
    "ax = dfplot.plot.bar(figsize = (15,5))\n",
    "ax.set_xlabel('year')\n",
    "ax.set_ylabel(\"nb d'arbres plantés\")\n",
    "\n",
    "ax.legend()\n",
    "plt.show()"
   ]
  }
 ],
 "metadata": {
  "celltoolbar": "Slideshow",
  "kernelspec": {
   "display_name": "Python 3",
   "language": "python",
   "name": "python3"
  },
  "language_info": {
   "codemirror_mode": {
    "name": "ipython",
    "version": 3
   },
   "file_extension": ".py",
   "mimetype": "text/x-python",
   "name": "python",
   "nbconvert_exporter": "python",
   "pygments_lexer": "ipython3",
   "version": "3.7.4"
  }
 },
 "nbformat": 4,
 "nbformat_minor": 2
}
